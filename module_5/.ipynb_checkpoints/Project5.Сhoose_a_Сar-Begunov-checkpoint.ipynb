{
 "cells": [
  {
   "cell_type": "markdown",
   "metadata": {},
   "source": [
    "# Итоговое задание по Проекту 5. Выбираем авто выгодно\n",
    "\n",
    "### В этом соревновании предстоит построить модель, которая будет прогнозировать стоимость автомобиля по его характеристикам. \n",
    "### Задание выполнил Бегунов Павел (DST-56)\n",
    "\n",
    "<img src=\"https://whatcar.vn/media/2018/09/car-lot-940x470.jpg\"/>"
   ]
  },
  {
   "cell_type": "markdown",
   "metadata": {},
   "source": [
    "# Импорт библиотек"
   ]
  },
  {
   "cell_type": "code",
   "execution_count": null,
   "metadata": {
    "_cell_guid": "b1076dfc-b9ad-4769-8c92-a6c4dae69d19",
    "_uuid": "8f2839f25d086af736a60e9eeb907d3b93b6e0e5",
    "execution": {
     "iopub.execute_input": "2021-10-10T14:46:51.685125Z",
     "iopub.status.busy": "2021-10-10T14:46:51.684566Z",
     "iopub.status.idle": "2021-10-10T14:46:51.713084Z",
     "shell.execute_reply": "2021-10-10T14:46:51.71146Z",
     "shell.execute_reply.started": "2021-10-10T14:46:51.68506Z"
    },
    "papermill": {
     "duration": 1.219772,
     "end_time": "2020-10-26T12:46:42.581597",
     "exception": false,
     "start_time": "2020-10-26T12:46:41.361825",
     "status": "completed"
    },
    "tags": []
   },
   "outputs": [],
   "source": [
    "import pandas as pd\n",
    "import numpy as np\n",
    "import matplotlib.pyplot as plt\n",
    "import seaborn as sns\n",
    "import sys\n",
    "import re\n",
    "\n",
    "from datetime import datetime\n",
    "\n",
    "from sklearn.model_selection import train_test_split, KFold, GridSearchCV\n",
    "from sklearn.preprocessing import LabelEncoder, OneHotEncoder, StandardScaler, RobustScaler\n",
    "from sklearn.feature_selection import f_classif, mutual_info_classif\n",
    "from sklearn.decomposition import PCA\n",
    "\n",
    "from tqdm.notebook import tqdm\n",
    "\n",
    "from sklearn.linear_model import LinearRegression\n",
    "from sklearn.ensemble import RandomForestRegressor, ExtraTreesRegressor\n",
    "from sklearn.neighbors import KNeighborsRegressor\n",
    "from catboost import CatBoostRegressor\n",
    "import xgboost as xgb\n",
    "\n",
    "from sklearn.ensemble import GradientBoostingRegressor\n",
    "\n",
    "from sklearn.base import clone\n",
    "\n",
    "import warnings\n",
    "warnings.filterwarnings('ignore')\n",
    "\n",
    "%matplotlib inline\n",
    "pd.set_option('display.max_columns', 50)"
   ]
  },
  {
   "cell_type": "code",
   "execution_count": null,
   "metadata": {
    "_kg_hide-input": true,
    "execution": {
     "iopub.execute_input": "2021-10-10T14:46:51.717467Z",
     "iopub.status.busy": "2021-10-10T14:46:51.716908Z",
     "iopub.status.idle": "2021-10-10T14:46:54.05842Z",
     "shell.execute_reply": "2021-10-10T14:46:54.056824Z",
     "shell.execute_reply.started": "2021-10-10T14:46:51.717397Z"
    },
    "papermill": {
     "duration": 5.172536,
     "end_time": "2020-10-26T12:46:47.852593",
     "exception": false,
     "start_time": "2020-10-26T12:46:42.680057",
     "status": "completed"
    },
    "tags": []
   },
   "outputs": [],
   "source": [
    "# Зафиксируем RANDOM_SEED, чтобы эксперименты были воспроизводимы:\n",
    "RANDOM_SEED = 42\n",
    "# Зафиксируем версию пакетов, чтобы эксперименты были воспроизводимы:\n",
    "!pip freeze > requirements.txt\n",
    "# Укажем текущую версию ноутбука:\n",
    "VERSION = 3"
   ]
  },
  {
   "cell_type": "markdown",
   "metadata": {},
   "source": [
    " # Предобработка"
   ]
  },
  {
   "cell_type": "code",
   "execution_count": null,
   "metadata": {
    "_kg_hide-input": true,
    "execution": {
     "iopub.execute_input": "2021-10-10T14:46:54.061332Z",
     "iopub.status.busy": "2021-10-10T14:46:54.060923Z",
     "iopub.status.idle": "2021-10-10T14:46:54.108585Z",
     "shell.execute_reply": "2021-10-10T14:46:54.106813Z",
     "shell.execute_reply.started": "2021-10-10T14:46:54.061295Z"
    }
   },
   "outputs": [],
   "source": [
    "def rename_columns(df):\n",
    "    new_column_names = df.rename(columns={'bodyType': 'body_type',\n",
    "                                          'engineDisplacement': 'engine_displacement',\n",
    "                                          'enginePower': 'engine_power',\n",
    "                                          'fuelType': 'fuel_type',\n",
    "                                          'modelDate': 'model_date',\n",
    "                                          'model': 'model_name',\n",
    "                                          'numberOfDoors': 'number_of_doors',\n",
    "                                          'priceCurrency': 'price_currency',\n",
    "                                          'productionDate': 'production_date',\n",
    "                                          'vehicleConfiguration': 'vehicle_configuration',\n",
    "                                          'vehicleTransmission': 'vehicle_transmission',\n",
    "                                          'Комплектация': 'complectation_dict',\n",
    "                                          'Владельцы': 'owners',\n",
    "                                          'Владение': 'ownership_time',\n",
    "                                          'ПТС': 'vehicle_passport',\n",
    "                                          'Привод': 'drive_unit',\n",
    "                                          'Руль': 'rudder_side',\n",
    "                                          'Состояние': 'status',\n",
    "                                          'Таможня': 'customs'\n",
    "                                          }, inplace=True)\n",
    "    return new_column_names\n",
    "\n",
    "\n",
    "def reduce_mem_usage(df, verbose=True):\n",
    "    '''\n",
    "    Function allows to reduce memory usage. \n",
    "    '''\n",
    "    numerics = ['int16', 'int32', 'int64', 'float16', 'float32', 'float64']\n",
    "    start_mem = df.memory_usage(deep=True).sum() / 1024**2\n",
    "    for column in df.columns:\n",
    "        col_type = df[column].dtypes\n",
    "        if col_type in numerics:\n",
    "            c_min = df[column].min()\n",
    "            c_max = df[column].max()\n",
    "            if str(col_type)[:3] == 'int':\n",
    "                if c_min > np.iinfo(np.int8).min and c_max < np.iinfo(np.int8).max:\n",
    "                    df[column] = df[column].astype(np.int8)\n",
    "                elif c_min > np.iinfo(np.int16).min and c_max < np.iinfo(np.int16).max:\n",
    "                    df[column] = df[column].astype(np.int16)\n",
    "                elif c_min > np.iinfo(np.int32).min and c_max < np.iinfo(np.int32).max:\n",
    "                    df[column] = df[column].astype(np.int32)\n",
    "                elif c_min > np.iinfo(np.int64).min and c_max < np.iinfo(np.int64).max:\n",
    "                    df[column] = df[column].astype(np.int64)\n",
    "            else:\n",
    "                c_prec = df[column].apply(lambda x: np.finfo(x).precision).max()\n",
    "                if c_min > np.finfo(np.float32).min and c_max < np.finfo(np.float32).max and c_prec == np.finfo(np.float32).precision:\n",
    "                    df[column] = df[column].astype(np.float32)\n",
    "                else:\n",
    "                    df[column] = df[column].astype(np.float64)\n",
    "    end_mem = df.memory_usage(deep=True).sum() / 1024**2\n",
    "    if verbose: \n",
    "        print(f'Memory usage decreased to {end_mem:5.2f} Mb ({100 * (start_mem - end_mem) / start_mem:.1f}% reduction)')\n",
    "    return df.sample(5)\n",
    "\n",
    "\n",
    "def missing_data(df):\n",
    "    '''\n",
    "    The function displays the number and percentage of skips for each column.\n",
    "    '''\n",
    "    for column in df.columns:\n",
    "        missing = df[column].isnull().sum()\n",
    "        percent_of_missing = np.mean(df[column].isnull())\n",
    "        if missing > 0:\n",
    "            print(f'{column} - {missing} value(s), {percent_of_missing*100:.2f}%')\n",
    "\n",
    "\n",
    "def duplicate_data(df):\n",
    "    '''\n",
    "    The function displays the number of duplicates for each column.\n",
    "    '''\n",
    "    if len(df) > len(df.drop_duplicates()):\n",
    "        display(df[df.duplicated()].head(3))\n",
    "        print(f'{df[df.duplicated()].shape[0]} duplicate(s) were found')\n",
    "    else:\n",
    "        print(f'Duplicates not found')\n",
    "\n",
    "\n",
    "def IQR_outlier(df, column, mode='analysis', verbose=True):\n",
    "    '''\n",
    "    Displays and returns the boundaries of the interquartile range.\n",
    "    \n",
    "    Parameters\n",
    "    ----------\n",
    "    df : DataFrame\n",
    "        Two-dimensional, size-mutable, potentially heterogeneous tabular data.\n",
    "    \n",
    "    column : column : index\n",
    "        Column labels to use for dataframe.\n",
    "    \n",
    "    mode: string, optional (default='analysis')\n",
    "        Interquartile range analysis mode.\n",
    "        * If 'analysis',then displays the name of the feature, interquartile range,\n",
    "        the boundaries of outliers, their amount and what percentage of outliers in the sample.\n",
    "        * If 'correction', then returns the low and high bound for the outliers. \n",
    "    \n",
    "    verbose: bool, optional (default=True)\n",
    "        Controls the verbosity of the interquartile range analysis. \n",
    "    '''\n",
    "    perc25 = np.percentile(df[column], 25, axis=0)\n",
    "    perc75 = np.percentile(df[column], 75, axis=0)\n",
    "    IQR = perc75 - perc25\n",
    "    low = perc25 - 1.5*IQR\n",
    "    high = perc75 + 1.5*IQR\n",
    "    anomaly = len(df[df[column] > high]) + \\\n",
    "        len(df[df[column] < low])\n",
    "    if verbose:\n",
    "        if mode == 'analysis':\n",
    "            print(f'Наименование признака: {column}')\n",
    "            print('25-й перцентиль: {},'.format(perc25)[:-1], '75-й перцентиль: {},'.format(perc75),\n",
    "            'IQR: {}, '.format(IQR), 'Границы выбросов: [{f}, {l}].'.format(f=low, l=high))\n",
    "            print(f'Выбросов, согласно IQR: {anomaly} | {anomaly/len(df):2.2%}')\n",
    "        elif mode == 'correction':\n",
    "            return low, high\n",
    "\n",
    "\n",
    "def get_log(df, column):\n",
    "    '''\n",
    "    Function for logarithm of a feature.\n",
    "    '''\n",
    "    return df[column].apply(lambda x: np.log(x + 1))\n",
    "        \n",
    "        \n",
    "def mape(y_true, y_pred):\n",
    "    return np.mean(np.abs((y_pred - y_true) / y_true))"
   ]
  },
  {
   "cell_type": "markdown",
   "metadata": {},
   "source": [
    "# Импорт данных"
   ]
  },
  {
   "cell_type": "code",
   "execution_count": null,
   "metadata": {
    "execution": {
     "iopub.execute_input": "2021-10-10T14:46:54.110723Z",
     "iopub.status.busy": "2021-10-10T14:46:54.110248Z",
     "iopub.status.idle": "2021-10-10T14:46:54.133762Z",
     "shell.execute_reply": "2021-10-10T14:46:54.131754Z",
     "shell.execute_reply.started": "2021-10-10T14:46:54.110676Z"
    }
   },
   "outputs": [],
   "source": [
    "DIR_TRAIN = '../input/parsing-all-moscow-auto-ru-09-09-2020/' \n",
    "DIR_TEST = '../input/sf-dst-car-price-prediction/'"
   ]
  },
  {
   "cell_type": "code",
   "execution_count": null,
   "metadata": {
    "execution": {
     "iopub.execute_input": "2021-10-10T14:46:54.137758Z",
     "iopub.status.busy": "2021-10-10T14:46:54.137348Z",
     "iopub.status.idle": "2021-10-10T14:47:00.424479Z",
     "shell.execute_reply": "2021-10-10T14:47:00.423309Z",
     "shell.execute_reply.started": "2021-10-10T14:46:54.137722Z"
    }
   },
   "outputs": [],
   "source": [
    "!ls '../input'\n",
    "# тренировочный датасет(train, используется для обучения модели)\n",
    "train = pd.read_csv(DIR_TRAIN + 'all_auto_ru_09_09_2020.csv') \n",
    "rename_columns(train)\n",
    "# тестовый датасет(test, используется для оценки точности модели)\n",
    "test = pd.read_csv(DIR_TEST + 'test.csv')\n",
    "rename_columns(test)\n",
    "sample_submission = pd.read_csv(DIR_TEST + 'sample_submission.csv')"
   ]
  },
  {
   "cell_type": "code",
   "execution_count": null,
   "metadata": {
    "execution": {
     "iopub.execute_input": "2021-10-10T14:47:00.429537Z",
     "iopub.status.busy": "2021-10-10T14:47:00.428819Z",
     "iopub.status.idle": "2021-10-10T14:47:00.511852Z",
     "shell.execute_reply": "2021-10-10T14:47:00.510921Z",
     "shell.execute_reply.started": "2021-10-10T14:47:00.429493Z"
    }
   },
   "outputs": [],
   "source": [
    "display(train.head())\n",
    "display(test.head())\n",
    "display(sample_submission.head())"
   ]
  },
  {
   "cell_type": "markdown",
   "metadata": {},
   "source": [
    "# Обзор данных\n",
    "### Полученный тренировочный датасет состоит из двадцати шести столбцов, содержащих следующую информацию:\n",
    "* body_type: тип корпуса автомобиля;\n",
    "* brand: марка автомобиля;\n",
    "* color: цвет автомобиля;\n",
    "* complectation_dict: комплектация;\n",
    "* customs: таможня;\n",
    "* description: описание;\n",
    "* drive_unit: привод;\n",
    "* engine_displacement: объем двигателя;\n",
    "* engine_power: мощность двигателя;\n",
    "* fuel_type: тип топлива;\n",
    "* hidden: скрытая информация;\n",
    "* mileage: пробег автомобиля;\n",
    "* model_name: название модели;\n",
    "* model_date: дата начала производства модели;\n",
    "* name: название в каталоге;\n",
    "* number_of_doors: количество дверей; \n",
    "* owners: количество владельцев;\n",
    "* ownership_time: время владения данной моделью автомобиля;\n",
    "* price: цена автомобиля;\n",
    "* production_date: дата производства автомобиля;\n",
    "* rudder_side: параметр, указывающий на какой стороне автомобиля находится руль;\n",
    "* start_date: дата добавления объявления;\n",
    "* status: состояние автомобиля; \n",
    "* vehicle_сonfiguration: конфигурация автомобиля;\n",
    "* vehicle_passport: паспорт транспортного средства;\n",
    "* vehicle_transmission: трансмиссия.\n",
    "\n",
    "### Признаки из тестового датасета, которых нет в тренировочном:\n",
    "* car_url: ссылка на объявление;\n",
    "* equipment_dict: оборудование;\n",
    "* image: фотография автомобиля;\n",
    "* model_info: информация о модели;\n",
    "* parsing_unixtime: время получения данных;\n",
    "* price_currency: в какой валюте указана цена;\n",
    "* super_gen: сводка;\n",
    "* vendor: продавец."
   ]
  },
  {
   "cell_type": "code",
   "execution_count": null,
   "metadata": {
    "execution": {
     "iopub.execute_input": "2021-10-10T14:47:00.514307Z",
     "iopub.status.busy": "2021-10-10T14:47:00.513539Z",
     "iopub.status.idle": "2021-10-10T14:47:00.522843Z",
     "shell.execute_reply": "2021-10-10T14:47:00.520912Z",
     "shell.execute_reply.started": "2021-10-10T14:47:00.514257Z"
    }
   },
   "outputs": [],
   "source": [
    "print(f'Размер датасета для обучения: {train.shape}')\n",
    "print(f'Размер датасета для тестирования: {test.shape}')"
   ]
  },
  {
   "cell_type": "code",
   "execution_count": null,
   "metadata": {
    "execution": {
     "iopub.execute_input": "2021-10-10T14:47:00.525422Z",
     "iopub.status.busy": "2021-10-10T14:47:00.524972Z",
     "iopub.status.idle": "2021-10-10T14:47:01.188383Z",
     "shell.execute_reply": "2021-10-10T14:47:01.187199Z",
     "shell.execute_reply.started": "2021-10-10T14:47:00.525386Z"
    }
   },
   "outputs": [],
   "source": [
    "# Проверим данные на наличие пропусков:\n",
    "missing_data(train)\n",
    "print('====' * 10)\n",
    "missing_data(test)"
   ]
  },
  {
   "cell_type": "code",
   "execution_count": null,
   "metadata": {
    "execution": {
     "iopub.execute_input": "2021-10-10T14:47:01.190603Z",
     "iopub.status.busy": "2021-10-10T14:47:01.190097Z",
     "iopub.status.idle": "2021-10-10T14:47:03.366876Z",
     "shell.execute_reply": "2021-10-10T14:47:03.365356Z",
     "shell.execute_reply.started": "2021-10-10T14:47:01.19055Z"
    }
   },
   "outputs": [],
   "source": [
    "# Проверим данные на наличие дубликатов:\n",
    "duplicate_data(train)\n",
    "print('====' * 10)\n",
    "duplicate_data(test)"
   ]
  },
  {
   "cell_type": "code",
   "execution_count": null,
   "metadata": {
    "execution": {
     "iopub.execute_input": "2021-10-10T14:47:03.368727Z",
     "iopub.status.busy": "2021-10-10T14:47:03.368301Z",
     "iopub.status.idle": "2021-10-10T14:47:03.378683Z",
     "shell.execute_reply": "2021-10-10T14:47:03.376118Z",
     "shell.execute_reply.started": "2021-10-10T14:47:03.368692Z"
    }
   },
   "outputs": [],
   "source": [
    "# Посмотрим из каких признаков состоят датасеты:\n",
    "print(f'Number of train features = {len(train.columns)}:\\n{sorted(train.columns)}')\n",
    "print()\n",
    "print(f'Number of test features = {len(test.columns)}:\\n{sorted(test.columns)}')"
   ]
  },
  {
   "cell_type": "code",
   "execution_count": null,
   "metadata": {
    "execution": {
     "iopub.execute_input": "2021-10-10T14:47:03.381046Z",
     "iopub.status.busy": "2021-10-10T14:47:03.380631Z",
     "iopub.status.idle": "2021-10-10T14:47:03.837123Z",
     "shell.execute_reply": "2021-10-10T14:47:03.835531Z",
     "shell.execute_reply.started": "2021-10-10T14:47:03.381013Z"
    }
   },
   "outputs": [],
   "source": [
    "# Посмотрим какие типы признаков у нас могут быть:\n",
    "train.nunique(dropna=False)"
   ]
  },
  {
   "cell_type": "code",
   "execution_count": null,
   "metadata": {
    "execution": {
     "iopub.execute_input": "2021-10-10T14:47:03.840246Z",
     "iopub.status.busy": "2021-10-10T14:47:03.839829Z",
     "iopub.status.idle": "2021-10-10T14:47:04.135231Z",
     "shell.execute_reply": "2021-10-10T14:47:04.133364Z",
     "shell.execute_reply.started": "2021-10-10T14:47:03.840213Z"
    }
   },
   "outputs": [],
   "source": [
    "test.nunique(dropna=False)"
   ]
  },
  {
   "cell_type": "markdown",
   "metadata": {},
   "source": [
    "#### Резюме: \n",
    "* изначально в тренировочном наборе данных представлено **26** признаков, а в тестовом - **32**;\n",
    "* некоторые признаки, такие как: **\"hidden\", \"start_date\"**, **\"price\"**, есть только в тренировочных данных. Признаки: **\"car_url\"**, **\"equipment_dict\"**, **\"image\"**, **\"model_info\"**, **\"parsing_unixtime\"**, **\"price_currency\"**, **\"sell_id\"**, **\"vendor\"**, **\"super_gen\"** присутствуют только в тестовых данных. Детально рассмотрим данные, после чего можно будет принять решение что делать с признаками;\n",
    "* в обоих датасетах присутствуют пропуски. Признаки **\"status\"** и **\"hidden\"** в тренировочном наборе данных имеют **100%** пропущенных значений и подлежат удалению, так же как и **\"ownership_time\"**, который имеет **67.33%** пропусков. В тестовом наборе данных признаки **\"complectation_dict\"**, **\"ownership_time\"** имеют **81.50%** и **65.42%** пропущенных значений, соответственно, и подлежат удалению. Действия над другими признаками, имеющими пропуски, будут осуществляться при их детальном рассмотрении;\n",
    "* в тренировочных данных есть дуликаты от которых придется избавиться;\n",
    "* признак **\"price\"** является целевой переменной. Из обзора видно, что в данном признаке есть **410 (0,46%)** пропущенных значений, от которых нужно избавиться.  \n",
    "* В качестве оценки качества модели используется **MAPE** (средний абсолютный процент ошибки), таким образом в результате работы необходимо получить наименьшее значение **MAPE**."
   ]
  },
  {
   "cell_type": "markdown",
   "metadata": {
    "papermill": {
     "duration": 0.030254,
     "end_time": "2020-10-26T12:46:48.112586",
     "exception": false,
     "start_time": "2020-10-26T12:46:48.082332",
     "status": "completed"
    },
    "tags": []
   },
   "source": [
    "# Предварительная обработка данных\n",
    "## Обработка пропущенных и дублированных значений"
   ]
  },
  {
   "cell_type": "code",
   "execution_count": null,
   "metadata": {
    "execution": {
     "iopub.execute_input": "2021-10-10T14:47:04.137847Z",
     "iopub.status.busy": "2021-10-10T14:47:04.137491Z",
     "iopub.status.idle": "2021-10-10T14:47:04.444181Z",
     "shell.execute_reply": "2021-10-10T14:47:04.443051Z",
     "shell.execute_reply.started": "2021-10-10T14:47:04.137816Z"
    }
   },
   "outputs": [],
   "source": [
    "# Рассмотрим признак complectation_dict, который в тестовом наборе данных имеет 81.50% пропусков:\n",
    "print(f'Значений вида {train[\"complectation_dict\"].unique()[0]}: \\\n",
    "{train[\"complectation_dict\"].value_counts(normalize=True)[0]:.2%}')"
   ]
  },
  {
   "cell_type": "code",
   "execution_count": null,
   "metadata": {
    "execution": {
     "iopub.execute_input": "2021-10-10T14:47:04.446324Z",
     "iopub.status.busy": "2021-10-10T14:47:04.445963Z",
     "iopub.status.idle": "2021-10-10T14:47:04.472121Z",
     "shell.execute_reply": "2021-10-10T14:47:04.469683Z",
     "shell.execute_reply.started": "2021-10-10T14:47:04.446293Z"
    }
   },
   "outputs": [],
   "source": [
    "# Рассмотрим признак status, который в тренировочном наборе наборе данных имеет 100% пропусков:\n",
    "test['status'].value_counts(normalize=True)"
   ]
  },
  {
   "cell_type": "markdown",
   "metadata": {},
   "source": [
    "* Признак **\"complectation_dict\"** имеет **66,16%** значений, которые по сути является пропусками;\n",
    "* Признак **\"status\"** имеет только одно значение **\"Не требует ремонта\"**, поэтому является не информативным."
   ]
  },
  {
   "cell_type": "code",
   "execution_count": null,
   "metadata": {
    "execution": {
     "iopub.execute_input": "2021-10-10T14:47:04.47437Z",
     "iopub.status.busy": "2021-10-10T14:47:04.47393Z",
     "iopub.status.idle": "2021-10-10T14:47:04.531129Z",
     "shell.execute_reply": "2021-10-10T14:47:04.529597Z",
     "shell.execute_reply.started": "2021-10-10T14:47:04.474335Z"
    }
   },
   "outputs": [],
   "source": [
    "# Удалим признаки, где количество пропущенных значений больше 50%:\n",
    "train.drop(columns=['status', 'hidden', 'ownership_time', 'complectation_dict'], axis=1, inplace=True)\n",
    "test.drop(columns=['status', 'ownership_time', 'complectation_dict'], axis=1, inplace=True)"
   ]
  },
  {
   "cell_type": "code",
   "execution_count": null,
   "metadata": {
    "execution": {
     "iopub.execute_input": "2021-10-10T14:47:04.533753Z",
     "iopub.status.busy": "2021-10-10T14:47:04.53335Z",
     "iopub.status.idle": "2021-10-10T14:47:04.574939Z",
     "shell.execute_reply": "2021-10-10T14:47:04.573378Z",
     "shell.execute_reply.started": "2021-10-10T14:47:04.533719Z"
    }
   },
   "outputs": [],
   "source": [
    "# Рассмотрим признак body_type на предмет пропусков:\n",
    "train[train['body_type'].isna() == True]"
   ]
  },
  {
   "cell_type": "code",
   "execution_count": null,
   "metadata": {
    "execution": {
     "iopub.execute_input": "2021-10-10T14:47:04.577647Z",
     "iopub.status.busy": "2021-10-10T14:47:04.577122Z",
     "iopub.status.idle": "2021-10-10T14:47:04.619853Z",
     "shell.execute_reply": "2021-10-10T14:47:04.618841Z",
     "shell.execute_reply.started": "2021-10-10T14:47:04.577597Z"
    }
   },
   "outputs": [],
   "source": [
    "train.drop(train.index[[24624]], inplace=True)"
   ]
  },
  {
   "cell_type": "markdown",
   "metadata": {},
   "source": [
    "* Видно, что данное объявление практически не заполнено, поэтому было принято решение его удалить."
   ]
  },
  {
   "cell_type": "code",
   "execution_count": null,
   "metadata": {
    "execution": {
     "iopub.execute_input": "2021-10-10T14:47:04.622141Z",
     "iopub.status.busy": "2021-10-10T14:47:04.621684Z",
     "iopub.status.idle": "2021-10-10T14:47:04.635919Z",
     "shell.execute_reply": "2021-10-10T14:47:04.634767Z",
     "shell.execute_reply.started": "2021-10-10T14:47:04.622094Z"
    }
   },
   "outputs": [],
   "source": [
    "# Рассмотрим признак owners, который имеет 13.81% пропусков в тренировочном наборе данных:\n",
    "train['owners'].value_counts(dropna=False)"
   ]
  },
  {
   "cell_type": "code",
   "execution_count": null,
   "metadata": {
    "execution": {
     "iopub.execute_input": "2021-10-10T14:47:04.638193Z",
     "iopub.status.busy": "2021-10-10T14:47:04.637813Z",
     "iopub.status.idle": "2021-10-10T14:47:04.65637Z",
     "shell.execute_reply": "2021-10-10T14:47:04.655103Z",
     "shell.execute_reply.started": "2021-10-10T14:47:04.638159Z"
    }
   },
   "outputs": [],
   "source": [
    "# Проверим на признаке mileage предположение о том, что NaN в owners означает, что автомобиль новый:\n",
    "train[train['mileage'] == 0].shape[0]"
   ]
  },
  {
   "cell_type": "code",
   "execution_count": null,
   "metadata": {
    "execution": {
     "iopub.execute_input": "2021-10-10T14:47:04.65882Z",
     "iopub.status.busy": "2021-10-10T14:47:04.658362Z",
     "iopub.status.idle": "2021-10-10T14:47:04.67721Z",
     "shell.execute_reply": "2021-10-10T14:47:04.674886Z",
     "shell.execute_reply.started": "2021-10-10T14:47:04.658785Z"
    }
   },
   "outputs": [],
   "source": [
    "train['vehicle_condition'] = pd.isna(train['owners']).astype('int8')  # сохраним в тренировочных данных информацию о состоянии автомобилей\n",
    "test['vehicle_condition'] = pd.isna(test['owners']).astype('int8')  # сохраним в тестовых данных информацию о состоянии автомобилей\n",
    "train['owners'].fillna(0, inplace=True)  # заполним пропуски константой"
   ]
  },
  {
   "cell_type": "markdown",
   "metadata": {},
   "source": [
    "* Пропуски в признаке **\"owners\"** количественно соответствуют **0** значениям признака **\"mileage\"**. Что подтверждает предположение о том, что данные автомобили являются новыми. На данном этапе пропуски были заполнены константой. И сохранена информацию о текущем соотоянии автомобиля - признак **\"vehicle_condition\"**, где 1 означает новый автомобиль, 0 - бывший в употреблении)."
   ]
  },
  {
   "cell_type": "code",
   "execution_count": null,
   "metadata": {
    "execution": {
     "iopub.execute_input": "2021-10-10T14:47:04.680276Z",
     "iopub.status.busy": "2021-10-10T14:47:04.679743Z",
     "iopub.status.idle": "2021-10-10T14:47:04.699425Z",
     "shell.execute_reply": "2021-10-10T14:47:04.697964Z",
     "shell.execute_reply.started": "2021-10-10T14:47:04.680225Z"
    }
   },
   "outputs": [],
   "source": [
    "# Рассмотрим признак description, который имеет 3.7% пропусков в тренировочном наборе данных:\n",
    "train['description'].head(5)"
   ]
  },
  {
   "cell_type": "code",
   "execution_count": null,
   "metadata": {
    "execution": {
     "iopub.execute_input": "2021-10-10T14:47:04.701841Z",
     "iopub.status.busy": "2021-10-10T14:47:04.701285Z",
     "iopub.status.idle": "2021-10-10T14:47:04.759057Z",
     "shell.execute_reply": "2021-10-10T14:47:04.757925Z",
     "shell.execute_reply.started": "2021-10-10T14:47:04.701652Z"
    }
   },
   "outputs": [],
   "source": [
    "train.drop('description', axis=1, inplace=True)\n",
    "test.drop('description', axis=1, inplace=True)"
   ]
  },
  {
   "cell_type": "markdown",
   "metadata": {},
   "source": [
    "* Признак **\"description\"** - это описания текущих владельцев автомобилей. На данном этапе данный признак был удален."
   ]
  },
  {
   "cell_type": "code",
   "execution_count": null,
   "metadata": {
    "execution": {
     "iopub.execute_input": "2021-10-10T14:47:04.762118Z",
     "iopub.status.busy": "2021-10-10T14:47:04.761745Z",
     "iopub.status.idle": "2021-10-10T14:47:04.799862Z",
     "shell.execute_reply": "2021-10-10T14:47:04.798802Z",
     "shell.execute_reply.started": "2021-10-10T14:47:04.762084Z"
    }
   },
   "outputs": [],
   "source": [
    "# Рассмотрим признак vehicle_passport, который имеет 0.41% пропусков в тренировочном наборе данных и 1 пропуск в тестовом:\n",
    "train['vehicle_passport'].value_counts(dropna=False)"
   ]
  },
  {
   "cell_type": "code",
   "execution_count": null,
   "metadata": {
    "execution": {
     "iopub.execute_input": "2021-10-10T14:47:04.80197Z",
     "iopub.status.busy": "2021-10-10T14:47:04.801578Z",
     "iopub.status.idle": "2021-10-10T14:47:04.823525Z",
     "shell.execute_reply": "2021-10-10T14:47:04.821872Z",
     "shell.execute_reply.started": "2021-10-10T14:47:04.801936Z"
    }
   },
   "outputs": [],
   "source": [
    "test['vehicle_passport'].value_counts(dropna=False)"
   ]
  },
  {
   "cell_type": "code",
   "execution_count": null,
   "metadata": {
    "execution": {
     "iopub.execute_input": "2021-10-10T14:47:04.825795Z",
     "iopub.status.busy": "2021-10-10T14:47:04.825389Z",
     "iopub.status.idle": "2021-10-10T14:47:04.855035Z",
     "shell.execute_reply": "2021-10-10T14:47:04.853289Z",
     "shell.execute_reply.started": "2021-10-10T14:47:04.825762Z"
    }
   },
   "outputs": [],
   "source": [
    "# Сохраним информацию о пропусках в признаке vehicle_passport:\n",
    "train['absent_documents'] = pd.isna(train['vehicle_passport']).astype('int8')\n",
    "test['absent_documents'] = pd.isna(test['vehicle_passport']).astype('int8')"
   ]
  },
  {
   "cell_type": "code",
   "execution_count": null,
   "metadata": {
    "execution": {
     "iopub.execute_input": "2021-10-10T14:47:04.857828Z",
     "iopub.status.busy": "2021-10-10T14:47:04.857159Z",
     "iopub.status.idle": "2021-10-10T14:47:04.902887Z",
     "shell.execute_reply": "2021-10-10T14:47:04.901537Z",
     "shell.execute_reply.started": "2021-10-10T14:47:04.857697Z"
    }
   },
   "outputs": [],
   "source": [
    "# Заполним пропуски наиболее часто встречающимися значениями:\n",
    "train_mode = train['vehicle_passport'].mode()\n",
    "train['vehicle_passport'].fillna(train_mode[0], inplace=True)\n",
    "test_mode = test['vehicle_passport'].mode()\n",
    "test['vehicle_passport'].fillna(test_mode[0], inplace=True)"
   ]
  },
  {
   "cell_type": "markdown",
   "metadata": {},
   "source": [
    "* Пропуски в данных о наличии паспорта транспортного средства были заполнены наиболее часто встречающимися значениями. Однако информация о пропусках была сохранена, так как есть вероятность, что документов на автомобиль попросту нет."
   ]
  },
  {
   "cell_type": "code",
   "execution_count": null,
   "metadata": {
    "execution": {
     "iopub.execute_input": "2021-10-10T14:47:04.905452Z",
     "iopub.status.busy": "2021-10-10T14:47:04.904934Z",
     "iopub.status.idle": "2021-10-10T14:47:04.916388Z",
     "shell.execute_reply": "2021-10-10T14:47:04.915491Z",
     "shell.execute_reply.started": "2021-10-10T14:47:04.905385Z"
    }
   },
   "outputs": [],
   "source": [
    "# Рассмотрим признак equipment_dict, который имеет 28.82% пропусков в тестовом набое данных:\n",
    "test['equipment_dict'][0]"
   ]
  },
  {
   "cell_type": "code",
   "execution_count": null,
   "metadata": {
    "execution": {
     "iopub.execute_input": "2021-10-10T14:47:04.918475Z",
     "iopub.status.busy": "2021-10-10T14:47:04.917888Z",
     "iopub.status.idle": "2021-10-10T14:47:04.948779Z",
     "shell.execute_reply": "2021-10-10T14:47:04.947739Z",
     "shell.execute_reply.started": "2021-10-10T14:47:04.9184Z"
    }
   },
   "outputs": [],
   "source": [
    "test.drop('equipment_dict', axis=1, inplace=True)"
   ]
  },
  {
   "cell_type": "markdown",
   "metadata": {},
   "source": [
    "* Признак **\"equipment_dict\"** был удален ввиду его отсутствия в тренировочном датасете."
   ]
  },
  {
   "cell_type": "code",
   "execution_count": null,
   "metadata": {
    "execution": {
     "iopub.execute_input": "2021-10-10T14:47:04.953741Z",
     "iopub.status.busy": "2021-10-10T14:47:04.953025Z",
     "iopub.status.idle": "2021-10-10T14:47:04.983135Z",
     "shell.execute_reply": "2021-10-10T14:47:04.982063Z",
     "shell.execute_reply.started": "2021-10-10T14:47:04.95369Z"
    }
   },
   "outputs": [],
   "source": [
    "# Удалим пропуски в целевой переменной:\n",
    "train.dropna(subset=['price'], inplace=True)"
   ]
  },
  {
   "cell_type": "code",
   "execution_count": null,
   "metadata": {
    "execution": {
     "iopub.execute_input": "2021-10-10T14:47:04.985786Z",
     "iopub.status.busy": "2021-10-10T14:47:04.984911Z",
     "iopub.status.idle": "2021-10-10T14:47:05.184174Z",
     "shell.execute_reply": "2021-10-10T14:47:05.182235Z",
     "shell.execute_reply.started": "2021-10-10T14:47:04.985724Z"
    }
   },
   "outputs": [],
   "source": [
    "# Уберём дубликаты из тренировочного набора данных:\n",
    "train.drop_duplicates(inplace=True)"
   ]
  },
  {
   "cell_type": "markdown",
   "metadata": {},
   "source": [
    "#### Резюме:\n",
    "* После обработки пропусков и дубликатов тренировочный набор данных уменьшился на **3,65% (3,262)** и составляет **86,116** значений. Тестовый - остался без изменений.\n",
    "* Количество признаков в тренировочном и тестовом наборе данных уменьшилось на **15.4%** и ровняется **22** и **28**, соответственно."
   ]
  },
  {
   "cell_type": "markdown",
   "metadata": {},
   "source": [
    "## Обработка признаков и стандартизация данных"
   ]
  },
  {
   "cell_type": "code",
   "execution_count": null,
   "metadata": {
    "execution": {
     "iopub.execute_input": "2021-10-10T14:47:05.186365Z",
     "iopub.status.busy": "2021-10-10T14:47:05.186016Z",
     "iopub.status.idle": "2021-10-10T14:47:05.290681Z",
     "shell.execute_reply": "2021-10-10T14:47:05.289662Z",
     "shell.execute_reply.started": "2021-10-10T14:47:05.186333Z"
    }
   },
   "outputs": [],
   "source": [
    "# Рассмотрим признак start_date из тренировочного набора данных:\n",
    "pd.to_datetime(train['start_date']).dt.year"
   ]
  },
  {
   "cell_type": "code",
   "execution_count": null,
   "metadata": {
    "execution": {
     "iopub.execute_input": "2021-10-10T14:47:05.301196Z",
     "iopub.status.busy": "2021-10-10T14:47:05.30078Z",
     "iopub.status.idle": "2021-10-10T14:47:05.310927Z",
     "shell.execute_reply": "2021-10-10T14:47:05.309619Z",
     "shell.execute_reply.started": "2021-10-10T14:47:05.301158Z"
    }
   },
   "outputs": [],
   "source": [
    "# Рассмотрим признак parsing_unixtime из тeстового набора данных:\n",
    "test['parsing_unixtime'] = pd.to_datetime(test['parsing_unixtime'], unit='s')"
   ]
  },
  {
   "cell_type": "code",
   "execution_count": null,
   "metadata": {
    "execution": {
     "iopub.execute_input": "2021-10-10T14:47:05.313593Z",
     "iopub.status.busy": "2021-10-10T14:47:05.312927Z",
     "iopub.status.idle": "2021-10-10T14:47:05.361603Z",
     "shell.execute_reply": "2021-10-10T14:47:05.359676Z",
     "shell.execute_reply.started": "2021-10-10T14:47:05.313512Z"
    }
   },
   "outputs": [],
   "source": [
    "# Посмотрим в какой период были получены тестовые данные:\n",
    "print(f\"{test['parsing_unixtime'].dt.year.unique()}\\n{test['parsing_unixtime'].dt.month_name().unique()}\\n{sorted(test['parsing_unixtime'].dt.day.unique())}\")"
   ]
  },
  {
   "cell_type": "code",
   "execution_count": null,
   "metadata": {
    "execution": {
     "iopub.execute_input": "2021-10-10T14:47:05.364198Z",
     "iopub.status.busy": "2021-10-10T14:47:05.363799Z",
     "iopub.status.idle": "2021-10-10T14:47:05.382158Z",
     "shell.execute_reply": "2021-10-10T14:47:05.379916Z",
     "shell.execute_reply.started": "2021-10-10T14:47:05.364165Z"
    }
   },
   "outputs": [],
   "source": [
    "# Определим в какой день было получено больше всего объявлений:\n",
    "test['parsing_unixtime'].dt.day.value_counts()"
   ]
  },
  {
   "cell_type": "code",
   "execution_count": null,
   "metadata": {
    "execution": {
     "iopub.execute_input": "2021-10-10T14:47:05.384623Z",
     "iopub.status.busy": "2021-10-10T14:47:05.383798Z",
     "iopub.status.idle": "2021-10-10T14:47:05.398958Z",
     "shell.execute_reply": "2021-10-10T14:47:05.396349Z",
     "shell.execute_reply.started": "2021-10-10T14:47:05.38443Z"
    }
   },
   "outputs": [],
   "source": [
    "# Сохраним в переменные даты получения данных:\n",
    "test_parsing_time = pd.to_datetime('21OCT2020')  # допущение, связанное с публикацией большинства объявлений в этот день\n",
    "train_parsing_time = pd.to_datetime('09SEP2020')"
   ]
  },
  {
   "cell_type": "code",
   "execution_count": null,
   "metadata": {
    "execution": {
     "iopub.execute_input": "2021-10-10T14:47:05.401545Z",
     "iopub.status.busy": "2021-10-10T14:47:05.401136Z",
     "iopub.status.idle": "2021-10-10T14:47:05.484398Z",
     "shell.execute_reply": "2021-10-10T14:47:05.483017Z",
     "shell.execute_reply.started": "2021-10-10T14:47:05.401508Z"
    }
   },
   "outputs": [],
   "source": [
    "display(train.sample(3))\n",
    "display(test.sample(3))"
   ]
  },
  {
   "cell_type": "markdown",
   "metadata": {},
   "source": [
    "#### Приведем данные к единой форме:"
   ]
  },
  {
   "cell_type": "code",
   "execution_count": null,
   "metadata": {
    "execution": {
     "iopub.execute_input": "2021-10-10T14:47:05.487011Z",
     "iopub.status.busy": "2021-10-10T14:47:05.486355Z",
     "iopub.status.idle": "2021-10-10T14:47:06.861177Z",
     "shell.execute_reply": "2021-10-10T14:47:06.860037Z",
     "shell.execute_reply.started": "2021-10-10T14:47:05.486974Z"
    }
   },
   "outputs": [],
   "source": [
    "# body_type:\n",
    "train['body_type'] = train['body_type'].str.lower().str.split(' ').apply(lambda x: x[0])\n",
    "test['body_type'] = test['body_type'].str.lower().str.split(' ').apply(lambda x: x[0])\n",
    "\n",
    "# brand:\n",
    "train['brand'] = train['brand'].str.lower()\n",
    "test['brand'] = test['brand'].str.lower()\n",
    "\n",
    "# color:\n",
    "color_dict = {'040001': 'чёрный', 'EE1D19': 'красный', '0000CC': 'синий', 'CACECB': 'серебристый',\n",
    "              '007F00': 'зелёный', 'FAFBFB': 'белый', '97948F': 'серый', '22A0F8': 'голубой',\n",
    "              '660099': 'пурпурный', '200204': 'коричневый', 'C49648': 'бежевый', 'DEA522': 'золотистый', \n",
    "              '4A2197': 'фиолетовый', 'FFD600': 'жёлтый', 'FF8649': 'оранжевый', 'FFC0CB': 'розовый'}\n",
    "train['color'] = train['color'].map(color_dict)\n",
    "\n",
    "# model_date:\n",
    "train['model_date'] = train['model_date'].astype(np.uint16)\n",
    "test['model_date'] = test['model_date'].astype(np.uint16)\n",
    "\n",
    "# number_of_doors:\n",
    "train['number_of_doors'] = train['number_of_doors'].astype(np.uint8)\n",
    "test['number_of_doors'] = test['number_of_doors'].astype(np.uint8)\n",
    "\n",
    "# vehicle_transmission:\n",
    "vehicle_transmission_dict = {'MECHANICAL': 'механическая', 'AUTOMATIC': 'автоматическая', 'VARIATOR': 'вариатор', 'ROBOT': 'роботизированная'}\n",
    "train['vehicle_transmission'] = train['vehicle_transmission'].map(vehicle_transmission_dict)\n",
    "\n",
    "# engine_power:\n",
    "train['engine_power'] = train['engine_power'].astype(np.uint16)\n",
    "test['engine_power'] = test['engine_power'].str.split(' ').apply(lambda x: x[0]).astype(np.int16)\n",
    "\n",
    "# rudder_side:\n",
    "train['rudder_side'] = train['rudder_side'].apply(lambda x: 'Левый' if x == 'LEFT' else 'Правый')\n",
    "\n",
    "# vehicle_passport:\n",
    "train['vehicle_passport'] = train['vehicle_passport'].apply(lambda x: 'Оригинал' if x == 'ORIGINAL' else 'Дубликат')\n",
    "\n",
    "# owners:\n",
    "train['owners'] = train['owners'].astype(np.uint8)\n",
    "test['owners'] = test['owners'].apply(lambda x: x[:1]).astype(np.uint8)\n",
    "\n",
    "# model_name:\n",
    "train['model_name'] = train['model_name'].str.lower()\n",
    "test['model_name'] = test['model_name'].str.lower()\n",
    "\n",
    "# price:\n",
    "train['price'] = train['price'].astype(np.int64)"
   ]
  },
  {
   "cell_type": "code",
   "execution_count": null,
   "metadata": {
    "execution": {
     "iopub.execute_input": "2021-10-10T14:47:06.863657Z",
     "iopub.status.busy": "2021-10-10T14:47:06.863261Z",
     "iopub.status.idle": "2021-10-10T14:47:07.428322Z",
     "shell.execute_reply": "2021-10-10T14:47:07.425714Z",
     "shell.execute_reply.started": "2021-10-10T14:47:06.863622Z"
    }
   },
   "outputs": [],
   "source": [
    "# Признак engine_displacement:\n",
    "pattern = re.compile('\\d\\.\\d')\n",
    "train_engine_displacement = train['name'].apply(lambda x: re.findall(pattern, x))\n",
    "train['engine_displacement'] = train_engine_displacement.apply(lambda x: -1 if not x or x[0] == '0.0' else float(x[0]))\n",
    "\n",
    "test_engine_displacement = test['engine_displacement'].apply(lambda x: re.findall(pattern, x))\n",
    "test['engine_displacement'] = test_engine_displacement.apply(lambda x: -1 if not x else float(x[0]))"
   ]
  },
  {
   "cell_type": "code",
   "execution_count": null,
   "metadata": {
    "execution": {
     "iopub.execute_input": "2021-10-10T14:47:07.431324Z",
     "iopub.status.busy": "2021-10-10T14:47:07.430783Z",
     "iopub.status.idle": "2021-10-10T14:47:07.47667Z",
     "shell.execute_reply": "2021-10-10T14:47:07.474462Z",
     "shell.execute_reply.started": "2021-10-10T14:47:07.431274Z"
    }
   },
   "outputs": [],
   "source": [
    "# Удалим признаки, которые являются не информативными или отсутствуют в одном из наборов данных:\n",
    "train.drop(columns=['start_date', 'vehicle_configuration', 'customs', 'name'], axis=1, inplace=True)   # 'model_name'\n",
    "\n",
    "test.drop(columns=['car_url', 'image', 'model_info', 'parsing_unixtime',\n",
    "                   'price_currency', 'sell_id', 'super_gen', 'vendor',\n",
    "                   'vehicle_configuration', 'customs', 'name'], axis=1, inplace=True)  # 'model_name'"
   ]
  },
  {
   "cell_type": "markdown",
   "metadata": {},
   "source": [
    "* Есть очень старые объявления, хотя явной причины, объясняющей почему эти позиции не были реализованы, в данных не обнаружено. Не стал использовать признак **\"start_date\"** в качестве фильтра;\n",
    "* **\"car_url\"** и **\"image\"**: ссылки на объявления и фото автомобилей, не пригодятся при построении модели;\n",
    "* **\"model_info\"**: практически повторяет признак model_name. Является не информативным; \n",
    "* Все цены указаны в российских рублях, поэтому **\"price_currency\"** не информативен;\n",
    "* **\"sell_id\"**: индекс объявления, не пригодится для построения модели;\n",
    "* **\"super_gen\"** полезный признак, в котором указаны все технические параметры автомобиля, однако многие параметры уже выделены в отдельных признаках;\n",
    "* **\"vendor\"**: признак, указывающий поставщика, отсутствует в тренировочных данных; \n",
    "* **\"parsing_unixtime\"**: период получения тестовых данных, с небольшим допущением, был сохранен в переменную;\n",
    "* **\"vehicle_configuration\"** не информативный признак;\n",
    "* **\"customs\"**: не информативный признак, так как все автомобили растоможены."
   ]
  },
  {
   "cell_type": "code",
   "execution_count": null,
   "metadata": {
    "execution": {
     "iopub.execute_input": "2021-10-10T14:47:07.480187Z",
     "iopub.status.busy": "2021-10-10T14:47:07.479776Z",
     "iopub.status.idle": "2021-10-10T14:47:07.544565Z",
     "shell.execute_reply": "2021-10-10T14:47:07.542018Z",
     "shell.execute_reply.started": "2021-10-10T14:47:07.480154Z"
    }
   },
   "outputs": [],
   "source": [
    "display(train.sample(3))\n",
    "display(test.sample(3))"
   ]
  },
  {
   "cell_type": "code",
   "execution_count": null,
   "metadata": {
    "execution": {
     "iopub.execute_input": "2021-10-10T14:47:07.547878Z",
     "iopub.status.busy": "2021-10-10T14:47:07.547262Z",
     "iopub.status.idle": "2021-10-10T14:47:07.656401Z",
     "shell.execute_reply": "2021-10-10T14:47:07.654826Z",
     "shell.execute_reply.started": "2021-10-10T14:47:07.547825Z"
    }
   },
   "outputs": [],
   "source": [
    "# Для дальнейшей работы над признаками объединяем тренировочные и тестовые данные в один датасет\n",
    "train['sample'] = 1  # помечаем где тренировочные данные\n",
    "test['sample'] = 0  # помечаем где тестовые данные\n",
    "test['price'] = 0  # в тестовых данных нет значения цены автомобиля, мы её должны предсказать, поэтому пока просто заполняем нулями\n",
    "df = test.append(train, sort=False).reset_index(drop=True)  # объединение"
   ]
  },
  {
   "cell_type": "code",
   "execution_count": null,
   "metadata": {
    "execution": {
     "iopub.execute_input": "2021-10-10T14:47:07.659518Z",
     "iopub.status.busy": "2021-10-10T14:47:07.658935Z",
     "iopub.status.idle": "2021-10-10T14:47:08.701896Z",
     "shell.execute_reply": "2021-10-10T14:47:08.700693Z",
     "shell.execute_reply.started": "2021-10-10T14:47:07.659455Z"
    }
   },
   "outputs": [],
   "source": [
    "# Оптимизируем затраты используемой памяти:\n",
    "reduce_mem_usage(df)"
   ]
  },
  {
   "cell_type": "markdown",
   "metadata": {},
   "source": [
    "### Резюме:\n",
    "* В ходе обработки данных было сгенерировано два новых признака **\"vehicle_condition\"**, **\"absent_documents\"**, которые учитывают состояние автомобилей и наличие документов к ним.\n",
    "* После обработки данных и объединения тренировочного и тестового датасетов получилось:\n",
    "    * Размер объединенного датасета составляет **120802** наблюдений;\n",
    "    * Количестов признаков - **19**. Признак **\"sample\"** не учитывается, так как искусствено создан для удобства разделения обучающей и тестовой выборки."
   ]
  },
  {
   "cell_type": "markdown",
   "metadata": {},
   "source": [
    "## Числовые признаки"
   ]
  },
  {
   "cell_type": "code",
   "execution_count": null,
   "metadata": {
    "execution": {
     "iopub.execute_input": "2021-10-10T14:47:08.704682Z",
     "iopub.status.busy": "2021-10-10T14:47:08.703913Z",
     "iopub.status.idle": "2021-10-10T14:47:08.729901Z",
     "shell.execute_reply": "2021-10-10T14:47:08.727753Z",
     "shell.execute_reply.started": "2021-10-10T14:47:08.704629Z"
    }
   },
   "outputs": [],
   "source": [
    "# Исходя из обзора данных создадим список признаков, значения которых похожи на числовые:\n",
    "num_columns = ['engine_power', 'mileage', 'model_date', 'production_date']\n",
    "df[num_columns + ['price']].sample(5)"
   ]
  },
  {
   "cell_type": "code",
   "execution_count": null,
   "metadata": {
    "execution": {
     "iopub.execute_input": "2021-10-10T14:47:08.732575Z",
     "iopub.status.busy": "2021-10-10T14:47:08.732027Z",
     "iopub.status.idle": "2021-10-10T14:47:08.901465Z",
     "shell.execute_reply": "2021-10-10T14:47:08.899832Z",
     "shell.execute_reply.started": "2021-10-10T14:47:08.73252Z"
    }
   },
   "outputs": [],
   "source": [
    "# Проведем анализ для выявления выбросов числовых признаков:\n",
    "for column in num_columns:\n",
    "    IQR_outlier(df.query('sample == 1'), column)\n",
    "    print('=='*20)"
   ]
  },
  {
   "cell_type": "code",
   "execution_count": null,
   "metadata": {
    "execution": {
     "iopub.execute_input": "2021-10-10T14:47:08.903796Z",
     "iopub.status.busy": "2021-10-10T14:47:08.903423Z",
     "iopub.status.idle": "2021-10-10T14:47:09.775959Z",
     "shell.execute_reply": "2021-10-10T14:47:09.774393Z",
     "shell.execute_reply.started": "2021-10-10T14:47:08.903766Z"
    }
   },
   "outputs": [],
   "source": [
    "# Построим boxplots для числовых признаков:\n",
    "fig, axes = plt.subplots(2, 2, figsize=(18,15))\n",
    "for i, column in enumerate(num_columns):\n",
    "    sns.boxplot(x=df.query('sample == 1')[column],\n",
    "                hue=df.query('sample == 1')['price'],\n",
    "                ax=axes.flat[i],\n",
    "                showmeans=True,\n",
    "                meanline=True,\n",
    "                orient='h');"
   ]
  },
  {
   "cell_type": "code",
   "execution_count": null,
   "metadata": {
    "execution": {
     "iopub.execute_input": "2021-10-10T14:47:09.780236Z",
     "iopub.status.busy": "2021-10-10T14:47:09.77985Z",
     "iopub.status.idle": "2021-10-10T14:47:12.353945Z",
     "shell.execute_reply": "2021-10-10T14:47:12.352906Z",
     "shell.execute_reply.started": "2021-10-10T14:47:09.780206Z"
    }
   },
   "outputs": [],
   "source": [
    "# Посмотрим на распределения числовых признаков:\n",
    "fig, axes = plt.subplots(2, 2, figsize=(18,15))\n",
    "for i,col in enumerate(num_columns):\n",
    "    sns.distplot(df.query('sample ==1')[col], ax=axes.flat[i], bins=100, kde=True)"
   ]
  },
  {
   "cell_type": "code",
   "execution_count": null,
   "metadata": {
    "execution": {
     "iopub.execute_input": "2021-10-10T14:47:12.356002Z",
     "iopub.status.busy": "2021-10-10T14:47:12.355308Z",
     "iopub.status.idle": "2021-10-10T14:47:12.793525Z",
     "shell.execute_reply": "2021-10-10T14:47:12.792025Z",
     "shell.execute_reply.started": "2021-10-10T14:47:12.355927Z"
    }
   },
   "outputs": [],
   "source": [
    "# Посмотрим на распределение значений целевого признака:\n",
    "fig = plt.subplots(figsize=(10, 6))\n",
    "sns.distplot(df.query('sample == 1')['price'].apply(lambda x: x * 0.001), bins=50, kde=True);"
   ]
  },
  {
   "cell_type": "code",
   "execution_count": null,
   "metadata": {
    "execution": {
     "iopub.execute_input": "2021-10-10T14:47:12.803744Z",
     "iopub.status.busy": "2021-10-10T14:47:12.802888Z",
     "iopub.status.idle": "2021-10-10T14:47:12.903879Z",
     "shell.execute_reply": "2021-10-10T14:47:12.902223Z",
     "shell.execute_reply.started": "2021-10-10T14:47:12.803688Z"
    }
   },
   "outputs": [],
   "source": [
    "# Посмотрим статистику по числовым признакам:\n",
    "df.query('sample == 1')[num_columns + ['price']].describe()"
   ]
  },
  {
   "cell_type": "markdown",
   "metadata": {},
   "source": [
    "### Резюме:\n",
    "* Признак **\"engine_power\"**. Минимальное значение - **11**, максимальное - **800**. Среднее значение - **170.6**, медианное - **150**. Имеет тяжелый правый хвост. Есть выбросы в количестве **5165**. Будет проводиться логарифмирование данного признака. Нашел информацию об автомобилях с большой мощностью двигателя, поэтому выбросы пока не будут удалены.\n",
    "* Признак **\"mileage\"**. Распределение признака похоже на нормальное, но имеется пик в районе нуля, как выяснилось это связано с наличием объявлений о продаже новых автомобилей. Есть выбросы в количестве **1414**. Выбросы не вижу смысла удалять, поскольку ответить на вопрос как эксплуатировались автомобили не представляется возможным.\n",
    "* Признаки **\"model_date\"** и **\"production_date\"**. Распределения данных признаков смещены влево, присутствуют выбросы в количестве **2314** и **1836** соответственно. Так как в продаже могут быть раритетные автомобили, то выбросы устраняться не будут.   \n",
    "* Распределение целевого признака (**\"price\"**) имеет тяжелый правый хвост. Поэтому есть смысл взять логарифм данного признака."
   ]
  },
  {
   "cell_type": "code",
   "execution_count": null,
   "metadata": {
    "execution": {
     "iopub.execute_input": "2021-10-10T14:47:12.906604Z",
     "iopub.status.busy": "2021-10-10T14:47:12.906162Z",
     "iopub.status.idle": "2021-10-10T14:47:12.913349Z",
     "shell.execute_reply": "2021-10-10T14:47:12.910151Z",
     "shell.execute_reply.started": "2021-10-10T14:47:12.906568Z"
    }
   },
   "outputs": [],
   "source": [
    "# Создадим переменную model_age, которая отражает возраст автомобиля:\n",
    "# model_age = df['production_date'].apply(lambda x: 2020 - x)  # год, когда были получены данные\n",
    "# model_age = model_age.apply(lambda x: x if x != 0 else x + 1)  # добавим 1, чтобы избежать деления на 0 "
   ]
  },
  {
   "cell_type": "code",
   "execution_count": null,
   "metadata": {
    "execution": {
     "iopub.execute_input": "2021-10-10T14:47:12.916027Z",
     "iopub.status.busy": "2021-10-10T14:47:12.915606Z",
     "iopub.status.idle": "2021-10-10T14:47:12.931248Z",
     "shell.execute_reply": "2021-10-10T14:47:12.930047Z",
     "shell.execute_reply.started": "2021-10-10T14:47:12.915965Z"
    }
   },
   "outputs": [],
   "source": [
    "# # Создадим признак mileage_per_year - годовой пробег:\n",
    "# df['mileage_per_year'] = df['mileage'] / model_age\n",
    "# num_columns.append('mileage_per_year')"
   ]
  },
  {
   "cell_type": "code",
   "execution_count": null,
   "metadata": {
    "execution": {
     "iopub.execute_input": "2021-10-10T14:47:12.933858Z",
     "iopub.status.busy": "2021-10-10T14:47:12.933493Z",
     "iopub.status.idle": "2021-10-10T14:47:13.290963Z",
     "shell.execute_reply": "2021-10-10T14:47:13.288969Z",
     "shell.execute_reply.started": "2021-10-10T14:47:12.933826Z"
    }
   },
   "outputs": [],
   "source": [
    "# Построим матрицу корреляций для числовых признаков:\n",
    "f = plt.subplots(figsize=(10, 6))\n",
    "sns.heatmap(df.query('sample == 1')[num_columns].corr().abs(), vmin=0,\n",
    "            vmax=1, annot=True, fmt=\".2f\", linewidths=0.1);"
   ]
  },
  {
   "cell_type": "code",
   "execution_count": null,
   "metadata": {
    "execution": {
     "iopub.execute_input": "2021-10-10T14:47:13.293907Z",
     "iopub.status.busy": "2021-10-10T14:47:13.29347Z",
     "iopub.status.idle": "2021-10-10T14:47:16.10982Z",
     "shell.execute_reply": "2021-10-10T14:47:16.108398Z",
     "shell.execute_reply.started": "2021-10-10T14:47:13.293872Z"
    }
   },
   "outputs": [],
   "source": [
    "# Определим значимость числовых признаков с помощью функции mutual_info_classif:\n",
    "fig = plt.subplots(figsize=(7, 5))\n",
    "imp_num = pd.Series(f_classif(df.query('sample == 1')[num_columns], df.query('sample == 1')['price'])[0], index = num_columns)\n",
    "imp_num.sort_values(inplace = True)\n",
    "imp_num.plot(kind = 'barh');"
   ]
  },
  {
   "cell_type": "markdown",
   "metadata": {},
   "source": [
    "### Резюме:\n",
    "* Наиболее значимым для целевой переменной является признак **\"production_date\"**.\n",
    "* Признаки **\"model_date\"** и **\"production_date\"** сильно скоррелированы. Решением может быть удаление менее значимого признака или применение метода декомпозиции. \n",
    "* Также признак **\"mileage\"** имеет сильную корреляцию с признаками **\"model_date\"** и **\"production_date\"**.\n",
    "* **На практике, добавление новых признаков, устранение выбросов и борьба с мультиколлинеарностью приводит к ухудшению результатов, поэтому принято решение не вносить каких-либо изменений в числовые признаки**."
   ]
  },
  {
   "cell_type": "markdown",
   "metadata": {},
   "source": [
    "## Категориальные признаки"
   ]
  },
  {
   "cell_type": "code",
   "execution_count": null,
   "metadata": {
    "execution": {
     "iopub.execute_input": "2021-10-10T14:47:16.111875Z",
     "iopub.status.busy": "2021-10-10T14:47:16.111539Z",
     "iopub.status.idle": "2021-10-10T14:47:16.156111Z",
     "shell.execute_reply": "2021-10-10T14:47:16.154575Z",
     "shell.execute_reply.started": "2021-10-10T14:47:16.111843Z"
    }
   },
   "outputs": [],
   "source": [
    "cat_columns = ['body_type', 'brand', 'model_name', 'color', 'engine_displacement',\n",
    "               'fuel_type', 'number_of_doors', 'vehicle_transmission',\n",
    "               'drive_unit', 'owners']\n",
    "df[cat_columns].sample(5)"
   ]
  },
  {
   "cell_type": "markdown",
   "metadata": {},
   "source": [
    "### model_name"
   ]
  },
  {
   "cell_type": "code",
   "execution_count": null,
   "metadata": {
    "execution": {
     "iopub.execute_input": "2021-10-10T14:47:16.158234Z",
     "iopub.status.busy": "2021-10-10T14:47:16.157798Z",
     "iopub.status.idle": "2021-10-10T14:47:16.228566Z",
     "shell.execute_reply": "2021-10-10T14:47:16.22704Z",
     "shell.execute_reply.started": "2021-10-10T14:47:16.158199Z"
    }
   },
   "outputs": [],
   "source": [
    "# Создадим новый признак, отражающий количество моделей авто, входящих в линейку бренда:\n",
    "lineup_dict = dict(df.groupby('brand')['model_name'].nunique())\n",
    "df['number_of_models'] = df['brand'].map(lineup_dict)"
   ]
  },
  {
   "cell_type": "code",
   "execution_count": null,
   "metadata": {
    "execution": {
     "iopub.execute_input": "2021-10-10T14:47:16.230772Z",
     "iopub.status.busy": "2021-10-10T14:47:16.230288Z",
     "iopub.status.idle": "2021-10-10T14:47:16.23729Z",
     "shell.execute_reply": "2021-10-10T14:47:16.235884Z",
     "shell.execute_reply.started": "2021-10-10T14:47:16.230722Z"
    }
   },
   "outputs": [],
   "source": [
    "# Обновим списки признаков:\n",
    "cat_columns.remove('model_name')\n",
    "cat_columns.append('number_of_models')"
   ]
  },
  {
   "cell_type": "code",
   "execution_count": null,
   "metadata": {
    "execution": {
     "iopub.execute_input": "2021-10-10T14:47:16.239852Z",
     "iopub.status.busy": "2021-10-10T14:47:16.239169Z",
     "iopub.status.idle": "2021-10-10T14:47:16.272901Z",
     "shell.execute_reply": "2021-10-10T14:47:16.271601Z",
     "shell.execute_reply.started": "2021-10-10T14:47:16.239794Z"
    }
   },
   "outputs": [],
   "source": [
    "# Удалим признак model_name из набора данных:\n",
    "df.drop('model_name', axis=1, inplace=True)"
   ]
  },
  {
   "cell_type": "markdown",
   "metadata": {},
   "source": [
    "### color"
   ]
  },
  {
   "cell_type": "code",
   "execution_count": null,
   "metadata": {
    "execution": {
     "iopub.execute_input": "2021-10-10T14:47:16.27559Z",
     "iopub.status.busy": "2021-10-10T14:47:16.275059Z",
     "iopub.status.idle": "2021-10-10T14:47:16.597798Z",
     "shell.execute_reply": "2021-10-10T14:47:16.596519Z",
     "shell.execute_reply.started": "2021-10-10T14:47:16.275534Z"
    }
   },
   "outputs": [],
   "source": [
    "sns.countplot(y = df.query('sample == 1')['color'], order = df.query('sample == 1')['color'].value_counts().index);"
   ]
  },
  {
   "cell_type": "markdown",
   "metadata": {},
   "source": [
    "Разделим цвета по степени распространенности от наиболее распространенных(**1**) до редких(**4**)."
   ]
  },
  {
   "cell_type": "code",
   "execution_count": null,
   "metadata": {
    "execution": {
     "iopub.execute_input": "2021-10-10T14:47:16.599804Z",
     "iopub.status.busy": "2021-10-10T14:47:16.599359Z",
     "iopub.status.idle": "2021-10-10T14:47:16.638005Z",
     "shell.execute_reply": "2021-10-10T14:47:16.636695Z",
     "shell.execute_reply.started": "2021-10-10T14:47:16.599769Z"
    }
   },
   "outputs": [],
   "source": [
    "# Модифицируем признак color по степени распространенности:\n",
    "common_color_dict = {'чёрный': 1, 'красный': 4, 'синий': 3, 'серебристый': 3,\n",
    "                     'зелёный': 4, 'белый': 2, 'серый': 3, 'голубой': 4,\n",
    "                     'пурпурный': 4, 'коричневый': 4, 'бежевый': 4, 'золотистый': 4, \n",
    "                     'фиолетовый': 4, 'жёлтый': 4, 'оранжевый': 4, 'розовый': 4}\n",
    "df['color'] = df['color'].map(common_color_dict)"
   ]
  },
  {
   "cell_type": "markdown",
   "metadata": {},
   "source": [
    "### engine_displacement"
   ]
  },
  {
   "cell_type": "code",
   "execution_count": null,
   "metadata": {
    "execution": {
     "iopub.execute_input": "2021-10-10T14:47:16.640072Z",
     "iopub.status.busy": "2021-10-10T14:47:16.639716Z",
     "iopub.status.idle": "2021-10-10T14:47:16.703714Z",
     "shell.execute_reply": "2021-10-10T14:47:16.702568Z",
     "shell.execute_reply.started": "2021-10-10T14:47:16.640037Z"
    }
   },
   "outputs": [],
   "source": [
    "# Классифицируем автомобили с учетом объема двигателя:\n",
    "df['engine_displacement_classification'] = df['engine_displacement'].apply(lambda x: 'electro' if x == -1 else\\\n",
    "                                                                                     'minicar' if x < 1.2 else\\\n",
    "                                                                                     'subcompact' if x < 1.8 else\\\n",
    "                                                                                     'average_size' if x < 3.6 else 'large_capacity')\n",
    "cat_columns.append('engine_displacement_classification')"
   ]
  },
  {
   "cell_type": "code",
   "execution_count": null,
   "metadata": {
    "execution": {
     "iopub.execute_input": "2021-10-10T14:47:16.706127Z",
     "iopub.status.busy": "2021-10-10T14:47:16.705495Z",
     "iopub.status.idle": "2021-10-10T14:47:20.178615Z",
     "shell.execute_reply": "2021-10-10T14:47:20.177387Z",
     "shell.execute_reply.started": "2021-10-10T14:47:16.706079Z"
    }
   },
   "outputs": [],
   "source": [
    "# Посмотрим на распределения категориальных признаков:\n",
    "fig, axes = plt.subplots(6, 2, figsize=(15,20))\n",
    "for i,col in enumerate(cat_columns):\n",
    "    sns.countplot(df.query('sample == 1')[col], ax=axes.flat[i-1]);"
   ]
  },
  {
   "cell_type": "code",
   "execution_count": null,
   "metadata": {
    "execution": {
     "iopub.execute_input": "2021-10-10T14:47:20.180628Z",
     "iopub.status.busy": "2021-10-10T14:47:20.180247Z",
     "iopub.status.idle": "2021-10-10T14:47:20.595335Z",
     "shell.execute_reply": "2021-10-10T14:47:20.594009Z",
     "shell.execute_reply.started": "2021-10-10T14:47:20.180593Z"
    }
   },
   "outputs": [],
   "source": [
    "# Проведем Label Encoding категориальных признаков:\n",
    "le = LabelEncoder()\n",
    "for column in cat_columns:\n",
    "    df[column] = le.fit_transform(df[column])\n",
    "    print(dict(enumerate(le.classes_)))\n",
    "    \n",
    "df[cat_columns].sample(5)"
   ]
  },
  {
   "cell_type": "code",
   "execution_count": null,
   "metadata": {
    "execution": {
     "iopub.execute_input": "2021-10-10T14:47:20.5976Z",
     "iopub.status.busy": "2021-10-10T14:47:20.597078Z",
     "iopub.status.idle": "2021-10-10T14:47:21.398116Z",
     "shell.execute_reply": "2021-10-10T14:47:21.396423Z",
     "shell.execute_reply.started": "2021-10-10T14:47:20.597548Z"
    }
   },
   "outputs": [],
   "source": [
    "# Построим матрицу корреляций для категориальных признаков:\n",
    "f = plt.subplots(figsize=(10, 6))\n",
    "sns.heatmap(df.query('sample == 1')[cat_columns].corr().abs(), vmin=0,\n",
    "            vmax=1, annot=True, fmt=\".2f\", linewidths=0.1);"
   ]
  },
  {
   "cell_type": "code",
   "execution_count": null,
   "metadata": {
    "execution": {
     "iopub.execute_input": "2021-10-10T14:47:21.400659Z",
     "iopub.status.busy": "2021-10-10T14:47:21.400235Z",
     "iopub.status.idle": "2021-10-10T14:47:21.940235Z",
     "shell.execute_reply": "2021-10-10T14:47:21.938696Z",
     "shell.execute_reply.started": "2021-10-10T14:47:21.40059Z"
    }
   },
   "outputs": [],
   "source": [
    "# Определим значимость категориальных признаков с помощью функции mutual_info_classif:\n",
    "fig = plt.subplots(figsize=(7, 5))\n",
    "imp_cat = pd.Series(mutual_info_classif(df.query('sample == 1')[cat_columns], df.query('sample == 1')['price'], discrete_features=True), index=cat_columns)\n",
    "imp_cat.sort_values(inplace=True)\n",
    "imp_cat.plot(kind='barh');"
   ]
  },
  {
   "cell_type": "markdown",
   "metadata": {},
   "source": [
    "#### Резюме:\n",
    "* Были добавлены новые признаки **\"number_of_models\"**, **\"engine_displacement_classification\"**. Был изменен признак **\"color\"**, теперь он отражает не конкретный цвет автомобиля, а в какой диапазон он входит по степени распространенности цветов.\n",
    "* Максимальное значение коэффициента корреляции составляет **0,57** между признаками **\"drive_unit\"** и **\"body_type\"**. Это свидетельствует о некоторой корреляции между признаками. Оценка значимости категориальных признаков показывает, что все признаки достаточно сильно влияют на целевой. Самым значимым из  признаков является **\"brand\"**."
   ]
  },
  {
   "cell_type": "markdown",
   "metadata": {},
   "source": [
    "## Бинарные признаки"
   ]
  },
  {
   "cell_type": "code",
   "execution_count": null,
   "metadata": {
    "execution": {
     "iopub.execute_input": "2021-10-10T14:47:21.941926Z",
     "iopub.status.busy": "2021-10-10T14:47:21.941606Z",
     "iopub.status.idle": "2021-10-10T14:47:21.968839Z",
     "shell.execute_reply": "2021-10-10T14:47:21.967545Z",
     "shell.execute_reply.started": "2021-10-10T14:47:21.941895Z"
    }
   },
   "outputs": [],
   "source": [
    "# Исходя из обзора данных создадим список бинарных признаков:\n",
    "bin_columns = ['rudder_side', 'vehicle_passport', 'vehicle_condition', 'absent_documents']\n",
    "df[bin_columns].sample(5)"
   ]
  },
  {
   "cell_type": "code",
   "execution_count": null,
   "metadata": {
    "execution": {
     "iopub.execute_input": "2021-10-10T14:47:21.971515Z",
     "iopub.status.busy": "2021-10-10T14:47:21.971155Z",
     "iopub.status.idle": "2021-10-10T14:47:22.11202Z",
     "shell.execute_reply": "2021-10-10T14:47:22.110583Z",
     "shell.execute_reply.started": "2021-10-10T14:47:21.971484Z"
    }
   },
   "outputs": [],
   "source": [
    "# Проведем Label Encoding бинарных признаков:\n",
    "le = LabelEncoder()\n",
    "for column in bin_columns:\n",
    "    df[column] = le.fit_transform(df[column])\n",
    "    print(dict(enumerate(le.classes_)))\n",
    "    \n",
    "df[bin_columns].sample(5)"
   ]
  },
  {
   "cell_type": "code",
   "execution_count": null,
   "metadata": {
    "execution": {
     "iopub.execute_input": "2021-10-10T14:47:22.114857Z",
     "iopub.status.busy": "2021-10-10T14:47:22.114335Z",
     "iopub.status.idle": "2021-10-10T14:47:22.405771Z",
     "shell.execute_reply": "2021-10-10T14:47:22.403976Z",
     "shell.execute_reply.started": "2021-10-10T14:47:22.114812Z"
    }
   },
   "outputs": [],
   "source": [
    "# Построим матрицу корреляций для бинарных признаков:\n",
    "f = plt.subplots(figsize=(10, 6))\n",
    "sns.heatmap(df[bin_columns].corr().abs(), vmin=0,\n",
    "            vmax=1, annot=True, fmt=\".2f\", linewidths=0.1);"
   ]
  },
  {
   "cell_type": "code",
   "execution_count": null,
   "metadata": {
    "execution": {
     "iopub.execute_input": "2021-10-10T14:47:22.407965Z",
     "iopub.status.busy": "2021-10-10T14:47:22.407479Z",
     "iopub.status.idle": "2021-10-10T14:47:22.73471Z",
     "shell.execute_reply": "2021-10-10T14:47:22.73307Z",
     "shell.execute_reply.started": "2021-10-10T14:47:22.407922Z"
    }
   },
   "outputs": [],
   "source": [
    "# Определим значимость бинарных признаков с помощью функции mutual_info_classif:\n",
    "fig = plt.subplots(figsize=(7, 5))\n",
    "imp_bin = pd.Series(mutual_info_classif(df.query('sample == 1')[bin_columns], df.query('sample == 1')['price'],\n",
    "                                        discrete_features=True), index=bin_columns)\n",
    "imp_bin.sort_values(inplace=True)\n",
    "imp_bin.plot(kind='barh');"
   ]
  },
  {
   "cell_type": "markdown",
   "metadata": {},
   "source": [
    "### Резюме:\n",
    "* Максимальное значение коэффициента корреляции составляет **0,17** между признаками **vehicle_condition** и **absent_documents**. Это говорит о достаточно слабой корреляции между признаками.\n",
    "* Оценка значимости бинарных признаков показывает, что наиболее значимым из признаков является **\"vehicle_condition\"**, который указывает какой автомобиль выставлен на продажу: новый или подержанный."
   ]
  },
  {
   "cell_type": "markdown",
   "metadata": {},
   "source": [
    "# Подготовка данных к обучению"
   ]
  },
  {
   "cell_type": "code",
   "execution_count": null,
   "metadata": {
    "execution": {
     "iopub.execute_input": "2021-10-10T14:47:22.737321Z",
     "iopub.status.busy": "2021-10-10T14:47:22.736817Z",
     "iopub.status.idle": "2021-10-10T14:47:22.796582Z",
     "shell.execute_reply": "2021-10-10T14:47:22.794747Z",
     "shell.execute_reply.started": "2021-10-10T14:47:22.737269Z"
    }
   },
   "outputs": [],
   "source": [
    "# Разделим объединенный датасет на тренировочный и тестовый:\n",
    "train = df.query('sample == 1').drop(['sample'], axis=1)\n",
    "sub = df.query('sample == 0').drop(['sample', 'price'], axis=1)"
   ]
  },
  {
   "cell_type": "code",
   "execution_count": null,
   "metadata": {
    "execution": {
     "iopub.execute_input": "2021-10-10T14:47:22.799302Z",
     "iopub.status.busy": "2021-10-10T14:47:22.798869Z",
     "iopub.status.idle": "2021-10-10T14:47:22.836978Z",
     "shell.execute_reply": "2021-10-10T14:47:22.835643Z",
     "shell.execute_reply.started": "2021-10-10T14:47:22.799268Z"
    }
   },
   "outputs": [],
   "source": [
    "# Создадим массив числовых признаков и стандартизируем его при помощи StandardScaler:\n",
    "standart_scaler = StandardScaler()\n",
    "X_train_num = standart_scaler.fit_transform(train[num_columns])\n",
    "X_sub_num = standart_scaler.fit_transform(sub[num_columns])\n",
    "print(X_train_num.shape, X_sub_num.shape)"
   ]
  },
  {
   "cell_type": "code",
   "execution_count": null,
   "metadata": {
    "execution": {
     "iopub.execute_input": "2021-10-10T14:47:22.83888Z",
     "iopub.status.busy": "2021-10-10T14:47:22.838533Z",
     "iopub.status.idle": "2021-10-10T14:47:23.008641Z",
     "shell.execute_reply": "2021-10-10T14:47:23.006627Z",
     "shell.execute_reply.started": "2021-10-10T14:47:22.838845Z"
    }
   },
   "outputs": [],
   "source": [
    "# Создадим список категориальных признаков для OneHotEncoding:\n",
    "cat_ohe_columns = ['body_type', 'brand', 'color','fuel_type', 'vehicle_transmission', 'drive_unit']\n",
    "\n",
    "# Создадим массив категориальных признаков и сделаем OneHotEncoding:\n",
    "X_train_cat = train[cat_columns].drop(cat_ohe_columns, axis=1).values\n",
    "X_sub_cat = sub[cat_columns].drop(cat_ohe_columns, axis=1).values\n",
    "print(X_train_cat.shape, X_sub_cat.shape)\n",
    "\n",
    "# OneHotEncoding:\n",
    "ohe = OneHotEncoder(sparse=False).fit(df[cat_ohe_columns])\n",
    "X_train_ohe_cat = ohe.transform(train[cat_ohe_columns])\n",
    "X_sub_ohe_cat = ohe.transform(sub[cat_ohe_columns])\n",
    "print(X_train_ohe_cat.shape, X_sub_ohe_cat.shape)\n",
    "\n",
    "# Объединим преобразованные признаки:\n",
    "X_train_cat = np.hstack([X_train_cat, X_train_ohe_cat])\n",
    "X_sub_cat = np.hstack([X_sub_cat, X_sub_ohe_cat])\n",
    "print(X_train_cat.shape, X_sub_cat.shape)"
   ]
  },
  {
   "cell_type": "code",
   "execution_count": null,
   "metadata": {
    "execution": {
     "iopub.execute_input": "2021-10-10T14:47:23.011842Z",
     "iopub.status.busy": "2021-10-10T14:47:23.011274Z",
     "iopub.status.idle": "2021-10-10T14:47:23.027677Z",
     "shell.execute_reply": "2021-10-10T14:47:23.024862Z",
     "shell.execute_reply.started": "2021-10-10T14:47:23.011794Z"
    }
   },
   "outputs": [],
   "source": [
    "# Создадим массив бинарных признаков:\n",
    "X_train_bin = train[bin_columns].values\n",
    "X_sub_bin = sub[bin_columns].values\n",
    "print(X_train_bin.shape, X_sub_bin.shape)"
   ]
  },
  {
   "cell_type": "code",
   "execution_count": null,
   "metadata": {
    "execution": {
     "iopub.execute_input": "2021-10-10T14:47:23.030657Z",
     "iopub.status.busy": "2021-10-10T14:47:23.03011Z",
     "iopub.status.idle": "2021-10-10T14:47:23.085568Z",
     "shell.execute_reply": "2021-10-10T14:47:23.083579Z",
     "shell.execute_reply.started": "2021-10-10T14:47:23.030606Z"
    }
   },
   "outputs": [],
   "source": [
    "# Объединяем в одно признаковое пространство тренировочную выборку: \n",
    "X = np.hstack([X_train_num, X_train_cat,  X_train_bin])\n",
    "y = train['price'].values\n",
    "print(X.shape, y.shape)"
   ]
  },
  {
   "cell_type": "code",
   "execution_count": null,
   "metadata": {
    "execution": {
     "iopub.execute_input": "2021-10-10T14:47:23.087819Z",
     "iopub.status.busy": "2021-10-10T14:47:23.08733Z",
     "iopub.status.idle": "2021-10-10T14:47:23.106356Z",
     "shell.execute_reply": "2021-10-10T14:47:23.104927Z",
     "shell.execute_reply.started": "2021-10-10T14:47:23.087782Z"
    }
   },
   "outputs": [],
   "source": [
    "# Объединяем в одно признаковое пространство тестовую выборку:\n",
    "X_sub = np.hstack([X_sub_num, X_sub_cat,  X_sub_bin])\n",
    "X_sub.shape"
   ]
  },
  {
   "cell_type": "code",
   "execution_count": null,
   "metadata": {
    "execution": {
     "iopub.execute_input": "2021-10-10T14:47:23.10856Z",
     "iopub.status.busy": "2021-10-10T14:47:23.108097Z",
     "iopub.status.idle": "2021-10-10T14:47:23.15367Z",
     "shell.execute_reply": "2021-10-10T14:47:23.151983Z",
     "shell.execute_reply.started": "2021-10-10T14:47:23.108519Z"
    },
    "papermill": {
     "duration": 0.059208,
     "end_time": "2020-10-26T12:47:03.923564",
     "exception": false,
     "start_time": "2020-10-26T12:47:03.864356",
     "status": "completed"
    },
    "tags": []
   },
   "outputs": [],
   "source": [
    "X_train, X_test, y_train, y_test = train_test_split(X, y, test_size=0.2, shuffle=True, random_state=RANDOM_SEED)"
   ]
  },
  {
   "cell_type": "markdown",
   "metadata": {},
   "source": [
    "## Model 1: LinearRegression"
   ]
  },
  {
   "cell_type": "code",
   "execution_count": null,
   "metadata": {
    "execution": {
     "iopub.execute_input": "2021-10-10T14:47:23.155624Z",
     "iopub.status.busy": "2021-10-10T14:47:23.155277Z",
     "iopub.status.idle": "2021-10-10T14:47:23.519822Z",
     "shell.execute_reply": "2021-10-10T14:47:23.51812Z",
     "shell.execute_reply.started": "2021-10-10T14:47:23.155592Z"
    }
   },
   "outputs": [],
   "source": [
    "model = LinearRegression(n_jobs=-1).fit(X_train, np.log(y_train + 1))\n",
    "predict = np.exp(model.predict(X_test)) \n",
    "print(f\"Точность модели по метрике MAPE: {(mape(y_test, predict))*100:0.2f}%\")"
   ]
  },
  {
   "cell_type": "markdown",
   "metadata": {
    "papermill": {
     "duration": 0.037164,
     "end_time": "2020-10-26T12:47:03.997616",
     "exception": false,
     "start_time": "2020-10-26T12:47:03.960452",
     "status": "completed"
    },
    "tags": []
   },
   "source": [
    "## Model 2 : CatBoost"
   ]
  },
  {
   "cell_type": "code",
   "execution_count": null,
   "metadata": {
    "execution": {
     "iopub.execute_input": "2021-10-10T14:47:23.521696Z",
     "iopub.status.busy": "2021-10-10T14:47:23.521302Z",
     "iopub.status.idle": "2021-10-10T14:48:29.365985Z",
     "shell.execute_reply": "2021-10-10T14:48:29.364801Z",
     "shell.execute_reply.started": "2021-10-10T14:47:23.521662Z"
    }
   },
   "outputs": [],
   "source": [
    "model = CatBoostRegressor(iterations = 5000,\n",
    "                          random_seed = RANDOM_SEED,\n",
    "                          eval_metric='MAPE',\n",
    "                          custom_metric=['R2', 'MAE'],\n",
    "                          silent=True,\n",
    "                         )\n",
    "model.fit(X_train, np.log(y_train),\n",
    "         #cat_features=cat_features_ids,\n",
    "         eval_set=(X_test, np.log(y_test)),\n",
    "         verbose_eval=0,\n",
    "         use_best_model=True,\n",
    "         #plot=True\n",
    "         )\n",
    "\n",
    "model.save_model('catboost_single_model_2_baseline.model')\n",
    "\n",
    "predict_test = np.exp(model.predict(X_test))"
   ]
  },
  {
   "cell_type": "code",
   "execution_count": null,
   "metadata": {
    "execution": {
     "iopub.execute_input": "2021-10-10T14:48:29.369396Z",
     "iopub.status.busy": "2021-10-10T14:48:29.368839Z",
     "iopub.status.idle": "2021-10-10T14:48:29.378224Z",
     "shell.execute_reply": "2021-10-10T14:48:29.376783Z",
     "shell.execute_reply.started": "2021-10-10T14:48:29.369342Z"
    }
   },
   "outputs": [],
   "source": [
    "print(f\"Точность модели по метрике MAPE: {(mape(y_test, predict_test))*100:0.2f}%\")"
   ]
  },
  {
   "cell_type": "markdown",
   "metadata": {},
   "source": [
    "## Model 3: XGBoost"
   ]
  },
  {
   "cell_type": "markdown",
   "metadata": {},
   "source": [
    "### Гипермараметры"
   ]
  },
  {
   "cell_type": "code",
   "execution_count": null,
   "metadata": {
    "execution": {
     "iopub.execute_input": "2021-10-10T14:48:29.380953Z",
     "iopub.status.busy": "2021-10-10T14:48:29.380457Z",
     "iopub.status.idle": "2021-10-10T14:48:29.394896Z",
     "shell.execute_reply": "2021-10-10T14:48:29.393333Z",
     "shell.execute_reply.started": "2021-10-10T14:48:29.380901Z"
    }
   },
   "outputs": [],
   "source": [
    "max_depth = [8, 12, 14, 16]\n",
    "n_estimators = [100, 500, 1000]\n",
    "hyperparameters = dict(max_depth=max_depth, n_estimators=n_estimators)\n",
    "model = xgb.XGBRegressor()\n",
    "model.fit(X_train, y_train)\n",
    "\n",
    "clf = GridSearchCV(model, hyperparameters, cv=3, scoring='neg_mean_absolute_error')\n",
    "\n",
    "best_model = clf.fit(X_train, y_train).best_estimator_"
   ]
  },
  {
   "cell_type": "code",
   "execution_count": null,
   "metadata": {
    "execution": {
     "iopub.execute_input": "2021-10-10T14:48:29.398297Z",
     "iopub.status.busy": "2021-10-10T14:48:29.397818Z",
     "iopub.status.idle": "2021-10-10T14:48:29.412032Z",
     "shell.execute_reply": "2021-10-10T14:48:29.410104Z",
     "shell.execute_reply.started": "2021-10-10T14:48:29.398249Z"
    }
   },
   "outputs": [],
   "source": [
    "# Посмотрим на лучшие гиперпараметры:\n",
    "best_parameters = best_model.get_params()\n",
    "for param_name in sorted(best_parameters.keys()):\n",
    "        print('\\t%s: %r' % (param_name, best_parameters[param_name]))"
   ]
  },
  {
   "cell_type": "markdown",
   "metadata": {},
   "source": [
    "### Обучение модели"
   ]
  },
  {
   "cell_type": "code",
   "execution_count": null,
   "metadata": {
    "execution": {
     "iopub.execute_input": "2021-10-10T14:48:29.414327Z",
     "iopub.status.busy": "2021-10-10T14:48:29.413936Z",
     "iopub.status.idle": "2021-10-10T14:54:16.984656Z",
     "shell.execute_reply": "2021-10-10T14:54:16.983422Z",
     "shell.execute_reply.started": "2021-10-10T14:48:29.414295Z"
    }
   },
   "outputs": [],
   "source": [
    "xb = xgb.XGBRegressor(objective='reg:squarederror', colsample_bytree=0.5, learning_rate=0.03, \\\n",
    "                      max_depth=14, alpha=1, n_jobs=-1, n_estimators=1000)\n",
    "xb.fit(X_train, np.log(y_train + 1))\n",
    "print(f\"Точность модели по метрике MAPE: {(mape(y_test, np.exp(xb.predict(X_test))))*100:0.2f}%\")\n",
    "predict_submission = np.exp(xb.predict(X_sub))\n",
    "\n",
    "# max_depth = 8, MAPE = 12.85%\n",
    "# max_depth = 12, MAPE = 12.35%\n",
    "# max_depth = 12, MAPE = 12.32%\n",
    "# max_depth = 16, MAPE = 12.34%"
   ]
  },
  {
   "cell_type": "markdown",
   "metadata": {},
   "source": [
    "## Gradient Boosting"
   ]
  },
  {
   "cell_type": "code",
   "execution_count": null,
   "metadata": {
    "execution": {
     "iopub.execute_input": "2021-10-10T14:54:16.987098Z",
     "iopub.status.busy": "2021-10-10T14:54:16.986743Z",
     "iopub.status.idle": "2021-10-10T14:54:16.991947Z",
     "shell.execute_reply": "2021-10-10T14:54:16.990872Z",
     "shell.execute_reply.started": "2021-10-10T14:54:16.987064Z"
    }
   },
   "outputs": [],
   "source": [
    "gb = GradientBoostingRegressor(min_samples_split=2, learning_rate=0.03, max_depth=5, n_estimators=1000)\n",
    "gb.fit(X_train, np.log(y_train+1))\n",
    "print(f\"Точность модели по метрике MAPE: {(mape(y_test, np.exp(gb.predict(X_test))))*100:0.2f}%\")"
   ]
  },
  {
   "cell_type": "markdown",
   "metadata": {},
   "source": [
    "## Stacking"
   ]
  },
  {
   "cell_type": "code",
   "execution_count": null,
   "metadata": {
    "execution": {
     "iopub.execute_input": "2021-10-10T14:54:16.993805Z",
     "iopub.status.busy": "2021-10-10T14:54:16.993411Z",
     "iopub.status.idle": "2021-10-10T14:54:17.007938Z",
     "shell.execute_reply": "2021-10-10T14:54:17.006994Z",
     "shell.execute_reply.started": "2021-10-10T14:54:16.993775Z"
    }
   },
   "outputs": [],
   "source": [
    "scaler = StandardScaler() \n",
    "X_train = scaler.fit_transform(X_train) \n",
    "X_test = scaler.transform(X_test) \n",
    "\n",
    "\n",
    "y_train = y_train \n",
    "y_test = y_test\n",
    "\n",
    "cv = KFold(n_splits=5, shuffle=True, random_state=RANDOM_SEED)\n",
    "\n",
    "\n",
    "def compute_meta_feature(model, X_train, X_test, y_train, cv):\n",
    "    X_meta_train = np.zeros_like(y_train, dtype=np.float32)  \n",
    "    \n",
    "    for train_fold_index, predict_fold_index in cv.split(X_train):\n",
    "        X_fold_train, X_fold_predict = X_train[train_fold_index], X_train[predict_fold_index]\n",
    "        y_fold_train = y_train[train_fold_index]\n",
    "\n",
    "        folded_model = clone(model)\n",
    "        folded_model.fit(X_fold_train, y_fold_train)\n",
    "\n",
    "        X_meta_train[predict_fold_index] = folded_model.predict(X_fold_predict)\n",
    "\n",
    "    meta_model = clone(model)\n",
    "    meta_model.fit(X_train, y_train)\n",
    "\n",
    "    X_meta_test = meta_model.predict(X_test)\n",
    "\n",
    "    return X_meta_train, X_meta_test\n",
    "\n",
    "\n",
    "def generate_meta_features(model, X_train, X_test, y_train, cv):\n",
    "    features = [compute_meta_feature(model, X_train, X_test, y_train, cv) for model in tqdm(model)]    \n",
    "    stacked_features_train = np.vstack([features_train for features_train, features_test in features]).T\n",
    "    stacked_features_test = np.vstack([features_test for features_train, features_test in features]).T\n",
    "    return stacked_features_train, stacked_features_test\n",
    "\n",
    "X_train = np.where(np.isnan(X_train), 0, X_train)\n",
    "X_test = np.where(np.isnan(X_test), 0, X_test)\n",
    "y_train = np.where(np.isnan(y_train), 0, y_train)"
   ]
  },
  {
   "cell_type": "code",
   "execution_count": null,
   "metadata": {
    "execution": {
     "iopub.execute_input": "2021-10-10T14:54:17.009667Z",
     "iopub.status.busy": "2021-10-10T14:54:17.009228Z",
     "iopub.status.idle": "2021-10-10T14:54:17.024895Z",
     "shell.execute_reply": "2021-10-10T14:54:17.023687Z",
     "shell.execute_reply.started": "2021-10-10T14:54:17.009615Z"
    }
   },
   "outputs": [],
   "source": [
    "stacked_features_train, stacked_features_test = generate_meta_features([\n",
    "                            RandomForestRegressor(n_estimators=300, min_samples_split=2, min_samples_leaf=1, \n",
    "                                                  max_features=3, max_depth=19, bootstrap=True, random_state=RANDOM_SEED),\n",
    "                            GradientBoostingRegressor(min_samples_split=2, learning_rate=0.03, max_depth=10, n_estimators=300),\n",
    "                            KNeighborsRegressor(n_neighbors=2, algorithm = 'ball_tree', weights = 'distance', p=1),\n",
    "                            RandomForestRegressor(random_state = RANDOM_SEED, n_jobs = -1, verbose = 1, max_depth=5, n_estimators=200),\n",
    "                            ExtraTreesRegressor(random_state=RANDOM_SEED), \n",
    "                            RandomForestRegressor(random_state=RANDOM_SEED, max_depth=15)], X_train, X_test, y_train, cv)"
   ]
  },
  {
   "cell_type": "code",
   "execution_count": null,
   "metadata": {
    "execution": {
     "iopub.execute_input": "2021-10-10T14:54:17.026797Z",
     "iopub.status.busy": "2021-10-10T14:54:17.02647Z",
     "iopub.status.idle": "2021-10-10T14:54:17.042991Z",
     "shell.execute_reply": "2021-10-10T14:54:17.041604Z",
     "shell.execute_reply.started": "2021-10-10T14:54:17.026766Z"
    }
   },
   "outputs": [],
   "source": [
    "def compute_metric(model, X_train, y_train, X_test, y_test): \n",
    "    model.fit(X_train, y_train) \n",
    "    y_test_pred = model.predict(X_test) \n",
    "    return np.round(mape(y_test, y_test_pred)*100, 2)\n",
    "print(f\"Точность модели по метрике MAPE: {compute_metric(model, stacked_features_train, y_train, stacked_features_test, y_test)}%\")"
   ]
  },
  {
   "cell_type": "markdown",
   "metadata": {},
   "source": [
    "## Резюме: \n",
    "* Исследования показали, что наилучшего результата удается достичь применив модель **XGBoost**. \n",
    "* При дальнейшей работе с данными расчёты будут вестить с помощью **XGBoost**, **CatBoost** и **LinearRegression**, с целью снижения затрачиваемого на исследования времени.\n",
    "* Закомментировал некоторые модели, потому как они затрачивают много времени на расчёт. "
   ]
  },
  {
   "cell_type": "markdown",
   "metadata": {},
   "source": [
    "# История работы над проектом\n",
    "* **VERSION 0**: была сделана первичная обработка и исследование данных, добавлен признак **vehicle_condidtion**. Модель **CatBoost**, метрика **MAPE** = **12.77%** \n",
    "* **VERSION 1**: добавлены различные модели. Контрольные метрики:\n",
    "    * **CatBoost**: **MAPE** = **12.77%**\n",
    "    * **XGBoost**: **MAPE** = **12.37%**\n",
    "* **VERSION 2**: \n",
    "    * Были добавлены новые категориальные признаки **\"number_of_models\"**, **\"engine_displacement_classification\"**. \n",
    "    * Признак **\"color\"** изменен по степени распространенности цветов в объявлениях. \n",
    "    * Установлено, что любые изменения, а также добавление новых признаков в числовые переменные приводят к ухудшению результатов исследования.\n",
    "    * Оптимизирована обработка(Label encoding, One Hot encoding) категориальных признаков.\n",
    "    * Стандартизация не изменила результаты исследования. Применялись StandardScaler и RobustScaler из библиотеки scikit learn.\n",
    "    * Осуществлен подбор гиперпараметров модели XGBoost. \n",
    "    * Контрольные метрики:\n",
    "        * **CatBoost**: **MAPE** = **12.78%**\n",
    "        * **XGBoost**: **MAPE** = **12.32%** "
   ]
  },
  {
   "cell_type": "markdown",
   "metadata": {
    "papermill": {
     "duration": 0.085876,
     "end_time": "2020-10-26T12:48:12.734207",
     "exception": false,
     "start_time": "2020-10-26T12:48:12.648331",
     "status": "completed"
    },
    "tags": []
   },
   "source": [
    "# Submission"
   ]
  },
  {
   "cell_type": "code",
   "execution_count": null,
   "metadata": {
    "execution": {
     "iopub.execute_input": "2021-10-10T14:54:17.045348Z",
     "iopub.status.busy": "2021-10-10T14:54:17.044848Z",
     "iopub.status.idle": "2021-10-10T14:54:17.198947Z",
     "shell.execute_reply": "2021-10-10T14:54:17.197832Z",
     "shell.execute_reply.started": "2021-10-10T14:54:17.045303Z"
    },
    "papermill": {
     "duration": 0.628302,
     "end_time": "2020-10-26T12:48:13.763488",
     "exception": false,
     "start_time": "2020-10-26T12:48:13.135186",
     "status": "completed"
    },
    "tags": []
   },
   "outputs": [],
   "source": [
    "sample_submission['price'] = predict_submission\n",
    "sample_submission.to_csv(f'submission_v{VERSION}.csv', index=False)\n",
    "sample_submission.head(10)"
   ]
  }
 ],
 "metadata": {
  "kernelspec": {
   "display_name": "Python 3 (ipykernel)",
   "language": "python",
   "name": "python3"
  },
  "language_info": {
   "codemirror_mode": {
    "name": "ipython",
    "version": 3
   },
   "file_extension": ".py",
   "mimetype": "text/x-python",
   "name": "python",
   "nbconvert_exporter": "python",
   "pygments_lexer": "ipython3",
   "version": "3.8.11"
  },
  "latex_envs": {
   "LaTeX_envs_menu_present": true,
   "autoclose": false,
   "autocomplete": true,
   "bibliofile": "biblio.bib",
   "cite_by": "apalike",
   "current_citInitial": 1,
   "eqLabelWithNumbers": true,
   "eqNumInitial": 1,
   "hotkeys": {
    "equation": "Ctrl-E",
    "itemize": "Ctrl-I"
   },
   "labels_anchors": false,
   "latex_user_defs": false,
   "report_style_numbering": false,
   "user_envs_cfg": false
  },
  "toc": {
   "base_numbering": 1,
   "nav_menu": {},
   "number_sections": true,
   "sideBar": true,
   "skip_h1_title": false,
   "title_cell": "Table of Contents",
   "title_sidebar": "Contents",
   "toc_cell": false,
   "toc_position": {},
   "toc_section_display": true,
   "toc_window_display": false
  }
 },
 "nbformat": 4,
 "nbformat_minor": 4
}

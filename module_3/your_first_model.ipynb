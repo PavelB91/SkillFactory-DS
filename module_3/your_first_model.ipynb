{
 "cells": [
  {
   "cell_type": "markdown",
   "metadata": {},
   "source": [
    "# Загрузка Pandas и очистка данных"
   ]
  },
  {
   "cell_type": "code",
   "execution_count": 1,
   "metadata": {
    "ExecuteTime": {
     "end_time": "2021-06-27T10:17:20.463707Z",
     "start_time": "2021-06-27T10:17:18.696087Z"
    }
   },
   "outputs": [],
   "source": [
    "import pandas as pd\n",
    "import numpy as np\n",
    "from collections import Counter\n",
    "from datetime import datetime, timedelta\n",
    "from matplotlib import pyplot as plt\n",
    "import seaborn as sns\n",
    "\n",
    "import re\n",
    "from sklearn.preprocessing import LabelEncoder, OneHotEncoder\n",
    "\n",
    "%matplotlib inline\n",
    "\n",
    "RANDOM_SEED = 42"
   ]
  },
  {
   "cell_type": "markdown",
   "metadata": {},
   "source": [
    "## Предобработка"
   ]
  },
  {
   "cell_type": "code",
   "execution_count": 26,
   "metadata": {
    "ExecuteTime": {
     "end_time": "2021-06-27T10:21:36.450270Z",
     "start_time": "2021-06-27T10:21:36.442277Z"
    }
   },
   "outputs": [],
   "source": [
    "def rename_columns(df):\n",
    "    '''\n",
    "    Функция приводит названия колонок к единому формату.\n",
    "    '''\n",
    "\n",
    "    columns = {}\n",
    "    for column in df.columns:\n",
    "        columns[column] = column.lower().strip().replace(' ', '_')\n",
    "    return df.rename(columns=columns, inplace=True)\n",
    "\n",
    "\n",
    "def missing_data(df):\n",
    "    '''\n",
    "    Отображает процент пропусков по каждой колонке.\n",
    "    '''\n",
    "    for column in df.columns:\n",
    "        missing = df[column].isnull().sum()\n",
    "        percent_of_missing = np.mean(df[column].isnull())\n",
    "        if missing > 0:\n",
    "            print('{} - {} values, {:.2f}%'.format(column, missing, percent_of_missing*100))\n",
    "            \n",
    "            \n",
    "def IQR_outlier(column, verbose=True):\n",
    "    '''\n",
    "    Функция для отображения границ межквартильного размаха\n",
    "    '''\n",
    "    perc25 = df[column].quantile(0.25)\n",
    "    perc75 = df[column].quantile(0.75)\n",
    "    IQR = perc75 - perc25\n",
    "    low = perc25 - 1.5*IQR\n",
    "    high = perc75 + 1.5*IQR\n",
    "    if verbose:\n",
    "        print('25-й перцентиль: {},'.format(perc25)[:-1], '75-й перцентиль: {},'.format(perc75),\n",
    "            \"IQR: {}, \".format(IQR), \"Границы выбросов: [{f}, {l}].\".format(f=low, l=high))\n",
    "    return (low, high)"
   ]
  },
  {
   "cell_type": "markdown",
   "metadata": {},
   "source": [
    "## Импорт данных"
   ]
  },
  {
   "cell_type": "code",
   "execution_count": 3,
   "metadata": {
    "ExecuteTime": {
     "end_time": "2021-06-27T10:17:20.712594Z",
     "start_time": "2021-06-27T10:17:20.486733Z"
    }
   },
   "outputs": [],
   "source": [
    "df = pd.read_csv('main_task.csv')\n",
    "rename_columns(df)"
   ]
  },
  {
   "cell_type": "markdown",
   "metadata": {
    "ExecuteTime": {
     "end_time": "2021-06-25T08:04:21.462655Z",
     "start_time": "2021-06-25T08:04:21.445667Z"
    }
   },
   "source": [
    "## Детальный анализ"
   ]
  },
  {
   "cell_type": "code",
   "execution_count": 4,
   "metadata": {
    "ExecuteTime": {
     "end_time": "2021-06-27T10:17:20.755566Z",
     "start_time": "2021-06-27T10:17:20.713592Z"
    }
   },
   "outputs": [
    {
     "name": "stdout",
     "output_type": "stream",
     "text": [
      "<class 'pandas.core.frame.DataFrame'>\n",
      "RangeIndex: 40000 entries, 0 to 39999\n",
      "Data columns (total 10 columns):\n",
      " #   Column             Non-Null Count  Dtype  \n",
      "---  ------             --------------  -----  \n",
      " 0   restaurant_id      40000 non-null  object \n",
      " 1   city               40000 non-null  object \n",
      " 2   cuisine_style      30717 non-null  object \n",
      " 3   ranking            40000 non-null  float64\n",
      " 4   rating             40000 non-null  float64\n",
      " 5   price_range        26114 non-null  object \n",
      " 6   number_of_reviews  37457 non-null  float64\n",
      " 7   reviews            40000 non-null  object \n",
      " 8   url_ta             40000 non-null  object \n",
      " 9   id_ta              40000 non-null  object \n",
      "dtypes: float64(3), object(7)\n",
      "memory usage: 3.1+ MB\n"
     ]
    },
    {
     "data": {
      "text/plain": [
       "None"
      ]
     },
     "metadata": {},
     "output_type": "display_data"
    }
   ],
   "source": [
    "display(df.info())"
   ]
  },
  {
   "cell_type": "code",
   "execution_count": 5,
   "metadata": {
    "ExecuteTime": {
     "end_time": "2021-06-27T10:17:20.819526Z",
     "start_time": "2021-06-27T10:17:20.758564Z"
    }
   },
   "outputs": [
    {
     "name": "stdout",
     "output_type": "stream",
     "text": [
      "cuisine_style - 9283 values, 23.21%\n",
      "price_range - 13886 values, 34.72%\n",
      "number_of_reviews - 2543 values, 6.36%\n"
     ]
    }
   ],
   "source": [
    "missing_data(df)"
   ]
  },
  {
   "cell_type": "code",
   "execution_count": 6,
   "metadata": {
    "ExecuteTime": {
     "end_time": "2021-06-27T10:17:21.342201Z",
     "start_time": "2021-06-27T10:17:20.825523Z"
    }
   },
   "outputs": [
    {
     "data": {
      "text/plain": [
       "[<matplotlib.lines.Line2D at 0x1b2dd09edf0>]"
      ]
     },
     "execution_count": 6,
     "metadata": {},
     "output_type": "execute_result"
    },
    {
     "data": {
      "image/png": "[encoded data removed]",
      "text/plain": [
       "<Figure size 432x288 with 1 Axes>"
      ]
     },
     "metadata": {
      "needs_background": "light"
     },
     "output_type": "display_data"
    }
   ],
   "source": [
    "x = df['restaurant_id'].apply(lambda x: x[3:]).astype('int16')\n",
    "plt.plot(x)"
   ]
  },
  {
   "cell_type": "code",
   "execution_count": 7,
   "metadata": {
    "ExecuteTime": {
     "end_time": "2021-06-27T10:17:21.806914Z",
     "start_time": "2021-06-27T10:17:21.346199Z"
    },
    "scrolled": true
   },
   "outputs": [
    {
     "data": {
      "text/plain": [
       "[<matplotlib.lines.Line2D at 0x1b2dd178d90>]"
      ]
     },
     "execution_count": 7,
     "metadata": {},
     "output_type": "execute_result"
    },
    {
     "data": {
      "image/png": "[encoded data removed]",
      "text/plain": [
       "<Figure size 432x288 with 1 Axes>"
      ]
     },
     "metadata": {
      "needs_background": "light"
     },
     "output_type": "display_data"
    }
   ],
   "source": [
    "x= df['restaurant_id'].apply(lambda x: x[x.find('_')+1:]).astype('int32')\n",
    "plt.plot(x)"
   ]
  },
  {
   "cell_type": "code",
   "execution_count": null,
   "metadata": {},
   "outputs": [],
   "source": []
  },
  {
   "cell_type": "code",
   "execution_count": null,
   "metadata": {},
   "outputs": [],
   "source": []
  },
  {
   "cell_type": "markdown",
   "metadata": {},
   "source": [
    "## Вопросы"
   ]
  },
  {
   "cell_type": "code",
   "execution_count": 8,
   "metadata": {
    "ExecuteTime": {
     "end_time": "2021-06-27T10:17:21.862882Z",
     "start_time": "2021-06-27T10:17:21.809915Z"
    },
    "scrolled": false
   },
   "outputs": [
    {
     "data": {
      "text/html": [
       "<div>\n",
       "<style scoped>\n",
       "    .dataframe tbody tr th:only-of-type {\n",
       "        vertical-align: middle;\n",
       "    }\n",
       "\n",
       "    .dataframe tbody tr th {\n",
       "        vertical-align: top;\n",
       "    }\n",
       "\n",
       "    .dataframe thead th {\n",
       "        text-align: right;\n",
       "    }\n",
       "</style>\n",
       "<table border=\"1\" class=\"dataframe\">\n",
       "  <thead>\n",
       "    <tr style=\"text-align: right;\">\n",
       "      <th></th>\n",
       "      <th>restaurant_id</th>\n",
       "      <th>city</th>\n",
       "      <th>cuisine_style</th>\n",
       "      <th>ranking</th>\n",
       "      <th>rating</th>\n",
       "      <th>price_range</th>\n",
       "      <th>number_of_reviews</th>\n",
       "      <th>reviews</th>\n",
       "      <th>url_ta</th>\n",
       "      <th>id_ta</th>\n",
       "    </tr>\n",
       "  </thead>\n",
       "  <tbody>\n",
       "    <tr>\n",
       "      <th>0</th>\n",
       "      <td>id_5569</td>\n",
       "      <td>Paris</td>\n",
       "      <td>['European', 'French', 'International']</td>\n",
       "      <td>5570.0</td>\n",
       "      <td>3.5</td>\n",
       "      <td>$$ - $$$</td>\n",
       "      <td>194.0</td>\n",
       "      <td>[['Good food at your doorstep', 'A good hotel ...</td>\n",
       "      <td>/Restaurant_Review-g187147-d1912643-Reviews-R_...</td>\n",
       "      <td>d1912643</td>\n",
       "    </tr>\n",
       "    <tr>\n",
       "      <th>1</th>\n",
       "      <td>id_1535</td>\n",
       "      <td>Stockholm</td>\n",
       "      <td>NaN</td>\n",
       "      <td>1537.0</td>\n",
       "      <td>4.0</td>\n",
       "      <td>NaN</td>\n",
       "      <td>10.0</td>\n",
       "      <td>[['Unique cuisine', 'Delicious Nepalese food']...</td>\n",
       "      <td>/Restaurant_Review-g189852-d7992032-Reviews-Bu...</td>\n",
       "      <td>d7992032</td>\n",
       "    </tr>\n",
       "    <tr>\n",
       "      <th>2</th>\n",
       "      <td>id_352</td>\n",
       "      <td>London</td>\n",
       "      <td>['Japanese', 'Sushi', 'Asian', 'Grill', 'Veget...</td>\n",
       "      <td>353.0</td>\n",
       "      <td>4.5</td>\n",
       "      <td>$$$$</td>\n",
       "      <td>688.0</td>\n",
       "      <td>[['Catch up with friends', 'Not exceptional'],...</td>\n",
       "      <td>/Restaurant_Review-g186338-d8632781-Reviews-RO...</td>\n",
       "      <td>d8632781</td>\n",
       "    </tr>\n",
       "    <tr>\n",
       "      <th>3</th>\n",
       "      <td>id_3456</td>\n",
       "      <td>Berlin</td>\n",
       "      <td>NaN</td>\n",
       "      <td>3458.0</td>\n",
       "      <td>5.0</td>\n",
       "      <td>NaN</td>\n",
       "      <td>3.0</td>\n",
       "      <td>[[], []]</td>\n",
       "      <td>/Restaurant_Review-g187323-d1358776-Reviews-Es...</td>\n",
       "      <td>d1358776</td>\n",
       "    </tr>\n",
       "    <tr>\n",
       "      <th>4</th>\n",
       "      <td>id_615</td>\n",
       "      <td>Munich</td>\n",
       "      <td>['German', 'Central European', 'Vegetarian Fri...</td>\n",
       "      <td>621.0</td>\n",
       "      <td>4.0</td>\n",
       "      <td>$$ - $$$</td>\n",
       "      <td>84.0</td>\n",
       "      <td>[['Best place to try a Bavarian food', 'Nice b...</td>\n",
       "      <td>/Restaurant_Review-g187309-d6864963-Reviews-Au...</td>\n",
       "      <td>d6864963</td>\n",
       "    </tr>\n",
       "  </tbody>\n",
       "</table>\n",
       "</div>"
      ],
      "text/plain": [
       "  restaurant_id       city                                      cuisine_style  \\\n",
       "0       id_5569      Paris            ['European', 'French', 'International']   \n",
       "1       id_1535  Stockholm                                                NaN   \n",
       "2        id_352     London  ['Japanese', 'Sushi', 'Asian', 'Grill', 'Veget...   \n",
       "3       id_3456     Berlin                                                NaN   \n",
       "4        id_615     Munich  ['German', 'Central European', 'Vegetarian Fri...   \n",
       "\n",
       "   ranking  rating price_range  number_of_reviews  \\\n",
       "0   5570.0     3.5    $$ - $$$              194.0   \n",
       "1   1537.0     4.0         NaN               10.0   \n",
       "2    353.0     4.5        $$$$              688.0   \n",
       "3   3458.0     5.0         NaN                3.0   \n",
       "4    621.0     4.0    $$ - $$$               84.0   \n",
       "\n",
       "                                             reviews  \\\n",
       "0  [['Good food at your doorstep', 'A good hotel ...   \n",
       "1  [['Unique cuisine', 'Delicious Nepalese food']...   \n",
       "2  [['Catch up with friends', 'Not exceptional'],...   \n",
       "3                                           [[], []]   \n",
       "4  [['Best place to try a Bavarian food', 'Nice b...   \n",
       "\n",
       "                                              url_ta     id_ta  \n",
       "0  /Restaurant_Review-g187147-d1912643-Reviews-R_...  d1912643  \n",
       "1  /Restaurant_Review-g189852-d7992032-Reviews-Bu...  d7992032  \n",
       "2  /Restaurant_Review-g186338-d8632781-Reviews-RO...  d8632781  \n",
       "3  /Restaurant_Review-g187323-d1358776-Reviews-Es...  d1358776  \n",
       "4  /Restaurant_Review-g187309-d6864963-Reviews-Au...  d6864963  "
      ]
     },
     "metadata": {},
     "output_type": "display_data"
    },
    {
     "name": "stdout",
     "output_type": "stream",
     "text": [
      "<class 'pandas.core.frame.DataFrame'>\n",
      "RangeIndex: 40000 entries, 0 to 39999\n",
      "Data columns (total 10 columns):\n",
      " #   Column             Non-Null Count  Dtype  \n",
      "---  ------             --------------  -----  \n",
      " 0   restaurant_id      40000 non-null  object \n",
      " 1   city               40000 non-null  object \n",
      " 2   cuisine_style      30717 non-null  object \n",
      " 3   ranking            40000 non-null  float64\n",
      " 4   rating             40000 non-null  float64\n",
      " 5   price_range        26114 non-null  object \n",
      " 6   number_of_reviews  37457 non-null  float64\n",
      " 7   reviews            40000 non-null  object \n",
      " 8   url_ta             40000 non-null  object \n",
      " 9   id_ta              40000 non-null  object \n",
      "dtypes: float64(3), object(7)\n",
      "memory usage: 3.1+ MB\n"
     ]
    }
   ],
   "source": [
    "display(df.head())\n",
    "df.info()"
   ]
  },
  {
   "cell_type": "markdown",
   "metadata": {},
   "source": [
    "### "
   ]
  },
  {
   "cell_type": "code",
   "execution_count": 9,
   "metadata": {
    "ExecuteTime": {
     "end_time": "2021-06-27T10:17:21.881867Z",
     "start_time": "2021-06-27T10:17:21.865878Z"
    },
    "scrolled": true
   },
   "outputs": [
    {
     "data": {
      "text/plain": [
       "$$ - $$$    18412\n",
       "$            6279\n",
       "$$$$         1423\n",
       "Name: price_range, dtype: int64"
      ]
     },
     "execution_count": 9,
     "metadata": {},
     "output_type": "execute_result"
    }
   ],
   "source": [
    "df['price_range'].value_counts()"
   ]
  },
  {
   "cell_type": "markdown",
   "metadata": {
    "ExecuteTime": {
     "end_time": "2021-06-14T09:52:42.186094Z",
     "start_time": "2021-06-14T09:52:42.168109Z"
    }
   },
   "source": [
    "### "
   ]
  },
  {
   "cell_type": "code",
   "execution_count": 10,
   "metadata": {
    "ExecuteTime": {
     "end_time": "2021-06-27T10:17:21.901857Z",
     "start_time": "2021-06-27T10:17:21.884866Z"
    },
    "scrolled": true
   },
   "outputs": [
    {
     "data": {
      "text/plain": [
       "31"
      ]
     },
     "execution_count": 10,
     "metadata": {},
     "output_type": "execute_result"
    }
   ],
   "source": [
    "df['city'].nunique()"
   ]
  },
  {
   "cell_type": "markdown",
   "metadata": {},
   "source": [
    "### "
   ]
  },
  {
   "cell_type": "code",
   "execution_count": 11,
   "metadata": {
    "ExecuteTime": {
     "end_time": "2021-06-27T10:17:22.080748Z",
     "start_time": "2021-06-27T10:17:21.905853Z"
    }
   },
   "outputs": [
    {
     "data": {
      "text/plain": [
       "125"
      ]
     },
     "execution_count": 11,
     "metadata": {},
     "output_type": "execute_result"
    }
   ],
   "source": [
    "cuisine_series = df[df['cuisine_style'].notnull()]['cuisine_style']\n",
    "cuisine_series = cuisine_series.apply(lambda x: x[1:-1].lower()).str.split(', ')\n",
    "cuisine_series.explode().nunique()"
   ]
  },
  {
   "cell_type": "code",
   "execution_count": 12,
   "metadata": {
    "ExecuteTime": {
     "end_time": "2021-06-27T10:17:22.179684Z",
     "start_time": "2021-06-27T10:17:22.082743Z"
    },
    "scrolled": true
   },
   "outputs": [
    {
     "data": {
      "text/plain": [
       "'vegetarian friendly'    11189\n",
       "Name: cuisine_style, dtype: int64"
      ]
     },
     "execution_count": 12,
     "metadata": {},
     "output_type": "execute_result"
    }
   ],
   "source": [
    "cuisine_series.explode().value_counts().head(1)"
   ]
  },
  {
   "cell_type": "code",
   "execution_count": 13,
   "metadata": {
    "ExecuteTime": {
     "end_time": "2021-06-27T10:17:22.275623Z",
     "start_time": "2021-06-27T10:17:22.181682Z"
    }
   },
   "outputs": [],
   "source": [
    "cuisine_series_nan = df[df['cuisine_style'].isnull()]['cuisine_style']\n",
    "cuisine_series_nan = cuisine_series_nan.fillna('Unknown').str.split()"
   ]
  },
  {
   "cell_type": "code",
   "execution_count": 14,
   "metadata": {
    "ExecuteTime": {
     "end_time": "2021-06-27T10:17:22.363571Z",
     "start_time": "2021-06-27T10:17:22.277622Z"
    }
   },
   "outputs": [
    {
     "name": "stdout",
     "output_type": "stream",
     "text": [
      "2.6\n"
     ]
    }
   ],
   "source": [
    "cuisine_mode = cuisine_series.append(cuisine_series_nan)\n",
    "average_cuisine = 0\n",
    "for cuisine in cuisine_mode:\n",
    "    average_cuisine += len(cuisine) / len(cuisine_mode)\n",
    "print(round(average_cuisine, 1))"
   ]
  },
  {
   "cell_type": "markdown",
   "metadata": {},
   "source": [
    "### "
   ]
  },
  {
   "cell_type": "code",
   "execution_count": 15,
   "metadata": {
    "ExecuteTime": {
     "end_time": "2021-06-27T10:17:22.373566Z",
     "start_time": "2021-06-27T10:17:22.365568Z"
    }
   },
   "outputs": [
    {
     "name": "stdout",
     "output_type": "stream",
     "text": [
      "['12/31/2017', '11/20/2017']\n",
      "2017-12-31 00:00:00\n"
     ]
    }
   ],
   "source": [
    "pattern = re.compile('\\d+\\/\\d+\\/\\d+')\n",
    "x = pattern.findall(df['reviews'][0])\n",
    "print(x)\n",
    "y = datetime.strptime(x[0], '%m/%d/%Y')\n",
    "print(y)"
   ]
  },
  {
   "cell_type": "markdown",
   "metadata": {},
   "source": [
    "## Обработка датасета"
   ]
  },
  {
   "cell_type": "markdown",
   "metadata": {},
   "source": [
    "### Feature engineering"
   ]
  },
  {
   "cell_type": "code",
   "execution_count": 16,
   "metadata": {
    "ExecuteTime": {
     "end_time": "2021-06-27T10:17:53.781342Z",
     "start_time": "2021-06-27T10:17:22.376562Z"
    }
   },
   "outputs": [],
   "source": [
    "dates = df['reviews'].str.findall('\\d+\\/\\d+\\/\\d+')\n",
    "df['first_review'] = dates.apply(lambda x: pd.to_datetime(x).min())\n",
    "df['last_review'] = dates.apply(lambda x: pd.to_datetime(x).max())\n",
    "# Создадим колонку с разницей между первым и вторым отзывом.\n",
    "df['difference_dates_of_reviews'] = df['last_review'] - df['first_review']\n",
    "df['difference_dates_of_reviews'] = df['difference_dates_of_reviews'].apply(lambda x: x.days)  # выразим в формате дней.\n",
    "# Заменим пропуски средним значением\n",
    "df['difference_dates_of_reviews'].fillna(df['difference_dates_of_reviews'].mean(), inplace=True)"
   ]
  },
  {
   "cell_type": "code",
   "execution_count": 17,
   "metadata": {
    "ExecuteTime": {
     "end_time": "2021-06-27T10:17:53.839348Z",
     "start_time": "2021-06-27T10:17:53.781342Z"
    }
   },
   "outputs": [],
   "source": [
    "# Создадим словарь в котором отражено население и площадь каждого города МАЕ 0,21239\n",
    "cities = list(sorted(df['city'].unique()))\n",
    "# Населенеи выражено в млн.чел\n",
    "population = [0.825080, 3.168846, 0.424819, 3.326002, 0.413192, 0.176545, 1.744665, 1.246611, 0.506211,\n",
    "              0.482005, 0.198899, 1.718187, 0.574579, 0.756183, 0.547733, 0.277554, 8.538689, 0.214,\n",
    "              0.506615, 3.155360, 1.331586, 1.561094, 0.258975, 0.673469, 2.148327, 1.272690,  2.870493,\n",
    "              0.961609, 1.765649, 1.720398, 0.402275]\n",
    "area = [219.4, 412, 101.3, 891.68, 368, 32.61, 525.14, 86.40, 318, 118, 15.93, 755.09, 213.8, 327, 100.05,\n",
    "        163.8, 1572, 51.47, 47.87, 607, 181.67, 310.71, 41.66, 454, 105.4, 496, 1287.36, 188, 414.75, 517, 91.88]\n",
    "city_population_dict = dict(zip(cities, population))\n",
    "city_area_dict = dict(zip(cities, area))\n",
    "# city_population_dict\n",
    "# city_area_dict\n",
    "df['city_area'] = df['city'].map(lambda x: city_area_dict[x])\n",
    "df['city_population'] = df['city'].map(lambda x: city_population_dict[x])"
   ]
  },
  {
   "cell_type": "code",
   "execution_count": 18,
   "metadata": {
    "ExecuteTime": {
     "end_time": "2021-06-27T10:17:53.874328Z",
     "start_time": "2021-06-27T10:17:53.842348Z"
    }
   },
   "outputs": [],
   "source": [
    "# Определим количество ресторанов в каждом городе.\n",
    "restorants_in_city = df.groupby('city')['ranking'].count().to_dict()\n",
    "df['restaurants_count'] = df['city'].map(restorants_in_city)\n",
    "# Количество ресторанов на 10_000 человек\n",
    "df['restaurants_for_population'] = df['restaurants_count'] / (df['city_population'] * 10_000)"
   ]
  },
  {
   "cell_type": "code",
   "execution_count": 19,
   "metadata": {
    "ExecuteTime": {
     "end_time": "2021-06-27T10:17:53.931293Z",
     "start_time": "2021-06-27T10:17:53.876326Z"
    }
   },
   "outputs": [
    {
     "data": {
      "text/html": [
       "<div>\n",
       "<style scoped>\n",
       "    .dataframe tbody tr th:only-of-type {\n",
       "        vertical-align: middle;\n",
       "    }\n",
       "\n",
       "    .dataframe tbody tr th {\n",
       "        vertical-align: top;\n",
       "    }\n",
       "\n",
       "    .dataframe thead th {\n",
       "        text-align: right;\n",
       "    }\n",
       "</style>\n",
       "<table border=\"1\" class=\"dataframe\">\n",
       "  <thead>\n",
       "    <tr style=\"text-align: right;\">\n",
       "      <th></th>\n",
       "      <th>restaurant_id</th>\n",
       "      <th>city</th>\n",
       "      <th>cuisine_style</th>\n",
       "      <th>ranking</th>\n",
       "      <th>rating</th>\n",
       "      <th>price_range</th>\n",
       "      <th>number_of_reviews</th>\n",
       "      <th>reviews</th>\n",
       "      <th>url_ta</th>\n",
       "      <th>id_ta</th>\n",
       "      <th>first_review</th>\n",
       "      <th>last_review</th>\n",
       "      <th>difference_dates_of_reviews</th>\n",
       "      <th>city_area</th>\n",
       "      <th>city_population</th>\n",
       "      <th>restaurants_count</th>\n",
       "      <th>restaurants_for_population</th>\n",
       "    </tr>\n",
       "  </thead>\n",
       "  <tbody>\n",
       "    <tr>\n",
       "      <th>0</th>\n",
       "      <td>id_5569</td>\n",
       "      <td>Paris</td>\n",
       "      <td>['European', 'French', 'International']</td>\n",
       "      <td>5570.0</td>\n",
       "      <td>3.5</td>\n",
       "      <td>$$ - $$$</td>\n",
       "      <td>194.0</td>\n",
       "      <td>[['Good food at your doorstep', 'A good hotel ...</td>\n",
       "      <td>/Restaurant_Review-g187147-d1912643-Reviews-R_...</td>\n",
       "      <td>d1912643</td>\n",
       "      <td>2017-11-20</td>\n",
       "      <td>2017-12-31</td>\n",
       "      <td>41.000000</td>\n",
       "      <td>105.40</td>\n",
       "      <td>2.148327</td>\n",
       "      <td>4897</td>\n",
       "      <td>0.227945</td>\n",
       "    </tr>\n",
       "    <tr>\n",
       "      <th>1</th>\n",
       "      <td>id_1535</td>\n",
       "      <td>Stockholm</td>\n",
       "      <td>NaN</td>\n",
       "      <td>1537.0</td>\n",
       "      <td>4.0</td>\n",
       "      <td>NaN</td>\n",
       "      <td>10.0</td>\n",
       "      <td>[['Unique cuisine', 'Delicious Nepalese food']...</td>\n",
       "      <td>/Restaurant_Review-g189852-d7992032-Reviews-Bu...</td>\n",
       "      <td>d7992032</td>\n",
       "      <td>2016-06-19</td>\n",
       "      <td>2017-07-06</td>\n",
       "      <td>382.000000</td>\n",
       "      <td>188.00</td>\n",
       "      <td>0.961609</td>\n",
       "      <td>820</td>\n",
       "      <td>0.085274</td>\n",
       "    </tr>\n",
       "    <tr>\n",
       "      <th>2</th>\n",
       "      <td>id_352</td>\n",
       "      <td>London</td>\n",
       "      <td>['Japanese', 'Sushi', 'Asian', 'Grill', 'Veget...</td>\n",
       "      <td>353.0</td>\n",
       "      <td>4.5</td>\n",
       "      <td>$$$$</td>\n",
       "      <td>688.0</td>\n",
       "      <td>[['Catch up with friends', 'Not exceptional'],...</td>\n",
       "      <td>/Restaurant_Review-g186338-d8632781-Reviews-RO...</td>\n",
       "      <td>d8632781</td>\n",
       "      <td>2018-01-06</td>\n",
       "      <td>2018-01-08</td>\n",
       "      <td>2.000000</td>\n",
       "      <td>1572.00</td>\n",
       "      <td>8.538689</td>\n",
       "      <td>5757</td>\n",
       "      <td>0.067423</td>\n",
       "    </tr>\n",
       "    <tr>\n",
       "      <th>3</th>\n",
       "      <td>id_3456</td>\n",
       "      <td>Berlin</td>\n",
       "      <td>NaN</td>\n",
       "      <td>3458.0</td>\n",
       "      <td>5.0</td>\n",
       "      <td>NaN</td>\n",
       "      <td>3.0</td>\n",
       "      <td>[[], []]</td>\n",
       "      <td>/Restaurant_Review-g187323-d1358776-Reviews-Es...</td>\n",
       "      <td>d1358776</td>\n",
       "      <td>NaT</td>\n",
       "      <td>NaT</td>\n",
       "      <td>122.455993</td>\n",
       "      <td>891.68</td>\n",
       "      <td>3.326002</td>\n",
       "      <td>2155</td>\n",
       "      <td>0.064793</td>\n",
       "    </tr>\n",
       "    <tr>\n",
       "      <th>4</th>\n",
       "      <td>id_615</td>\n",
       "      <td>Munich</td>\n",
       "      <td>['German', 'Central European', 'Vegetarian Fri...</td>\n",
       "      <td>621.0</td>\n",
       "      <td>4.0</td>\n",
       "      <td>$$ - $$$</td>\n",
       "      <td>84.0</td>\n",
       "      <td>[['Best place to try a Bavarian food', 'Nice b...</td>\n",
       "      <td>/Restaurant_Review-g187309-d6864963-Reviews-Au...</td>\n",
       "      <td>d6864963</td>\n",
       "      <td>2017-02-19</td>\n",
       "      <td>2017-11-18</td>\n",
       "      <td>272.000000</td>\n",
       "      <td>310.71</td>\n",
       "      <td>1.561094</td>\n",
       "      <td>893</td>\n",
       "      <td>0.057203</td>\n",
       "    </tr>\n",
       "    <tr>\n",
       "      <th>...</th>\n",
       "      <td>...</td>\n",
       "      <td>...</td>\n",
       "      <td>...</td>\n",
       "      <td>...</td>\n",
       "      <td>...</td>\n",
       "      <td>...</td>\n",
       "      <td>...</td>\n",
       "      <td>...</td>\n",
       "      <td>...</td>\n",
       "      <td>...</td>\n",
       "      <td>...</td>\n",
       "      <td>...</td>\n",
       "      <td>...</td>\n",
       "      <td>...</td>\n",
       "      <td>...</td>\n",
       "      <td>...</td>\n",
       "      <td>...</td>\n",
       "    </tr>\n",
       "    <tr>\n",
       "      <th>39995</th>\n",
       "      <td>id_499</td>\n",
       "      <td>Milan</td>\n",
       "      <td>['Italian', 'Vegetarian Friendly', 'Vegan Opti...</td>\n",
       "      <td>500.0</td>\n",
       "      <td>4.5</td>\n",
       "      <td>$$ - $$$</td>\n",
       "      <td>79.0</td>\n",
       "      <td>[['The real Italian experience!', 'Wonderful f...</td>\n",
       "      <td>/Restaurant_Review-g187849-d2104414-Reviews-Ro...</td>\n",
       "      <td>d2104414</td>\n",
       "      <td>2017-11-12</td>\n",
       "      <td>2017-12-16</td>\n",
       "      <td>34.000000</td>\n",
       "      <td>181.67</td>\n",
       "      <td>1.331586</td>\n",
       "      <td>2133</td>\n",
       "      <td>0.160185</td>\n",
       "    </tr>\n",
       "    <tr>\n",
       "      <th>39996</th>\n",
       "      <td>id_6340</td>\n",
       "      <td>Paris</td>\n",
       "      <td>['French', 'American', 'Bar', 'European', 'Veg...</td>\n",
       "      <td>6341.0</td>\n",
       "      <td>3.5</td>\n",
       "      <td>$$ - $$$</td>\n",
       "      <td>542.0</td>\n",
       "      <td>[['Parisian atmosphere', 'Bit pricey but inter...</td>\n",
       "      <td>/Restaurant_Review-g187147-d1800036-Reviews-La...</td>\n",
       "      <td>d1800036</td>\n",
       "      <td>2017-12-12</td>\n",
       "      <td>2017-12-21</td>\n",
       "      <td>9.000000</td>\n",
       "      <td>105.40</td>\n",
       "      <td>2.148327</td>\n",
       "      <td>4897</td>\n",
       "      <td>0.227945</td>\n",
       "    </tr>\n",
       "    <tr>\n",
       "      <th>39997</th>\n",
       "      <td>id_1649</td>\n",
       "      <td>Stockholm</td>\n",
       "      <td>['Japanese', 'Sushi']</td>\n",
       "      <td>1652.0</td>\n",
       "      <td>4.5</td>\n",
       "      <td>NaN</td>\n",
       "      <td>4.0</td>\n",
       "      <td>[['Good by swedish standards', 'A hidden jewel...</td>\n",
       "      <td>/Restaurant_Review-g189852-d947615-Reviews-Sus...</td>\n",
       "      <td>d947615</td>\n",
       "      <td>2008-04-12</td>\n",
       "      <td>2016-11-03</td>\n",
       "      <td>3127.000000</td>\n",
       "      <td>188.00</td>\n",
       "      <td>0.961609</td>\n",
       "      <td>820</td>\n",
       "      <td>0.085274</td>\n",
       "    </tr>\n",
       "    <tr>\n",
       "      <th>39998</th>\n",
       "      <td>id_640</td>\n",
       "      <td>Warsaw</td>\n",
       "      <td>['Polish', 'European', 'Eastern European', 'Ce...</td>\n",
       "      <td>641.0</td>\n",
       "      <td>4.0</td>\n",
       "      <td>$$ - $$$</td>\n",
       "      <td>70.0</td>\n",
       "      <td>[['Underground restaurant', 'Oldest Restaurant...</td>\n",
       "      <td>/Restaurant_Review-g274856-d1100838-Reviews-Ho...</td>\n",
       "      <td>d1100838</td>\n",
       "      <td>2017-06-18</td>\n",
       "      <td>2017-07-11</td>\n",
       "      <td>23.000000</td>\n",
       "      <td>517.00</td>\n",
       "      <td>1.720398</td>\n",
       "      <td>727</td>\n",
       "      <td>0.042258</td>\n",
       "    </tr>\n",
       "    <tr>\n",
       "      <th>39999</th>\n",
       "      <td>id_4824</td>\n",
       "      <td>Milan</td>\n",
       "      <td>['Spanish']</td>\n",
       "      <td>4827.0</td>\n",
       "      <td>3.0</td>\n",
       "      <td>$$ - $$$</td>\n",
       "      <td>260.0</td>\n",
       "      <td>[['Average', 'Nice an informal'], ['01/31/2016...</td>\n",
       "      <td>/Restaurant_Review-g187849-d1109020-Reviews-Ta...</td>\n",
       "      <td>d1109020</td>\n",
       "      <td>2012-07-04</td>\n",
       "      <td>2016-01-31</td>\n",
       "      <td>1306.000000</td>\n",
       "      <td>181.67</td>\n",
       "      <td>1.331586</td>\n",
       "      <td>2133</td>\n",
       "      <td>0.160185</td>\n",
       "    </tr>\n",
       "  </tbody>\n",
       "</table>\n",
       "<p>40000 rows × 17 columns</p>\n",
       "</div>"
      ],
      "text/plain": [
       "      restaurant_id       city  \\\n",
       "0           id_5569      Paris   \n",
       "1           id_1535  Stockholm   \n",
       "2            id_352     London   \n",
       "3           id_3456     Berlin   \n",
       "4            id_615     Munich   \n",
       "...             ...        ...   \n",
       "39995        id_499      Milan   \n",
       "39996       id_6340      Paris   \n",
       "39997       id_1649  Stockholm   \n",
       "39998        id_640     Warsaw   \n",
       "39999       id_4824      Milan   \n",
       "\n",
       "                                           cuisine_style  ranking  rating  \\\n",
       "0                ['European', 'French', 'International']   5570.0     3.5   \n",
       "1                                                    NaN   1537.0     4.0   \n",
       "2      ['Japanese', 'Sushi', 'Asian', 'Grill', 'Veget...    353.0     4.5   \n",
       "3                                                    NaN   3458.0     5.0   \n",
       "4      ['German', 'Central European', 'Vegetarian Fri...    621.0     4.0   \n",
       "...                                                  ...      ...     ...   \n",
       "39995  ['Italian', 'Vegetarian Friendly', 'Vegan Opti...    500.0     4.5   \n",
       "39996  ['French', 'American', 'Bar', 'European', 'Veg...   6341.0     3.5   \n",
       "39997                              ['Japanese', 'Sushi']   1652.0     4.5   \n",
       "39998  ['Polish', 'European', 'Eastern European', 'Ce...    641.0     4.0   \n",
       "39999                                        ['Spanish']   4827.0     3.0   \n",
       "\n",
       "      price_range  number_of_reviews  \\\n",
       "0        $$ - $$$              194.0   \n",
       "1             NaN               10.0   \n",
       "2            $$$$              688.0   \n",
       "3             NaN                3.0   \n",
       "4        $$ - $$$               84.0   \n",
       "...           ...                ...   \n",
       "39995    $$ - $$$               79.0   \n",
       "39996    $$ - $$$              542.0   \n",
       "39997         NaN                4.0   \n",
       "39998    $$ - $$$               70.0   \n",
       "39999    $$ - $$$              260.0   \n",
       "\n",
       "                                                 reviews  \\\n",
       "0      [['Good food at your doorstep', 'A good hotel ...   \n",
       "1      [['Unique cuisine', 'Delicious Nepalese food']...   \n",
       "2      [['Catch up with friends', 'Not exceptional'],...   \n",
       "3                                               [[], []]   \n",
       "4      [['Best place to try a Bavarian food', 'Nice b...   \n",
       "...                                                  ...   \n",
       "39995  [['The real Italian experience!', 'Wonderful f...   \n",
       "39996  [['Parisian atmosphere', 'Bit pricey but inter...   \n",
       "39997  [['Good by swedish standards', 'A hidden jewel...   \n",
       "39998  [['Underground restaurant', 'Oldest Restaurant...   \n",
       "39999  [['Average', 'Nice an informal'], ['01/31/2016...   \n",
       "\n",
       "                                                  url_ta     id_ta  \\\n",
       "0      /Restaurant_Review-g187147-d1912643-Reviews-R_...  d1912643   \n",
       "1      /Restaurant_Review-g189852-d7992032-Reviews-Bu...  d7992032   \n",
       "2      /Restaurant_Review-g186338-d8632781-Reviews-RO...  d8632781   \n",
       "3      /Restaurant_Review-g187323-d1358776-Reviews-Es...  d1358776   \n",
       "4      /Restaurant_Review-g187309-d6864963-Reviews-Au...  d6864963   \n",
       "...                                                  ...       ...   \n",
       "39995  /Restaurant_Review-g187849-d2104414-Reviews-Ro...  d2104414   \n",
       "39996  /Restaurant_Review-g187147-d1800036-Reviews-La...  d1800036   \n",
       "39997  /Restaurant_Review-g189852-d947615-Reviews-Sus...   d947615   \n",
       "39998  /Restaurant_Review-g274856-d1100838-Reviews-Ho...  d1100838   \n",
       "39999  /Restaurant_Review-g187849-d1109020-Reviews-Ta...  d1109020   \n",
       "\n",
       "      first_review last_review  difference_dates_of_reviews  city_area  \\\n",
       "0       2017-11-20  2017-12-31                    41.000000     105.40   \n",
       "1       2016-06-19  2017-07-06                   382.000000     188.00   \n",
       "2       2018-01-06  2018-01-08                     2.000000    1572.00   \n",
       "3              NaT         NaT                   122.455993     891.68   \n",
       "4       2017-02-19  2017-11-18                   272.000000     310.71   \n",
       "...            ...         ...                          ...        ...   \n",
       "39995   2017-11-12  2017-12-16                    34.000000     181.67   \n",
       "39996   2017-12-12  2017-12-21                     9.000000     105.40   \n",
       "39997   2008-04-12  2016-11-03                  3127.000000     188.00   \n",
       "39998   2017-06-18  2017-07-11                    23.000000     517.00   \n",
       "39999   2012-07-04  2016-01-31                  1306.000000     181.67   \n",
       "\n",
       "       city_population  restaurants_count  restaurants_for_population  \n",
       "0             2.148327               4897                    0.227945  \n",
       "1             0.961609                820                    0.085274  \n",
       "2             8.538689               5757                    0.067423  \n",
       "3             3.326002               2155                    0.064793  \n",
       "4             1.561094                893                    0.057203  \n",
       "...                ...                ...                         ...  \n",
       "39995         1.331586               2133                    0.160185  \n",
       "39996         2.148327               4897                    0.227945  \n",
       "39997         0.961609                820                    0.085274  \n",
       "39998         1.720398                727                    0.042258  \n",
       "39999         1.331586               2133                    0.160185  \n",
       "\n",
       "[40000 rows x 17 columns]"
      ]
     },
     "execution_count": 19,
     "metadata": {},
     "output_type": "execute_result"
    }
   ],
   "source": [
    "df"
   ]
  },
  {
   "cell_type": "code",
   "execution_count": 20,
   "metadata": {
    "ExecuteTime": {
     "end_time": "2021-06-27T10:17:54.043225Z",
     "start_time": "2021-06-27T10:17:53.934291Z"
    }
   },
   "outputs": [],
   "source": [
    "# Количество кухонь в ресторане. Пропущенные значения заменены на 1.\n",
    "df['cuisine_variety'] = df['cuisine_style'].str.split(', ').map(lambda x: len(x) if type(x) == list else 1)\n",
    "# Сохраним информацию о пропусках\n",
    "df['cuisine_style_isNAN'] = pd.isna(df['cuisine_style']).astype('uint8')"
   ]
  },
  {
   "cell_type": "code",
   "execution_count": 27,
   "metadata": {
    "ExecuteTime": {
     "end_time": "2021-06-27T10:21:54.622837Z",
     "start_time": "2021-06-27T10:21:54.609847Z"
    }
   },
   "outputs": [
    {
     "name": "stdout",
     "output_type": "stream",
     "text": [
      "25-й перцентиль: 1.0 75-й перцентиль: 4.0, IQR: 3.0,  Границы выбросов: [-3.5, 8.5].\n"
     ]
    },
    {
     "data": {
      "text/plain": [
       "(-3.5, 8.5)"
      ]
     },
     "execution_count": 27,
     "metadata": {},
     "output_type": "execute_result"
    }
   ],
   "source": [
    "IQR_outlier('cuisine_variety')"
   ]
  },
  {
   "cell_type": "code",
   "execution_count": null,
   "metadata": {
    "ExecuteTime": {
     "end_time": "2021-06-27T10:17:54.572895Z",
     "start_time": "2021-06-27T10:17:18.746Z"
    }
   },
   "outputs": [],
   "source": [
    "# Избавимся от пропусков в данных\n",
    "df['number_of_reviews'].fillna(0, inplace=True)\n",
    "# Добавим столбец с информацией о пропусках\n",
    "df['number_of_reviews_isNAN'] = pd.isna(df['number_of_reviews']).astype('uint8')\n",
    "# Как часто в городе оставляют отзывы\n",
    "df['frequency_of_reviews'] = df['number_of_reviews'] / df['city_population']"
   ]
  },
  {
   "cell_type": "code",
   "execution_count": null,
   "metadata": {
    "ExecuteTime": {
     "end_time": "2021-06-27T10:17:54.574895Z",
     "start_time": "2021-06-27T10:17:18.750Z"
    }
   },
   "outputs": [],
   "source": [
    "# Добавим столбцы с информацией о пропусках\n",
    "# df['price_range_isNAN'] = pd.isna(df['price_range']).astype('uint8')"
   ]
  },
  {
   "cell_type": "markdown",
   "metadata": {},
   "source": [
    "### Сделаем Dummy-encoding"
   ]
  },
  {
   "cell_type": "code",
   "execution_count": null,
   "metadata": {
    "ExecuteTime": {
     "end_time": "2021-06-27T10:17:54.576892Z",
     "start_time": "2021-06-27T10:17:18.754Z"
    }
   },
   "outputs": [],
   "source": [
    "# Проведем dummy-кодирование по признаку city\n",
    "# ohe = OneHotEncoder(sparse=False)\n",
    "# new_ohe_features = ohe.fit_transform(df['city'].values.reshape(-1, 1))\n",
    "# tmp = pd.DataFrame(new_ohe_features, columns=['city=' + str(i) for i in range(new_ohe_features.shape[1])])\n",
    "# df = pd.concat([df, tmp], axis=1)"
   ]
  },
  {
   "cell_type": "code",
   "execution_count": null,
   "metadata": {
    "ExecuteTime": {
     "end_time": "2021-06-27T10:17:54.578892Z",
     "start_time": "2021-06-27T10:17:18.758Z"
    }
   },
   "outputs": [],
   "source": [
    "df['price_range'].fillna('$$ - $$$', inplace=True)\n",
    "# Проведем Label-encoding параметра price_range\n",
    "# dic_value_price = {'$':1,'$$ - $$$':2,'$$$$':3}\n",
    "# df['price_range'] = df['price_range'].map(dic_value_price)\n",
    "# Проведем One-Hot-encoding параметра price_range\n",
    "ohe = OneHotEncoder(sparse=False)\n",
    "new_ohe_features = ohe.fit_transform(df['price_range'].values.reshape(-1, 1))\n",
    "tmp = pd.DataFrame(new_ohe_features, columns=['price_range=' + str(i) for i in range(new_ohe_features.shape[1])])\n",
    "df = pd.concat([df, tmp], axis=1)"
   ]
  },
  {
   "cell_type": "code",
   "execution_count": null,
   "metadata": {
    "ExecuteTime": {
     "end_time": "2021-06-27T10:17:54.580891Z",
     "start_time": "2021-06-27T10:17:18.763Z"
    },
    "scrolled": true
   },
   "outputs": [],
   "source": [
    "df.head(3)"
   ]
  },
  {
   "cell_type": "code",
   "execution_count": null,
   "metadata": {
    "ExecuteTime": {
     "end_time": "2021-06-27T10:17:54.582890Z",
     "start_time": "2021-06-27T10:17:18.768Z"
    }
   },
   "outputs": [],
   "source": [
    "drop_column = [*df.columns[:3], 'price_range', *df.columns[7:12]]\n",
    "# drop_column = [*df.columns[:3], *df.columns[7:12]]\n",
    "drop_column\n",
    "df.drop(drop_column, axis=1, inplace=True)"
   ]
  },
  {
   "cell_type": "code",
   "execution_count": null,
   "metadata": {
    "ExecuteTime": {
     "end_time": "2021-06-27T10:17:54.584889Z",
     "start_time": "2021-06-27T10:17:18.773Z"
    },
    "scrolled": false
   },
   "outputs": [],
   "source": [
    "df.head(3)"
   ]
  },
  {
   "cell_type": "markdown",
   "metadata": {},
   "source": [
    "# Разбиваем датафрейм на части, необходимые для обучения и тестирования модели"
   ]
  },
  {
   "cell_type": "code",
   "execution_count": null,
   "metadata": {
    "ExecuteTime": {
     "end_time": "2021-06-27T10:17:54.586888Z",
     "start_time": "2021-06-27T10:17:18.777Z"
    }
   },
   "outputs": [],
   "source": [
    "# Х - данные с информацией о ресторанах, у - целевая переменная (рейтинги ресторанов)\n",
    "X = df.drop(['rating'], axis = 1)\n",
    "y = df['rating']"
   ]
  },
  {
   "cell_type": "code",
   "execution_count": null,
   "metadata": {
    "ExecuteTime": {
     "end_time": "2021-06-27T10:17:54.587886Z",
     "start_time": "2021-06-27T10:17:18.782Z"
    }
   },
   "outputs": [],
   "source": [
    "# Загружаем специальный инструмент для разбивки:\n",
    "from sklearn.model_selection import train_test_split"
   ]
  },
  {
   "cell_type": "code",
   "execution_count": null,
   "metadata": {
    "ExecuteTime": {
     "end_time": "2021-06-27T10:17:54.591884Z",
     "start_time": "2021-06-27T10:17:18.786Z"
    }
   },
   "outputs": [],
   "source": [
    "# Наборы данных с меткой \"train\" будут использоваться для обучения модели, \"test\" - для тестирования.\n",
    "# Для тестирования мы будем использовать 25% от исходного датасета.\n",
    "X_train, X_test, y_train, y_test = train_test_split(X, y, test_size=0.25)"
   ]
  },
  {
   "cell_type": "markdown",
   "metadata": {},
   "source": [
    "# Создаём, обучаем и тестируем модель"
   ]
  },
  {
   "cell_type": "code",
   "execution_count": null,
   "metadata": {
    "ExecuteTime": {
     "end_time": "2021-06-27T10:17:54.595882Z",
     "start_time": "2021-06-27T10:17:18.791Z"
    }
   },
   "outputs": [],
   "source": [
    "# Импортируем необходимые библиотеки:\n",
    "from sklearn.ensemble import RandomForestRegressor # инструмент для создания и обучения модели\n",
    "from sklearn import metrics # инструменты для оценки точности модели"
   ]
  },
  {
   "cell_type": "code",
   "execution_count": null,
   "metadata": {
    "ExecuteTime": {
     "end_time": "2021-06-27T10:17:54.598883Z",
     "start_time": "2021-06-27T10:17:18.794Z"
    }
   },
   "outputs": [],
   "source": [
    "# Создаём модель\n",
    "regr = RandomForestRegressor(n_estimators=100, random_state=RANDOM_SEED)\n",
    "\n",
    "# Обучаем модель на тестовом наборе данных\n",
    "regr.fit(X_train, y_train)\n",
    "\n",
    "# Используем обученную модель для предсказания рейтинга ресторанов в тестовой выборке.\n",
    "# Предсказанные значения записываем в переменную y_pred\n",
    "y_pred = regr.predict(X_test)"
   ]
  },
  {
   "cell_type": "code",
   "execution_count": null,
   "metadata": {
    "ExecuteTime": {
     "end_time": "2021-06-27T10:17:54.601878Z",
     "start_time": "2021-06-27T10:17:18.799Z"
    }
   },
   "outputs": [],
   "source": [
    "# Сравниваем предсказанные значения (y_pred) с реальными (y_test), и смотрим насколько они в среднем отличаются\n",
    "# Метрика называется Mean Absolute Error (MAE) и показывает среднее отклонение предсказанных значений от фактических.\n",
    "print('MAE:', metrics.mean_absolute_error(y_test, y_pred))"
   ]
  },
  {
   "cell_type": "code",
   "execution_count": null,
   "metadata": {
    "ExecuteTime": {
     "end_time": "2021-06-27T10:17:54.602878Z",
     "start_time": "2021-06-27T10:17:18.804Z"
    }
   },
   "outputs": [],
   "source": [
    "df['cuisine_style'] = df['cuisine_style'].apply(lambda x: str(x).replace(\n",
    "    \"[\", \"\").replace(\"]\", \"\").replace(\"'\", \"\").replace().split(\", \"))"
   ]
  }
 ],
 "metadata": {
  "kernelspec": {
   "display_name": "Python 3",
   "language": "python",
   "name": "python3"
  },
  "language_info": {
   "codemirror_mode": {
    "name": "ipython",
    "version": 3
   },
   "file_extension": ".py",
   "mimetype": "text/x-python",
   "name": "python",
   "nbconvert_exporter": "python",
   "pygments_lexer": "ipython3",
   "version": "3.8.5"
  },
  "toc": {
   "base_numbering": 1,
   "nav_menu": {},
   "number_sections": true,
   "sideBar": true,
   "skip_h1_title": false,
   "title_cell": "Table of Contents",
   "title_sidebar": "Contents",
   "toc_cell": false,
   "toc_position": {},
   "toc_section_display": true,
   "toc_window_display": false
  }
 },
 "nbformat": 4,
 "nbformat_minor": 2
}

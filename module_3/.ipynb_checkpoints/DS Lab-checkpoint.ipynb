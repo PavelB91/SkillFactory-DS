{
 "cells": [
  {
   "cell_type": "code",
   "execution_count": null,
   "metadata": {
    "ExecuteTime": {
     "end_time": "2021-06-20T17:45:45.010262Z",
     "start_time": "2021-06-20T17:45:45.005268Z"
    }
   },
   "outputs": [],
   "source": [
    "import pandas as pd\n",
    "import numpy as np\n",
    "import requests\n",
    "from bs4 import BeautifulSoup\n",
    "import re"
   ]
  },
  {
   "cell_type": "code",
   "execution_count": 88,
   "metadata": {
    "ExecuteTime": {
     "end_time": "2021-06-20T18:30:56.761771Z",
     "start_time": "2021-06-20T18:30:56.504379Z"
    }
   },
   "outputs": [
    {
     "data": {
      "text/plain": [
       "0    $$ - $$$\n",
       "1         NaN\n",
       "2        $$$$\n",
       "3         NaN\n",
       "4    $$ - $$$\n",
       "Name: Price Range, dtype: object"
      ]
     },
     "execution_count": 88,
     "metadata": {},
     "output_type": "execute_result"
    }
   ],
   "source": [
    "df = pd.read_csv('main_task.csv')\n",
    "df = df[['Cuisine Style', 'Price Range', 'URL_TA', 'ID_TA']]\n",
    "df_pars_test = df.copy()\n",
    "df_pars_test = df_pars_test[:5]\n",
    "df_pars_test['Price Range']"
   ]
  },
  {
   "cell_type": "code",
   "execution_count": null,
   "metadata": {
    "ExecuteTime": {
     "end_time": "2021-06-20T17:34:28.309323Z",
     "start_time": "2021-06-20T17:34:28.300327Z"
    }
   },
   "outputs": [],
   "source": [
    "def parsing_price(url_ta, id_ta):\n",
    "    link = 'https://www.tripadvisor.ru'+str(url_ta)\n",
    "    rec = requests.get(link)\n",
    "    soup = BeautifulSoup(rec.text, 'lxml')\n",
    "    \n",
    "    if link == rec.url:\n",
    "        block = soup.find('div', id='taplc_top_info_0')\n",
    "        if block.find('span', class_='_13OzAOXO _34GKdBMV').text != '':\n",
    "            if '$' in block.find_all('a', class_='_2mn01bsa')[0].text:\n",
    "                print(block.find('a', class_='_2mn01bsa').text, url_ta)\n",
    "                return block.find('a', class_='_2mn01bsa').text\n",
    "            else:\n",
    "                print('NaN', url_ta)\n",
    "                return np.NaN\n",
    "        else:\n",
    "            print('NaN', url_ta)\n",
    "            return np.NaN\n",
    "    else:\n",
    "        return np.NaN"
   ]
  },
  {
   "cell_type": "code",
   "execution_count": null,
   "metadata": {
    "ExecuteTime": {
     "end_time": "2021-06-20T09:57:36.335700Z",
     "start_time": "2021-06-20T09:57:03.760331Z"
    },
    "scrolled": false
   },
   "outputs": [],
   "source": [
    "df_pars_test['Price Range'] = df_pars_test['URL_TA'].apply(parsing_price)\n",
    "df_pars_test['Price Range']"
   ]
  },
  {
   "cell_type": "code",
   "execution_count": 49,
   "metadata": {
    "ExecuteTime": {
     "end_time": "2021-06-20T17:53:37.192209Z",
     "start_time": "2021-06-20T17:53:37.185214Z"
    }
   },
   "outputs": [
    {
     "data": {
      "text/plain": [
       "'/Restaurant_Review-g187323-d10266473-Reviews-Akira_Sushi_Streetfood-Berlin.html'"
      ]
     },
     "execution_count": 49,
     "metadata": {},
     "output_type": "execute_result"
    }
   ],
   "source": [
    "df['URL_TA'][16]"
   ]
  },
  {
   "cell_type": "code",
   "execution_count": null,
   "metadata": {},
   "outputs": [],
   "source": []
  },
  {
   "cell_type": "code",
   "execution_count": null,
   "metadata": {},
   "outputs": [],
   "source": []
  },
  {
   "cell_type": "code",
   "execution_count": null,
   "metadata": {},
   "outputs": [],
   "source": []
  },
  {
   "cell_type": "code",
   "execution_count": null,
   "metadata": {
    "ExecuteTime": {
     "end_time": "2021-06-20T17:46:15.712796Z",
     "start_time": "2021-06-20T17:46:15.709795Z"
    }
   },
   "outputs": [],
   "source": [
    "pattern = re.compile('d[0-9]+')"
   ]
  },
  {
   "cell_type": "code",
   "execution_count": null,
   "metadata": {
    "ExecuteTime": {
     "end_time": "2021-06-20T17:52:30.190622Z",
     "start_time": "2021-06-20T17:52:30.185626Z"
    },
    "scrolled": true
   },
   "outputs": [],
   "source": [
    "# link = 'https://www.tripadvisor.ru/Restaurant_Review-g187323-d1358776-Reviews-Esplanade-Berlin.html'\n",
    "link = 'https://www.tripadvisor.ru'+'/Restaurant_Review-g187147-d1912643-Reviews-R_Yves-Paris_Ile_de_France.html'\n",
    "# link = 'https://www.tripadvisor.ru'+ '/Restaurant_Review-g187323-d10266473-Reviews-Akira_Sushi_Streetfood-Berlin.html'\n",
    "# link = 'https://www.tripadvisor.ru'+'/Restaurant_Review-g187514-d10859423-Reviews-Batea-Madrid.html'\n",
    "res = re.findall('d[0-9]+', link)\n",
    "print(*res)"
   ]
  },
  {
   "cell_type": "code",
   "execution_count": 52,
   "metadata": {
    "ExecuteTime": {
     "end_time": "2021-06-20T17:54:08.778507Z",
     "start_time": "2021-06-20T17:54:07.296642Z"
    }
   },
   "outputs": [
    {
     "name": "stdout",
     "output_type": "stream",
     "text": [
      "https://www.tripadvisor.ru/Restaurant_Review-g187147-d1912643-Reviews-R_Yves-Paris_Ile_de_France.html\n"
     ]
    }
   ],
   "source": [
    "response = requests.get(link)\n",
    "print(response.url)\n",
    "soup = BeautifulSoup(response.text, 'lxml')"
   ]
  },
  {
   "cell_type": "code",
   "execution_count": null,
   "metadata": {
    "ExecuteTime": {
     "end_time": "2021-06-19T19:25:25.724918Z",
     "start_time": "2021-06-19T19:25:25.716923Z"
    }
   },
   "outputs": [],
   "source": [
    "response.url == link"
   ]
  },
  {
   "cell_type": "code",
   "execution_count": null,
   "metadata": {
    "ExecuteTime": {
     "end_time": "2021-06-19T13:41:49.263565Z",
     "start_time": "2021-06-19T13:41:49.259567Z"
    }
   },
   "outputs": [],
   "source": [
    "# С помощью данного кода сохраняется html страница. \n",
    "# with open('1.html', 'w', encoding='utf-8') as file:\n",
    "#     file.write(response)"
   ]
  },
  {
   "cell_type": "code",
   "execution_count": 86,
   "metadata": {
    "ExecuteTime": {
     "end_time": "2021-06-20T18:30:09.164501Z",
     "start_time": "2021-06-20T18:30:09.153508Z"
    }
   },
   "outputs": [
    {
     "name": "stdout",
     "output_type": "stream",
     "text": [
      "['Французская', 'Международная', 'Европейская']\n"
     ]
    }
   ],
   "source": [
    "block = soup.find('div', id='taplc_top_info_0')\n",
    "# find_cost = block.find('a', class_='_2mn01bsa').text\n",
    "cuisine = [block.find_all('a', class_='_2mn01bsa')[x].text for x in range(\n",
    "    1, len(block.find_all('a', class_='_2mn01bsa')))]\n",
    "# print(find_cost)\n",
    "print(cuisine)"
   ]
  },
  {
   "cell_type": "code",
   "execution_count": 55,
   "metadata": {
    "ExecuteTime": {
     "end_time": "2021-06-20T17:59:12.676554Z",
     "start_time": "2021-06-20T17:59:12.661563Z"
    }
   },
   "outputs": [
    {
     "ename": "NameError",
     "evalue": "name 'block' is not defined",
     "output_type": "error",
     "traceback": [
      "\u001b[1;31m---------------------------------------------------------------------------\u001b[0m",
      "\u001b[1;31mNameError\u001b[0m                                 Traceback (most recent call last)",
      "\u001b[1;32m<ipython-input-55-e3b2f2ec18fb>\u001b[0m in \u001b[0;36m<module>\u001b[1;34m\u001b[0m\n\u001b[1;32m----> 1\u001b[1;33m \u001b[0mblock\u001b[0m\u001b[1;33m.\u001b[0m\u001b[0mfind\u001b[0m\u001b[1;33m(\u001b[0m\u001b[1;34m'div'\u001b[0m\u001b[1;33m,\u001b[0m \u001b[0mclass_\u001b[0m\u001b[1;33m=\u001b[0m\u001b[1;34m'_1ud-0ITN'\u001b[0m\u001b[1;33m)\u001b[0m\u001b[1;33m.\u001b[0m\u001b[0mtext\u001b[0m\u001b[1;33m\u001b[0m\u001b[1;33m\u001b[0m\u001b[0m\n\u001b[0m",
      "\u001b[1;31mNameError\u001b[0m: name 'block' is not defined"
     ]
    }
   ],
   "source": [
    "block.find('div', class_='_1ud-0ITN').text"
   ]
  },
  {
   "cell_type": "code",
   "execution_count": 54,
   "metadata": {
    "ExecuteTime": {
     "end_time": "2021-06-20T17:58:20.227532Z",
     "start_time": "2021-06-20T17:58:20.221534Z"
    }
   },
   "outputs": [
    {
     "data": {
      "text/plain": [
       "'/Restaurant_Review-g187147-d1912643-Reviews-R_Yves-Paris_Ile_de_France.html'"
      ]
     },
     "execution_count": 54,
     "metadata": {},
     "output_type": "execute_result"
    }
   ],
   "source": [
    "df_pars_test['URL_TA'][0]"
   ]
  },
  {
   "cell_type": "code",
   "execution_count": null,
   "metadata": {},
   "outputs": [],
   "source": []
  }
 ],
 "metadata": {
  "kernelspec": {
   "display_name": "Python 3",
   "language": "python",
   "name": "python3"
  },
  "language_info": {
   "codemirror_mode": {
    "name": "ipython",
    "version": 3
   },
   "file_extension": ".py",
   "mimetype": "text/x-python",
   "name": "python",
   "nbconvert_exporter": "python",
   "pygments_lexer": "ipython3",
   "version": "3.8.5"
  },
  "toc": {
   "base_numbering": 1,
   "nav_menu": {},
   "number_sections": true,
   "sideBar": true,
   "skip_h1_title": false,
   "title_cell": "Table of Contents",
   "title_sidebar": "Contents",
   "toc_cell": false,
   "toc_position": {},
   "toc_section_display": true,
   "toc_window_display": false
  }
 },
 "nbformat": 4,
 "nbformat_minor": 4
}

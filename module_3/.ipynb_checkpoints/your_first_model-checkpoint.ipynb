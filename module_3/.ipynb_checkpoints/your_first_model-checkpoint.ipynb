{
 "cells": [
  {
   "cell_type": "markdown",
   "metadata": {},
   "source": [
    "# Загрузка Pandas и очистка данных"
   ]
  },
  {
   "cell_type": "code",
   "execution_count": 1,
   "metadata": {
    "ExecuteTime": {
     "end_time": "2021-06-26T12:52:25.724857Z",
     "start_time": "2021-06-26T12:52:23.259166Z"
    }
   },
   "outputs": [],
   "source": [
    "import pandas as pd\n",
    "import numpy as np\n",
    "from collections import Counter\n",
    "from datetime import datetime, timedelta\n",
    "from matplotlib import pyplot as plt\n",
    "import seaborn as sns\n",
    "\n",
    "import re\n",
    "from sklearn.preprocessing import LabelEncoder, OneHotEncoder\n",
    "\n",
    "%matplotlib inline\n",
    "\n",
    "RANDOM_SEED = 42"
   ]
  },
  {
   "cell_type": "markdown",
   "metadata": {},
   "source": [
    "## Предобработка"
   ]
  },
  {
   "cell_type": "code",
   "execution_count": 2,
   "metadata": {
    "ExecuteTime": {
     "end_time": "2021-06-26T12:52:25.740846Z",
     "start_time": "2021-06-26T12:52:25.729856Z"
    }
   },
   "outputs": [],
   "source": [
    "def rename_columns(df):\n",
    "    '''\n",
    "    Функция приводит названия колонок к единому формату.\n",
    "    '''\n",
    "\n",
    "    columns = {}\n",
    "    for column in df.columns:\n",
    "        columns[column] = column.lower().strip().replace(' ', '_')\n",
    "    return df.rename(columns=columns, inplace=True)\n",
    "\n",
    "\n",
    "def missing_data(df):\n",
    "    '''\n",
    "    Отображает процент пропусков по каждой колонке.\n",
    "    '''\n",
    "    for column in df.columns:\n",
    "        missing = df[column].isnull().sum()\n",
    "        percent_of_missing = np.mean(df[column].isnull())\n",
    "        if missing > 0:\n",
    "            print('{} - {} values, {:.2f}%'.format(column, missing, percent_of_missing*100))"
   ]
  },
  {
   "cell_type": "markdown",
   "metadata": {},
   "source": [
    "## Импорт данных"
   ]
  },
  {
   "cell_type": "code",
   "execution_count": 3,
   "metadata": {
    "ExecuteTime": {
     "end_time": "2021-06-26T12:52:26.001690Z",
     "start_time": "2021-06-26T12:52:25.744844Z"
    }
   },
   "outputs": [],
   "source": [
    "df = pd.read_csv('main_task.csv')\n",
    "rename_columns(df)"
   ]
  },
  {
   "cell_type": "markdown",
   "metadata": {
    "ExecuteTime": {
     "end_time": "2021-06-25T08:04:21.462655Z",
     "start_time": "2021-06-25T08:04:21.445667Z"
    }
   },
   "source": [
    "## Детальный анализ"
   ]
  },
  {
   "cell_type": "code",
   "execution_count": 4,
   "metadata": {
    "ExecuteTime": {
     "end_time": "2021-06-26T12:52:26.045659Z",
     "start_time": "2021-06-26T12:52:26.005682Z"
    }
   },
   "outputs": [
    {
     "name": "stdout",
     "output_type": "stream",
     "text": [
      "<class 'pandas.core.frame.DataFrame'>\n",
      "RangeIndex: 40000 entries, 0 to 39999\n",
      "Data columns (total 10 columns):\n",
      " #   Column             Non-Null Count  Dtype  \n",
      "---  ------             --------------  -----  \n",
      " 0   restaurant_id      40000 non-null  object \n",
      " 1   city               40000 non-null  object \n",
      " 2   cuisine_style      30717 non-null  object \n",
      " 3   ranking            40000 non-null  float64\n",
      " 4   rating             40000 non-null  float64\n",
      " 5   price_range        26114 non-null  object \n",
      " 6   number_of_reviews  37457 non-null  float64\n",
      " 7   reviews            40000 non-null  object \n",
      " 8   url_ta             40000 non-null  object \n",
      " 9   id_ta              40000 non-null  object \n",
      "dtypes: float64(3), object(7)\n",
      "memory usage: 3.1+ MB\n"
     ]
    },
    {
     "data": {
      "text/plain": [
       "None"
      ]
     },
     "metadata": {},
     "output_type": "display_data"
    }
   ],
   "source": [
    "display(df.info())"
   ]
  },
  {
   "cell_type": "code",
   "execution_count": 5,
   "metadata": {
    "ExecuteTime": {
     "end_time": "2021-06-26T12:52:26.109619Z",
     "start_time": "2021-06-26T12:52:26.048657Z"
    }
   },
   "outputs": [
    {
     "name": "stdout",
     "output_type": "stream",
     "text": [
      "cuisine_style - 9283 values, 23.21%\n",
      "price_range - 13886 values, 34.72%\n",
      "number_of_reviews - 2543 values, 6.36%\n"
     ]
    }
   ],
   "source": [
    "missing_data(df)"
   ]
  },
  {
   "cell_type": "code",
   "execution_count": 6,
   "metadata": {
    "ExecuteTime": {
     "end_time": "2021-06-26T12:52:26.676269Z",
     "start_time": "2021-06-26T12:52:26.111617Z"
    }
   },
   "outputs": [
    {
     "data": {
      "text/plain": [
       "[<matplotlib.lines.Line2D at 0x11ac9997040>]"
      ]
     },
     "execution_count": 6,
     "metadata": {},
     "output_type": "execute_result"
    },
    {
     "data": {
      "image/png": "[encoded data removed]",
      "text/plain": [
       "<Figure size 432x288 with 1 Axes>"
      ]
     },
     "metadata": {
      "needs_background": "light"
     },
     "output_type": "display_data"
    }
   ],
   "source": [
    "x = df['restaurant_id'].apply(lambda x: x[3:]).astype('int16')\n",
    "plt.plot(x)"
   ]
  },
  {
   "cell_type": "code",
   "execution_count": 7,
   "metadata": {
    "ExecuteTime": {
     "end_time": "2021-06-26T12:52:27.186805Z",
     "start_time": "2021-06-26T12:52:26.680264Z"
    },
    "scrolled": true
   },
   "outputs": [
    {
     "data": {
      "text/plain": [
       "[<matplotlib.lines.Line2D at 0x11ac9c37dc0>]"
      ]
     },
     "execution_count": 7,
     "metadata": {},
     "output_type": "execute_result"
    },
    {
     "data": {
      "image/png": "[encoded data removed]",
      "text/plain": [
       "<Figure size 432x288 with 1 Axes>"
      ]
     },
     "metadata": {
      "needs_background": "light"
     },
     "output_type": "display_data"
    }
   ],
   "source": [
    "x= df['restaurant_id'].apply(lambda x: x[x.find('_')+1:]).astype('int32')\n",
    "plt.plot(x)"
   ]
  },
  {
   "cell_type": "code",
   "execution_count": null,
   "metadata": {},
   "outputs": [],
   "source": []
  },
  {
   "cell_type": "code",
   "execution_count": null,
   "metadata": {},
   "outputs": [],
   "source": []
  },
  {
   "cell_type": "markdown",
   "metadata": {},
   "source": [
    "## Вопросы"
   ]
  },
  {
   "cell_type": "code",
   "execution_count": 8,
   "metadata": {
    "ExecuteTime": {
     "end_time": "2021-06-26T12:52:27.246768Z",
     "start_time": "2021-06-26T12:52:27.190801Z"
    },
    "scrolled": false
   },
   "outputs": [
    {
     "data": {
      "text/html": [
       "<div>\n",
       "<style scoped>\n",
       "    .dataframe tbody tr th:only-of-type {\n",
       "        vertical-align: middle;\n",
       "    }\n",
       "\n",
       "    .dataframe tbody tr th {\n",
       "        vertical-align: top;\n",
       "    }\n",
       "\n",
       "    .dataframe thead th {\n",
       "        text-align: right;\n",
       "    }\n",
       "</style>\n",
       "<table border=\"1\" class=\"dataframe\">\n",
       "  <thead>\n",
       "    <tr style=\"text-align: right;\">\n",
       "      <th></th>\n",
       "      <th>restaurant_id</th>\n",
       "      <th>city</th>\n",
       "      <th>cuisine_style</th>\n",
       "      <th>ranking</th>\n",
       "      <th>rating</th>\n",
       "      <th>price_range</th>\n",
       "      <th>number_of_reviews</th>\n",
       "      <th>reviews</th>\n",
       "      <th>url_ta</th>\n",
       "      <th>id_ta</th>\n",
       "    </tr>\n",
       "  </thead>\n",
       "  <tbody>\n",
       "    <tr>\n",
       "      <th>0</th>\n",
       "      <td>id_5569</td>\n",
       "      <td>Paris</td>\n",
       "      <td>['European', 'French', 'International']</td>\n",
       "      <td>5570.0</td>\n",
       "      <td>3.5</td>\n",
       "      <td>$$ - $$$</td>\n",
       "      <td>194.0</td>\n",
       "      <td>[['Good food at your doorstep', 'A good hotel ...</td>\n",
       "      <td>/Restaurant_Review-g187147-d1912643-Reviews-R_...</td>\n",
       "      <td>d1912643</td>\n",
       "    </tr>\n",
       "    <tr>\n",
       "      <th>1</th>\n",
       "      <td>id_1535</td>\n",
       "      <td>Stockholm</td>\n",
       "      <td>NaN</td>\n",
       "      <td>1537.0</td>\n",
       "      <td>4.0</td>\n",
       "      <td>NaN</td>\n",
       "      <td>10.0</td>\n",
       "      <td>[['Unique cuisine', 'Delicious Nepalese food']...</td>\n",
       "      <td>/Restaurant_Review-g189852-d7992032-Reviews-Bu...</td>\n",
       "      <td>d7992032</td>\n",
       "    </tr>\n",
       "    <tr>\n",
       "      <th>2</th>\n",
       "      <td>id_352</td>\n",
       "      <td>London</td>\n",
       "      <td>['Japanese', 'Sushi', 'Asian', 'Grill', 'Veget...</td>\n",
       "      <td>353.0</td>\n",
       "      <td>4.5</td>\n",
       "      <td>$$$$</td>\n",
       "      <td>688.0</td>\n",
       "      <td>[['Catch up with friends', 'Not exceptional'],...</td>\n",
       "      <td>/Restaurant_Review-g186338-d8632781-Reviews-RO...</td>\n",
       "      <td>d8632781</td>\n",
       "    </tr>\n",
       "    <tr>\n",
       "      <th>3</th>\n",
       "      <td>id_3456</td>\n",
       "      <td>Berlin</td>\n",
       "      <td>NaN</td>\n",
       "      <td>3458.0</td>\n",
       "      <td>5.0</td>\n",
       "      <td>NaN</td>\n",
       "      <td>3.0</td>\n",
       "      <td>[[], []]</td>\n",
       "      <td>/Restaurant_Review-g187323-d1358776-Reviews-Es...</td>\n",
       "      <td>d1358776</td>\n",
       "    </tr>\n",
       "    <tr>\n",
       "      <th>4</th>\n",
       "      <td>id_615</td>\n",
       "      <td>Munich</td>\n",
       "      <td>['German', 'Central European', 'Vegetarian Fri...</td>\n",
       "      <td>621.0</td>\n",
       "      <td>4.0</td>\n",
       "      <td>$$ - $$$</td>\n",
       "      <td>84.0</td>\n",
       "      <td>[['Best place to try a Bavarian food', 'Nice b...</td>\n",
       "      <td>/Restaurant_Review-g187309-d6864963-Reviews-Au...</td>\n",
       "      <td>d6864963</td>\n",
       "    </tr>\n",
       "  </tbody>\n",
       "</table>\n",
       "</div>"
      ],
      "text/plain": [
       "  restaurant_id       city                                      cuisine_style  \\\n",
       "0       id_5569      Paris            ['European', 'French', 'International']   \n",
       "1       id_1535  Stockholm                                                NaN   \n",
       "2        id_352     London  ['Japanese', 'Sushi', 'Asian', 'Grill', 'Veget...   \n",
       "3       id_3456     Berlin                                                NaN   \n",
       "4        id_615     Munich  ['German', 'Central European', 'Vegetarian Fri...   \n",
       "\n",
       "   ranking  rating price_range  number_of_reviews  \\\n",
       "0   5570.0     3.5    $$ - $$$              194.0   \n",
       "1   1537.0     4.0         NaN               10.0   \n",
       "2    353.0     4.5        $$$$              688.0   \n",
       "3   3458.0     5.0         NaN                3.0   \n",
       "4    621.0     4.0    $$ - $$$               84.0   \n",
       "\n",
       "                                             reviews  \\\n",
       "0  [['Good food at your doorstep', 'A good hotel ...   \n",
       "1  [['Unique cuisine', 'Delicious Nepalese food']...   \n",
       "2  [['Catch up with friends', 'Not exceptional'],...   \n",
       "3                                           [[], []]   \n",
       "4  [['Best place to try a Bavarian food', 'Nice b...   \n",
       "\n",
       "                                              url_ta     id_ta  \n",
       "0  /Restaurant_Review-g187147-d1912643-Reviews-R_...  d1912643  \n",
       "1  /Restaurant_Review-g189852-d7992032-Reviews-Bu...  d7992032  \n",
       "2  /Restaurant_Review-g186338-d8632781-Reviews-RO...  d8632781  \n",
       "3  /Restaurant_Review-g187323-d1358776-Reviews-Es...  d1358776  \n",
       "4  /Restaurant_Review-g187309-d6864963-Reviews-Au...  d6864963  "
      ]
     },
     "metadata": {},
     "output_type": "display_data"
    },
    {
     "name": "stdout",
     "output_type": "stream",
     "text": [
      "<class 'pandas.core.frame.DataFrame'>\n",
      "RangeIndex: 40000 entries, 0 to 39999\n",
      "Data columns (total 10 columns):\n",
      " #   Column             Non-Null Count  Dtype  \n",
      "---  ------             --------------  -----  \n",
      " 0   restaurant_id      40000 non-null  object \n",
      " 1   city               40000 non-null  object \n",
      " 2   cuisine_style      30717 non-null  object \n",
      " 3   ranking            40000 non-null  float64\n",
      " 4   rating             40000 non-null  float64\n",
      " 5   price_range        26114 non-null  object \n",
      " 6   number_of_reviews  37457 non-null  float64\n",
      " 7   reviews            40000 non-null  object \n",
      " 8   url_ta             40000 non-null  object \n",
      " 9   id_ta              40000 non-null  object \n",
      "dtypes: float64(3), object(7)\n",
      "memory usage: 3.1+ MB\n"
     ]
    }
   ],
   "source": [
    "display(df.head())\n",
    "df.info()"
   ]
  },
  {
   "cell_type": "markdown",
   "metadata": {},
   "source": [
    "### "
   ]
  },
  {
   "cell_type": "code",
   "execution_count": 9,
   "metadata": {
    "ExecuteTime": {
     "end_time": "2021-06-26T12:52:27.262757Z",
     "start_time": "2021-06-26T12:52:27.248765Z"
    },
    "scrolled": true
   },
   "outputs": [
    {
     "data": {
      "text/plain": [
       "$$ - $$$    18412\n",
       "$            6279\n",
       "$$$$         1423\n",
       "Name: price_range, dtype: int64"
      ]
     },
     "execution_count": 9,
     "metadata": {},
     "output_type": "execute_result"
    }
   ],
   "source": [
    "df['price_range'].value_counts()"
   ]
  },
  {
   "cell_type": "markdown",
   "metadata": {
    "ExecuteTime": {
     "end_time": "2021-06-14T09:52:42.186094Z",
     "start_time": "2021-06-14T09:52:42.168109Z"
    }
   },
   "source": [
    "### "
   ]
  },
  {
   "cell_type": "code",
   "execution_count": 10,
   "metadata": {
    "ExecuteTime": {
     "end_time": "2021-06-26T12:52:27.282745Z",
     "start_time": "2021-06-26T12:52:27.264757Z"
    },
    "scrolled": true
   },
   "outputs": [
    {
     "data": {
      "text/plain": [
       "31"
      ]
     },
     "execution_count": 10,
     "metadata": {},
     "output_type": "execute_result"
    }
   ],
   "source": [
    "df['city'].nunique()"
   ]
  },
  {
   "cell_type": "markdown",
   "metadata": {},
   "source": [
    "### "
   ]
  },
  {
   "cell_type": "code",
   "execution_count": 11,
   "metadata": {
    "ExecuteTime": {
     "end_time": "2021-06-26T12:52:27.473628Z",
     "start_time": "2021-06-26T12:52:27.285742Z"
    }
   },
   "outputs": [
    {
     "data": {
      "text/plain": [
       "125"
      ]
     },
     "execution_count": 11,
     "metadata": {},
     "output_type": "execute_result"
    }
   ],
   "source": [
    "cuisine_series = df[df['cuisine_style'].notnull()]['cuisine_style']\n",
    "cuisine_series = cuisine_series.apply(lambda x: x[1:-1].lower()).str.split(', ')\n",
    "cuisine_series.explode().nunique()"
   ]
  },
  {
   "cell_type": "code",
   "execution_count": 12,
   "metadata": {
    "ExecuteTime": {
     "end_time": "2021-06-26T12:52:27.571565Z",
     "start_time": "2021-06-26T12:52:27.477624Z"
    },
    "scrolled": true
   },
   "outputs": [
    {
     "data": {
      "text/plain": [
       "'vegetarian friendly'    11189\n",
       "Name: cuisine_style, dtype: int64"
      ]
     },
     "execution_count": 12,
     "metadata": {},
     "output_type": "execute_result"
    }
   ],
   "source": [
    "cuisine_series.explode().value_counts().head(1)"
   ]
  },
  {
   "cell_type": "code",
   "execution_count": 13,
   "metadata": {
    "ExecuteTime": {
     "end_time": "2021-06-26T12:52:27.668506Z",
     "start_time": "2021-06-26T12:52:27.574564Z"
    }
   },
   "outputs": [],
   "source": [
    "cuisine_series_nan = df[df['cuisine_style'].isnull()]['cuisine_style']\n",
    "cuisine_series_nan = cuisine_series_nan.fillna('Unknown').str.split()"
   ]
  },
  {
   "cell_type": "code",
   "execution_count": 14,
   "metadata": {
    "ExecuteTime": {
     "end_time": "2021-06-26T12:52:27.761449Z",
     "start_time": "2021-06-26T12:52:27.670504Z"
    }
   },
   "outputs": [
    {
     "name": "stdout",
     "output_type": "stream",
     "text": [
      "2.6\n"
     ]
    }
   ],
   "source": [
    "cuisine_mode = cuisine_series.append(cuisine_series_nan)\n",
    "average_cuisine = 0\n",
    "for cuisine in cuisine_mode:\n",
    "    average_cuisine += len(cuisine) / len(cuisine_mode)\n",
    "print(round(average_cuisine, 1))"
   ]
  },
  {
   "cell_type": "markdown",
   "metadata": {},
   "source": [
    "### "
   ]
  },
  {
   "cell_type": "code",
   "execution_count": 15,
   "metadata": {
    "ExecuteTime": {
     "end_time": "2021-06-26T12:52:27.771442Z",
     "start_time": "2021-06-26T12:52:27.763448Z"
    }
   },
   "outputs": [
    {
     "name": "stdout",
     "output_type": "stream",
     "text": [
      "['12/31/2017', '11/20/2017']\n",
      "2017-12-31 00:00:00\n"
     ]
    }
   ],
   "source": [
    "pattern = re.compile('\\d+\\/\\d+\\/\\d+')\n",
    "x = pattern.findall(df['reviews'][0])\n",
    "print(x)\n",
    "y = datetime.strptime(x[0], '%m/%d/%Y')\n",
    "print(y)"
   ]
  },
  {
   "cell_type": "markdown",
   "metadata": {},
   "source": [
    "## Обработка датасета"
   ]
  },
  {
   "cell_type": "markdown",
   "metadata": {},
   "source": [
    "### Feature engineering"
   ]
  },
  {
   "cell_type": "code",
   "execution_count": 16,
   "metadata": {
    "ExecuteTime": {
     "end_time": "2021-06-26T12:53:00.699296Z",
     "start_time": "2021-06-26T12:52:27.774440Z"
    }
   },
   "outputs": [],
   "source": [
    "dates = df['reviews'].str.findall('\\d+\\/\\d+\\/\\d+')\n",
    "df['first_review'] = dates.apply(lambda x: pd.to_datetime(x).min())\n",
    "df['last_review'] = dates.apply(lambda x: pd.to_datetime(x).max())\n",
    "# Создадим колонку с разницей между первым и вторым отзывом.\n",
    "df['difference_dates_of_reviews'] = df['last_review'] - df['first_review']\n",
    "df['difference_dates_of_reviews'] = df['difference_dates_of_reviews'].apply(lambda x: x.days)  # выразим в формате дней.\n",
    "# Заменим пропуски средним значением\n",
    "df['difference_dates_of_reviews'].fillna(df['difference_dates_of_reviews'].mean(), inplace=True)"
   ]
  },
  {
   "cell_type": "code",
   "execution_count": 17,
   "metadata": {
    "ExecuteTime": {
     "end_time": "2021-06-26T12:53:00.745967Z",
     "start_time": "2021-06-26T12:53:00.699296Z"
    }
   },
   "outputs": [],
   "source": [
    "# Создадим словарь в котором отражено население и площадь каждого города МАЕ 0,21239\n",
    "cities = list(sorted(df['city'].unique()))\n",
    "# Населенеи выражено в млн.чел\n",
    "population = [0.825080, 3.168846, 0.424819, 3.326002, 0.413192, 0.176545, 1.744665, 1.246611, 0.506211,\n",
    "              0.482005, 0.198899, 1.718187, 0.574579, 0.756183, 0.547733, 0.277554, 8.538689, 0.214,\n",
    "              0.506615, 3.155360, 1.331586, 1.561094, 0.258975, 0.673469, 2.148327, 1.272690,  2.870493,\n",
    "              0.961609, 1.765649, 1.720398, 0.402275]\n",
    "area = [219.4, 412, 101.3, 891.68, 368, 32.61, 525.14, 86.40, 318, 118, 15.93, 755.09, 213.8, 327, 100.05,\n",
    "        163.8, 1572, 51.47, 47.87, 607, 181.67, 310.71, 41.66, 454, 105.4, 496, 1287.36, 188, 414.75, 517, 91.88]\n",
    "city_population_dict = dict(zip(cities, population))\n",
    "city_area_dict = dict(zip(cities, area))\n",
    "# city_population_dict\n",
    "# city_area_dict\n",
    "df['city_area'] = df['city'].map(lambda x: city_area_dict[str(x)])\n",
    "df['city_population'] = df['city'].map(lambda x: city_population_dict[x])"
   ]
  },
  {
   "cell_type": "code",
   "execution_count": 18,
   "metadata": {
    "ExecuteTime": {
     "end_time": "2021-06-26T12:53:00.789679Z",
     "start_time": "2021-06-26T12:53:00.747957Z"
    }
   },
   "outputs": [],
   "source": [
    "# Определим количество ресторанов в каждом городе.\n",
    "restorants_in_city = df.groupby('city')['ranking'].count().to_dict()\n",
    "df['restaurants_count'] = df['city'].map(restorants_in_city)\n",
    "# Количество ресторанов на 10_000 человек\n",
    "df['restaurants_for_population'] = df['restaurants_count'] / (df['city_population'] * 10_000)"
   ]
  },
  {
   "cell_type": "code",
   "execution_count": 19,
   "metadata": {
    "ExecuteTime": {
     "end_time": "2021-06-26T12:53:00.883422Z",
     "start_time": "2021-06-26T12:53:00.789679Z"
    }
   },
   "outputs": [],
   "source": [
    "# Количество кухонь в ресторане. Пропущенные значения заменены на 1.\n",
    "df['cuisine_variety'] = df['cuisine_style'].str.split(', ').map(lambda x: len(x) if type(x) == list else 1)\n",
    "# Сохраним информацию о пропусках\n",
    "df['cuisine_style_isNAN'] = pd.isna(df['cuisine_style']).astype('uint8')"
   ]
  },
  {
   "cell_type": "code",
   "execution_count": 20,
   "metadata": {
    "ExecuteTime": {
     "end_time": "2021-06-26T12:53:00.899046Z",
     "start_time": "2021-06-26T12:53:00.883422Z"
    }
   },
   "outputs": [],
   "source": [
    "# Избавимся от пропусков в данных\n",
    "df['number_of_reviews'].fillna(0, inplace=True)\n",
    "# Добавим столбец с информацией о пропусках\n",
    "df['number_of_reviews_isNAN'] = pd.isna(df['number_of_reviews']).astype('uint8')\n",
    "# Как часто в городе оставляют отзывы\n",
    "df['frequency_of_reviews'] = df['number_of_reviews'] / df['city_population']"
   ]
  },
  {
   "cell_type": "code",
   "execution_count": 21,
   "metadata": {
    "ExecuteTime": {
     "end_time": "2021-06-26T12:53:00.914668Z",
     "start_time": "2021-06-26T12:53:00.899046Z"
    }
   },
   "outputs": [],
   "source": [
    "# Добавим столбцы с информацией о пропусках\n",
    "# df['price_range_isNAN'] = pd.isna(df['price_range']).astype('uint8')"
   ]
  },
  {
   "cell_type": "markdown",
   "metadata": {},
   "source": [
    "### Сделаем Dummy-encoding"
   ]
  },
  {
   "cell_type": "code",
   "execution_count": 22,
   "metadata": {
    "ExecuteTime": {
     "end_time": "2021-06-26T12:53:00.926135Z",
     "start_time": "2021-06-26T12:53:00.922136Z"
    }
   },
   "outputs": [],
   "source": [
    "# Проведем dummy-кодирование по признаку city\n",
    "# ohe = OneHotEncoder(sparse=False)\n",
    "# new_ohe_features = ohe.fit_transform(df['city'].values.reshape(-1, 1))\n",
    "# tmp = pd.DataFrame(new_ohe_features, columns=['city=' + str(i) for i in range(new_ohe_features.shape[1])])\n",
    "# df = pd.concat([df, tmp], axis=1)"
   ]
  },
  {
   "cell_type": "code",
   "execution_count": 23,
   "metadata": {
    "ExecuteTime": {
     "end_time": "2021-06-26T12:53:00.978429Z",
     "start_time": "2021-06-26T12:53:00.930132Z"
    }
   },
   "outputs": [],
   "source": [
    "df['price_range'].fillna('$$ - $$$', inplace=True)\n",
    "# Проведем Label-encoding параметра price_range\n",
    "# dic_value_price = {'$':1,'$$ - $$$':2,'$$$$':3}\n",
    "# df['price_range'] = df['price_range'].map(dic_value_price)\n",
    "# Проведем One-Hot-encoding параметра price_range\n",
    "ohe = OneHotEncoder(sparse=False)\n",
    "new_ohe_features = ohe.fit_transform(df['price_range'].values.reshape(-1, 1))\n",
    "tmp = pd.DataFrame(new_ohe_features, columns=['price_range=' + str(i) for i in range(new_ohe_features.shape[1])])\n",
    "df = pd.concat([df, tmp], axis=1)"
   ]
  },
  {
   "cell_type": "code",
   "execution_count": 24,
   "metadata": {
    "ExecuteTime": {
     "end_time": "2021-06-26T12:53:01.020711Z",
     "start_time": "2021-06-26T12:53:00.978429Z"
    },
    "scrolled": true
   },
   "outputs": [
    {
     "data": {
      "text/html": [
       "<div>\n",
       "<style scoped>\n",
       "    .dataframe tbody tr th:only-of-type {\n",
       "        vertical-align: middle;\n",
       "    }\n",
       "\n",
       "    .dataframe tbody tr th {\n",
       "        vertical-align: top;\n",
       "    }\n",
       "\n",
       "    .dataframe thead th {\n",
       "        text-align: right;\n",
       "    }\n",
       "</style>\n",
       "<table border=\"1\" class=\"dataframe\">\n",
       "  <thead>\n",
       "    <tr style=\"text-align: right;\">\n",
       "      <th></th>\n",
       "      <th>restaurant_id</th>\n",
       "      <th>city</th>\n",
       "      <th>cuisine_style</th>\n",
       "      <th>ranking</th>\n",
       "      <th>rating</th>\n",
       "      <th>price_range</th>\n",
       "      <th>number_of_reviews</th>\n",
       "      <th>reviews</th>\n",
       "      <th>url_ta</th>\n",
       "      <th>id_ta</th>\n",
       "      <th>...</th>\n",
       "      <th>city_population</th>\n",
       "      <th>restaurants_count</th>\n",
       "      <th>restaurants_for_population</th>\n",
       "      <th>cuisine_variety</th>\n",
       "      <th>cuisine_style_isNAN</th>\n",
       "      <th>number_of_reviews_isNAN</th>\n",
       "      <th>frequency_of_reviews</th>\n",
       "      <th>price_range=0</th>\n",
       "      <th>price_range=1</th>\n",
       "      <th>price_range=2</th>\n",
       "    </tr>\n",
       "  </thead>\n",
       "  <tbody>\n",
       "    <tr>\n",
       "      <th>0</th>\n",
       "      <td>id_5569</td>\n",
       "      <td>Paris</td>\n",
       "      <td>['European', 'French', 'International']</td>\n",
       "      <td>5570.0</td>\n",
       "      <td>3.5</td>\n",
       "      <td>$$ - $$$</td>\n",
       "      <td>194.0</td>\n",
       "      <td>[['Good food at your doorstep', 'A good hotel ...</td>\n",
       "      <td>/Restaurant_Review-g187147-d1912643-Reviews-R_...</td>\n",
       "      <td>d1912643</td>\n",
       "      <td>...</td>\n",
       "      <td>2.148327</td>\n",
       "      <td>4897</td>\n",
       "      <td>0.227945</td>\n",
       "      <td>3</td>\n",
       "      <td>0</td>\n",
       "      <td>0</td>\n",
       "      <td>90.302826</td>\n",
       "      <td>0.0</td>\n",
       "      <td>1.0</td>\n",
       "      <td>0.0</td>\n",
       "    </tr>\n",
       "    <tr>\n",
       "      <th>1</th>\n",
       "      <td>id_1535</td>\n",
       "      <td>Stockholm</td>\n",
       "      <td>NaN</td>\n",
       "      <td>1537.0</td>\n",
       "      <td>4.0</td>\n",
       "      <td>$$ - $$$</td>\n",
       "      <td>10.0</td>\n",
       "      <td>[['Unique cuisine', 'Delicious Nepalese food']...</td>\n",
       "      <td>/Restaurant_Review-g189852-d7992032-Reviews-Bu...</td>\n",
       "      <td>d7992032</td>\n",
       "      <td>...</td>\n",
       "      <td>0.961609</td>\n",
       "      <td>820</td>\n",
       "      <td>0.085274</td>\n",
       "      <td>1</td>\n",
       "      <td>1</td>\n",
       "      <td>0</td>\n",
       "      <td>10.399237</td>\n",
       "      <td>0.0</td>\n",
       "      <td>1.0</td>\n",
       "      <td>0.0</td>\n",
       "    </tr>\n",
       "    <tr>\n",
       "      <th>2</th>\n",
       "      <td>id_352</td>\n",
       "      <td>London</td>\n",
       "      <td>['Japanese', 'Sushi', 'Asian', 'Grill', 'Veget...</td>\n",
       "      <td>353.0</td>\n",
       "      <td>4.5</td>\n",
       "      <td>$$$$</td>\n",
       "      <td>688.0</td>\n",
       "      <td>[['Catch up with friends', 'Not exceptional'],...</td>\n",
       "      <td>/Restaurant_Review-g186338-d8632781-Reviews-RO...</td>\n",
       "      <td>d8632781</td>\n",
       "      <td>...</td>\n",
       "      <td>8.538689</td>\n",
       "      <td>5757</td>\n",
       "      <td>0.067423</td>\n",
       "      <td>7</td>\n",
       "      <td>0</td>\n",
       "      <td>0</td>\n",
       "      <td>80.574430</td>\n",
       "      <td>0.0</td>\n",
       "      <td>0.0</td>\n",
       "      <td>1.0</td>\n",
       "    </tr>\n",
       "  </tbody>\n",
       "</table>\n",
       "<p>3 rows × 24 columns</p>\n",
       "</div>"
      ],
      "text/plain": [
       "  restaurant_id       city                                      cuisine_style  \\\n",
       "0       id_5569      Paris            ['European', 'French', 'International']   \n",
       "1       id_1535  Stockholm                                                NaN   \n",
       "2        id_352     London  ['Japanese', 'Sushi', 'Asian', 'Grill', 'Veget...   \n",
       "\n",
       "   ranking  rating price_range  number_of_reviews  \\\n",
       "0   5570.0     3.5    $$ - $$$              194.0   \n",
       "1   1537.0     4.0    $$ - $$$               10.0   \n",
       "2    353.0     4.5        $$$$              688.0   \n",
       "\n",
       "                                             reviews  \\\n",
       "0  [['Good food at your doorstep', 'A good hotel ...   \n",
       "1  [['Unique cuisine', 'Delicious Nepalese food']...   \n",
       "2  [['Catch up with friends', 'Not exceptional'],...   \n",
       "\n",
       "                                              url_ta     id_ta  ...  \\\n",
       "0  /Restaurant_Review-g187147-d1912643-Reviews-R_...  d1912643  ...   \n",
       "1  /Restaurant_Review-g189852-d7992032-Reviews-Bu...  d7992032  ...   \n",
       "2  /Restaurant_Review-g186338-d8632781-Reviews-RO...  d8632781  ...   \n",
       "\n",
       "  city_population restaurants_count  restaurants_for_population  \\\n",
       "0        2.148327              4897                    0.227945   \n",
       "1        0.961609               820                    0.085274   \n",
       "2        8.538689              5757                    0.067423   \n",
       "\n",
       "   cuisine_variety  cuisine_style_isNAN  number_of_reviews_isNAN  \\\n",
       "0                3                    0                        0   \n",
       "1                1                    1                        0   \n",
       "2                7                    0                        0   \n",
       "\n",
       "   frequency_of_reviews  price_range=0  price_range=1  price_range=2  \n",
       "0             90.302826            0.0            1.0            0.0  \n",
       "1             10.399237            0.0            1.0            0.0  \n",
       "2             80.574430            0.0            0.0            1.0  \n",
       "\n",
       "[3 rows x 24 columns]"
      ]
     },
     "execution_count": 24,
     "metadata": {},
     "output_type": "execute_result"
    }
   ],
   "source": [
    "df.head(3)"
   ]
  },
  {
   "cell_type": "code",
   "execution_count": 25,
   "metadata": {
    "ExecuteTime": {
     "end_time": "2021-06-26T12:53:01.053657Z",
     "start_time": "2021-06-26T12:53:01.022708Z"
    }
   },
   "outputs": [],
   "source": [
    "drop_column = [*df.columns[:3], 'price_range', *df.columns[7:12]]\n",
    "# drop_column = [*df.columns[:3], *df.columns[7:12]]\n",
    "drop_column\n",
    "df.drop(drop_column, axis=1, inplace=True)"
   ]
  },
  {
   "cell_type": "code",
   "execution_count": 26,
   "metadata": {
    "ExecuteTime": {
     "end_time": "2021-06-26T12:53:01.079641Z",
     "start_time": "2021-06-26T12:53:01.056657Z"
    },
    "scrolled": false
   },
   "outputs": [
    {
     "data": {
      "text/html": [
       "<div>\n",
       "<style scoped>\n",
       "    .dataframe tbody tr th:only-of-type {\n",
       "        vertical-align: middle;\n",
       "    }\n",
       "\n",
       "    .dataframe tbody tr th {\n",
       "        vertical-align: top;\n",
       "    }\n",
       "\n",
       "    .dataframe thead th {\n",
       "        text-align: right;\n",
       "    }\n",
       "</style>\n",
       "<table border=\"1\" class=\"dataframe\">\n",
       "  <thead>\n",
       "    <tr style=\"text-align: right;\">\n",
       "      <th></th>\n",
       "      <th>ranking</th>\n",
       "      <th>rating</th>\n",
       "      <th>number_of_reviews</th>\n",
       "      <th>difference_dates_of_reviews</th>\n",
       "      <th>city_area</th>\n",
       "      <th>city_population</th>\n",
       "      <th>restaurants_count</th>\n",
       "      <th>restaurants_for_population</th>\n",
       "      <th>cuisine_variety</th>\n",
       "      <th>cuisine_style_isNAN</th>\n",
       "      <th>number_of_reviews_isNAN</th>\n",
       "      <th>frequency_of_reviews</th>\n",
       "      <th>price_range=0</th>\n",
       "      <th>price_range=1</th>\n",
       "      <th>price_range=2</th>\n",
       "    </tr>\n",
       "  </thead>\n",
       "  <tbody>\n",
       "    <tr>\n",
       "      <th>0</th>\n",
       "      <td>5570.0</td>\n",
       "      <td>3.5</td>\n",
       "      <td>194.0</td>\n",
       "      <td>41.0</td>\n",
       "      <td>105.4</td>\n",
       "      <td>2.148327</td>\n",
       "      <td>4897</td>\n",
       "      <td>0.227945</td>\n",
       "      <td>3</td>\n",
       "      <td>0</td>\n",
       "      <td>0</td>\n",
       "      <td>90.302826</td>\n",
       "      <td>0.0</td>\n",
       "      <td>1.0</td>\n",
       "      <td>0.0</td>\n",
       "    </tr>\n",
       "    <tr>\n",
       "      <th>1</th>\n",
       "      <td>1537.0</td>\n",
       "      <td>4.0</td>\n",
       "      <td>10.0</td>\n",
       "      <td>382.0</td>\n",
       "      <td>188.0</td>\n",
       "      <td>0.961609</td>\n",
       "      <td>820</td>\n",
       "      <td>0.085274</td>\n",
       "      <td>1</td>\n",
       "      <td>1</td>\n",
       "      <td>0</td>\n",
       "      <td>10.399237</td>\n",
       "      <td>0.0</td>\n",
       "      <td>1.0</td>\n",
       "      <td>0.0</td>\n",
       "    </tr>\n",
       "    <tr>\n",
       "      <th>2</th>\n",
       "      <td>353.0</td>\n",
       "      <td>4.5</td>\n",
       "      <td>688.0</td>\n",
       "      <td>2.0</td>\n",
       "      <td>1572.0</td>\n",
       "      <td>8.538689</td>\n",
       "      <td>5757</td>\n",
       "      <td>0.067423</td>\n",
       "      <td>7</td>\n",
       "      <td>0</td>\n",
       "      <td>0</td>\n",
       "      <td>80.574430</td>\n",
       "      <td>0.0</td>\n",
       "      <td>0.0</td>\n",
       "      <td>1.0</td>\n",
       "    </tr>\n",
       "  </tbody>\n",
       "</table>\n",
       "</div>"
      ],
      "text/plain": [
       "   ranking  rating  number_of_reviews  difference_dates_of_reviews  city_area  \\\n",
       "0   5570.0     3.5              194.0                         41.0      105.4   \n",
       "1   1537.0     4.0               10.0                        382.0      188.0   \n",
       "2    353.0     4.5              688.0                          2.0     1572.0   \n",
       "\n",
       "   city_population  restaurants_count  restaurants_for_population  \\\n",
       "0         2.148327               4897                    0.227945   \n",
       "1         0.961609                820                    0.085274   \n",
       "2         8.538689               5757                    0.067423   \n",
       "\n",
       "   cuisine_variety  cuisine_style_isNAN  number_of_reviews_isNAN  \\\n",
       "0                3                    0                        0   \n",
       "1                1                    1                        0   \n",
       "2                7                    0                        0   \n",
       "\n",
       "   frequency_of_reviews  price_range=0  price_range=1  price_range=2  \n",
       "0             90.302826            0.0            1.0            0.0  \n",
       "1             10.399237            0.0            1.0            0.0  \n",
       "2             80.574430            0.0            0.0            1.0  "
      ]
     },
     "execution_count": 26,
     "metadata": {},
     "output_type": "execute_result"
    }
   ],
   "source": [
    "df.head(3)"
   ]
  },
  {
   "cell_type": "markdown",
   "metadata": {},
   "source": [
    "# Разбиваем датафрейм на части, необходимые для обучения и тестирования модели"
   ]
  },
  {
   "cell_type": "code",
   "execution_count": 27,
   "metadata": {
    "ExecuteTime": {
     "end_time": "2021-06-26T12:53:01.097632Z",
     "start_time": "2021-06-26T12:53:01.082639Z"
    }
   },
   "outputs": [],
   "source": [
    "# Х - данные с информацией о ресторанах, у - целевая переменная (рейтинги ресторанов)\n",
    "X = df.drop(['rating'], axis = 1)\n",
    "y = df['rating']"
   ]
  },
  {
   "cell_type": "code",
   "execution_count": 28,
   "metadata": {
    "ExecuteTime": {
     "end_time": "2021-06-26T12:53:01.162592Z",
     "start_time": "2021-06-26T12:53:01.101629Z"
    }
   },
   "outputs": [],
   "source": [
    "# Загружаем специальный инструмент для разбивки:\n",
    "from sklearn.model_selection import train_test_split"
   ]
  },
  {
   "cell_type": "code",
   "execution_count": 29,
   "metadata": {
    "ExecuteTime": {
     "end_time": "2021-06-26T12:53:01.186575Z",
     "start_time": "2021-06-26T12:53:01.164587Z"
    }
   },
   "outputs": [],
   "source": [
    "# Наборы данных с меткой \"train\" будут использоваться для обучения модели, \"test\" - для тестирования.\n",
    "# Для тестирования мы будем использовать 25% от исходного датасета.\n",
    "X_train, X_test, y_train, y_test = train_test_split(X, y, test_size=0.25)"
   ]
  },
  {
   "cell_type": "markdown",
   "metadata": {},
   "source": [
    "# Создаём, обучаем и тестируем модель"
   ]
  },
  {
   "cell_type": "code",
   "execution_count": 30,
   "metadata": {
    "ExecuteTime": {
     "end_time": "2021-06-26T12:53:01.411753Z",
     "start_time": "2021-06-26T12:53:01.189574Z"
    }
   },
   "outputs": [],
   "source": [
    "# Импортируем необходимые библиотеки:\n",
    "from sklearn.ensemble import RandomForestRegressor # инструмент для создания и обучения модели\n",
    "from sklearn import metrics # инструменты для оценки точности модели"
   ]
  },
  {
   "cell_type": "code",
   "execution_count": 31,
   "metadata": {
    "ExecuteTime": {
     "end_time": "2021-06-26T12:53:14.837324Z",
     "start_time": "2021-06-26T12:53:01.411753Z"
    }
   },
   "outputs": [],
   "source": [
    "# Создаём модель\n",
    "regr = RandomForestRegressor(n_estimators=100, random_state=RANDOM_SEED)\n",
    "\n",
    "# Обучаем модель на тестовом наборе данных\n",
    "regr.fit(X_train, y_train)\n",
    "\n",
    "# Используем обученную модель для предсказания рейтинга ресторанов в тестовой выборке.\n",
    "# Предсказанные значения записываем в переменную y_pred\n",
    "y_pred = regr.predict(X_test)"
   ]
  },
  {
   "cell_type": "code",
   "execution_count": 32,
   "metadata": {
    "ExecuteTime": {
     "end_time": "2021-06-26T12:53:14.852944Z",
     "start_time": "2021-06-26T12:53:14.837324Z"
    }
   },
   "outputs": [
    {
     "name": "stdout",
     "output_type": "stream",
     "text": [
      "MAE: 0.207019\n"
     ]
    }
   ],
   "source": [
    "# Сравниваем предсказанные значения (y_pred) с реальными (y_test), и смотрим насколько они в среднем отличаются\n",
    "# Метрика называется Mean Absolute Error (MAE) и показывает среднее отклонение предсказанных значений от фактических.\n",
    "print('MAE:', metrics.mean_absolute_error(y_test, y_pred))"
   ]
  },
  {
   "cell_type": "code",
   "execution_count": null,
   "metadata": {},
   "outputs": [],
   "source": []
  }
 ],
 "metadata": {
  "kernelspec": {
   "display_name": "Python 3",
   "language": "python",
   "name": "python3"
  },
  "language_info": {
   "codemirror_mode": {
    "name": "ipython",
    "version": 3
   },
   "file_extension": ".py",
   "mimetype": "text/x-python",
   "name": "python",
   "nbconvert_exporter": "python",
   "pygments_lexer": "ipython3",
   "version": "3.8.5"
  },
  "toc": {
   "base_numbering": 1,
   "nav_menu": {},
   "number_sections": true,
   "sideBar": true,
   "skip_h1_title": false,
   "title_cell": "Table of Contents",
   "title_sidebar": "Contents",
   "toc_cell": false,
   "toc_position": {},
   "toc_section_display": true,
   "toc_window_display": false
  }
 },
 "nbformat": 4,
 "nbformat_minor": 2
}

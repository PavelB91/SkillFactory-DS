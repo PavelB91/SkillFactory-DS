{
 "cells": [
  {
   "cell_type": "code",
   "execution_count": 1,
   "metadata": {
    "ExecuteTime": {
     "end_time": "2021-06-21T17:35:33.337895Z",
     "start_time": "2021-06-21T17:35:32.521402Z"
    }
   },
   "outputs": [],
   "source": [
    "import pandas as pd\n",
    "import numpy as np\n",
    "import requests\n",
    "from bs4 import BeautifulSoup\n",
    "import lxml\n",
    "import csv\n",
    "import re"
   ]
  },
  {
   "cell_type": "code",
   "execution_count": 164,
   "metadata": {
    "ExecuteTime": {
     "end_time": "2021-06-21T20:54:44.124054Z",
     "start_time": "2021-06-21T20:54:43.706314Z"
    }
   },
   "outputs": [
    {
     "data": {
      "text/html": [
       "<div>\n",
       "<style scoped>\n",
       "    .dataframe tbody tr th:only-of-type {\n",
       "        vertical-align: middle;\n",
       "    }\n",
       "\n",
       "    .dataframe tbody tr th {\n",
       "        vertical-align: top;\n",
       "    }\n",
       "\n",
       "    .dataframe thead th {\n",
       "        text-align: right;\n",
       "    }\n",
       "</style>\n",
       "<table border=\"1\" class=\"dataframe\">\n",
       "  <thead>\n",
       "    <tr style=\"text-align: right;\">\n",
       "      <th></th>\n",
       "      <th>Price Range</th>\n",
       "      <th>Cuisine Style</th>\n",
       "    </tr>\n",
       "  </thead>\n",
       "  <tbody>\n",
       "    <tr>\n",
       "      <th>0</th>\n",
       "      <td>$$ - $$$</td>\n",
       "      <td>['European', 'French', 'International']</td>\n",
       "    </tr>\n",
       "    <tr>\n",
       "      <th>1</th>\n",
       "      <td>NaN</td>\n",
       "      <td>NaN</td>\n",
       "    </tr>\n",
       "    <tr>\n",
       "      <th>2</th>\n",
       "      <td>$$$$</td>\n",
       "      <td>['Japanese', 'Sushi', 'Asian', 'Grill', 'Veget...</td>\n",
       "    </tr>\n",
       "    <tr>\n",
       "      <th>3</th>\n",
       "      <td>NaN</td>\n",
       "      <td>NaN</td>\n",
       "    </tr>\n",
       "  </tbody>\n",
       "</table>\n",
       "</div>"
      ],
      "text/plain": [
       "  Price Range                                      Cuisine Style\n",
       "0    $$ - $$$            ['European', 'French', 'International']\n",
       "1         NaN                                                NaN\n",
       "2        $$$$  ['Japanese', 'Sushi', 'Asian', 'Grill', 'Veget...\n",
       "3         NaN                                                NaN"
      ]
     },
     "execution_count": 164,
     "metadata": {},
     "output_type": "execute_result"
    }
   ],
   "source": [
    "df = pd.read_csv('main_task.csv')\n",
    "df = df[['Price Range', 'Cuisine Style', 'URL_TA', 'ID_TA']]\n",
    "df = df[:4]\n",
    "df[['Price Range', 'Cuisine Style']]"
   ]
  },
  {
   "cell_type": "code",
   "execution_count": 175,
   "metadata": {
    "ExecuteTime": {
     "end_time": "2021-06-21T21:04:01.748134Z",
     "start_time": "2021-06-21T21:04:01.730145Z"
    },
    "code_folding": []
   },
   "outputs": [],
   "source": [
    "restaurant_data = 'restaurant_data.csv'\n",
    "HEADERS = {\n",
    "    'accept': 'text/html,application/xhtml+xml,application/xml;q=0.9,image/avif,image/webp,image/apng,*/*;q=0.8,application/signed-exchange;v=b3;q=0.9',\n",
    "    'user-agent': 'Mozilla/5.0 (Windows NT 10.0; Win64; x64) AppleWebKit/537.36 (KHTML, like Gecko) Chrome/91.0.4472.106 Safari/537.36'\n",
    "}\n",
    "\n",
    "# link = 'https://www.tripadvisor.ru'+str(df['URL_TA'][0])\n",
    "\n",
    "\n",
    "def get_html(link, params=''):\n",
    "    r = requests.get(link, headers=HEADERS, params=params)\n",
    "    return r\n",
    "\n",
    "\n",
    "def get_content(html):  # работаем со страницей\n",
    "    soup = BeautifulSoup(html, 'lxml')\n",
    "    items = soup.find_all('span', class_='_13OzAOXO _34GKdBMV')\n",
    "    restaurant_data = []\n",
    "    if items is not None:  # проверка страницы на наличие данных\n",
    "        for item in items:\n",
    "            restaurant_data.append(\n",
    "                {\n",
    "                    'price_range': item.find('a', class_='_2mn01bsa').get_text(strip=True),\n",
    "                    'cuisine_style': [item.find_all('a', class_='_2mn01bsa')[x].get_text(strip=True) for x in range(1, len(item.find_all('a', class_='_2mn01bsa')))]\n",
    "                }\n",
    "            )\n",
    "        return restaurant_data\n",
    "\n",
    "\n",
    "# def save_content(items, path):  # сохраняем данные в файл(разобраться как это правильно делать)\n",
    "#     with open(path, 'w', encoding='utf-8', newline='') as file:\n",
    "#         writer = csv.writer(file, delimiter=',')\n",
    "#         writer.writerow(['price_range', 'cuisine_style'])\n",
    "\n",
    "#     for item in items:\n",
    "#         writer.writerow([item['price_range'], item['cuisine_style']])\n",
    "\n",
    "\n",
    "def parser(url):  # работаем по всем страницам\n",
    "    link = 'https://www.tripadvisor.ru'+str(url)\n",
    "    html = get_html(link)\n",
    "    if html.status_code == 200:  # проверяет запускается ли страница, нужно подумать как реализовать если страницы нет через .url\n",
    "        restaurant_data = get_content(html.text)\n",
    "        pass  # после кода на выполнение по всем страницам выполним сохранение документа\n",
    "#         save_content(restaurant_data, 'restaraunt_data.csv')\n",
    "        return restaurant_data\n",
    "    else:\n",
    "        print('Error')"
   ]
  },
  {
   "cell_type": "code",
   "execution_count": 176,
   "metadata": {
    "ExecuteTime": {
     "end_time": "2021-06-21T21:04:08.197514Z",
     "start_time": "2021-06-21T21:04:02.563190Z"
    }
   },
   "outputs": [
    {
     "ename": "AttributeError",
     "evalue": "'NoneType' object has no attribute 'get_text'",
     "output_type": "error",
     "traceback": [
      "\u001b[1;31m---------------------------------------------------------------------------\u001b[0m",
      "\u001b[1;31mAttributeError\u001b[0m                            Traceback (most recent call last)",
      "\u001b[1;32m<ipython-input-176-16c6d5d97d05>\u001b[0m in \u001b[0;36m<module>\u001b[1;34m\u001b[0m\n\u001b[1;32m----> 1\u001b[1;33m \u001b[0md\u001b[0m \u001b[1;33m=\u001b[0m \u001b[0mdf\u001b[0m\u001b[1;33m[\u001b[0m\u001b[1;34m'URL_TA'\u001b[0m\u001b[1;33m]\u001b[0m\u001b[1;33m.\u001b[0m\u001b[0mapply\u001b[0m\u001b[1;33m(\u001b[0m\u001b[0mparser\u001b[0m\u001b[1;33m)\u001b[0m\u001b[1;33m\u001b[0m\u001b[1;33m\u001b[0m\u001b[0m\n\u001b[0m",
      "\u001b[1;32m~\\anaconda3\\lib\\site-packages\\pandas\\core\\series.py\u001b[0m in \u001b[0;36mapply\u001b[1;34m(self, func, convert_dtype, args, **kwds)\u001b[0m\n\u001b[0;32m   4198\u001b[0m             \u001b[1;32melse\u001b[0m\u001b[1;33m:\u001b[0m\u001b[1;33m\u001b[0m\u001b[1;33m\u001b[0m\u001b[0m\n\u001b[0;32m   4199\u001b[0m                 \u001b[0mvalues\u001b[0m \u001b[1;33m=\u001b[0m \u001b[0mself\u001b[0m\u001b[1;33m.\u001b[0m\u001b[0mastype\u001b[0m\u001b[1;33m(\u001b[0m\u001b[0mobject\u001b[0m\u001b[1;33m)\u001b[0m\u001b[1;33m.\u001b[0m\u001b[0m_values\u001b[0m\u001b[1;33m\u001b[0m\u001b[1;33m\u001b[0m\u001b[0m\n\u001b[1;32m-> 4200\u001b[1;33m                 \u001b[0mmapped\u001b[0m \u001b[1;33m=\u001b[0m \u001b[0mlib\u001b[0m\u001b[1;33m.\u001b[0m\u001b[0mmap_infer\u001b[0m\u001b[1;33m(\u001b[0m\u001b[0mvalues\u001b[0m\u001b[1;33m,\u001b[0m \u001b[0mf\u001b[0m\u001b[1;33m,\u001b[0m \u001b[0mconvert\u001b[0m\u001b[1;33m=\u001b[0m\u001b[0mconvert_dtype\u001b[0m\u001b[1;33m)\u001b[0m\u001b[1;33m\u001b[0m\u001b[1;33m\u001b[0m\u001b[0m\n\u001b[0m\u001b[0;32m   4201\u001b[0m \u001b[1;33m\u001b[0m\u001b[0m\n\u001b[0;32m   4202\u001b[0m         \u001b[1;32mif\u001b[0m \u001b[0mlen\u001b[0m\u001b[1;33m(\u001b[0m\u001b[0mmapped\u001b[0m\u001b[1;33m)\u001b[0m \u001b[1;32mand\u001b[0m \u001b[0misinstance\u001b[0m\u001b[1;33m(\u001b[0m\u001b[0mmapped\u001b[0m\u001b[1;33m[\u001b[0m\u001b[1;36m0\u001b[0m\u001b[1;33m]\u001b[0m\u001b[1;33m,\u001b[0m \u001b[0mSeries\u001b[0m\u001b[1;33m)\u001b[0m\u001b[1;33m:\u001b[0m\u001b[1;33m\u001b[0m\u001b[1;33m\u001b[0m\u001b[0m\n",
      "\u001b[1;32mpandas\\_libs\\lib.pyx\u001b[0m in \u001b[0;36mpandas._libs.lib.map_infer\u001b[1;34m()\u001b[0m\n",
      "\u001b[1;32m<ipython-input-175-4e8b63980514>\u001b[0m in \u001b[0;36mparser\u001b[1;34m(url)\u001b[0m\n\u001b[0;32m     43\u001b[0m     \u001b[0mhtml\u001b[0m \u001b[1;33m=\u001b[0m \u001b[0mget_html\u001b[0m\u001b[1;33m(\u001b[0m\u001b[0mlink\u001b[0m\u001b[1;33m)\u001b[0m\u001b[1;33m\u001b[0m\u001b[1;33m\u001b[0m\u001b[0m\n\u001b[0;32m     44\u001b[0m     \u001b[1;32mif\u001b[0m \u001b[0mhtml\u001b[0m\u001b[1;33m.\u001b[0m\u001b[0mstatus_code\u001b[0m \u001b[1;33m==\u001b[0m \u001b[1;36m200\u001b[0m\u001b[1;33m:\u001b[0m  \u001b[1;31m# проверяет запускается ли страница, нужно подумать как реализовать если страницы нет через .url\u001b[0m\u001b[1;33m\u001b[0m\u001b[1;33m\u001b[0m\u001b[0m\n\u001b[1;32m---> 45\u001b[1;33m         \u001b[0mrestaurant_data\u001b[0m \u001b[1;33m=\u001b[0m \u001b[0mget_content\u001b[0m\u001b[1;33m(\u001b[0m\u001b[0mhtml\u001b[0m\u001b[1;33m.\u001b[0m\u001b[0mtext\u001b[0m\u001b[1;33m)\u001b[0m\u001b[1;33m\u001b[0m\u001b[1;33m\u001b[0m\u001b[0m\n\u001b[0m\u001b[0;32m     46\u001b[0m         \u001b[1;32mpass\u001b[0m  \u001b[1;31m# после кода на выполнение по всем страницам выполним сохранение документа\u001b[0m\u001b[1;33m\u001b[0m\u001b[1;33m\u001b[0m\u001b[0m\n\u001b[0;32m     47\u001b[0m \u001b[1;31m#         save_content(restaurant_data, 'restaraunt_data.csv')\u001b[0m\u001b[1;33m\u001b[0m\u001b[1;33m\u001b[0m\u001b[1;33m\u001b[0m\u001b[0m\n",
      "\u001b[1;32m<ipython-input-175-4e8b63980514>\u001b[0m in \u001b[0;36mget_content\u001b[1;34m(html)\u001b[0m\n\u001b[0;32m     21\u001b[0m             restaurant_data.append(\n\u001b[0;32m     22\u001b[0m                 {\n\u001b[1;32m---> 23\u001b[1;33m                     \u001b[1;34m'price_range'\u001b[0m\u001b[1;33m:\u001b[0m \u001b[0mitem\u001b[0m\u001b[1;33m.\u001b[0m\u001b[0mfind\u001b[0m\u001b[1;33m(\u001b[0m\u001b[1;34m'a'\u001b[0m\u001b[1;33m,\u001b[0m \u001b[0mclass_\u001b[0m\u001b[1;33m=\u001b[0m\u001b[1;34m'_2mn01bsa'\u001b[0m\u001b[1;33m)\u001b[0m\u001b[1;33m.\u001b[0m\u001b[0mget_text\u001b[0m\u001b[1;33m(\u001b[0m\u001b[0mstrip\u001b[0m\u001b[1;33m=\u001b[0m\u001b[1;32mTrue\u001b[0m\u001b[1;33m)\u001b[0m\u001b[1;33m,\u001b[0m\u001b[1;33m\u001b[0m\u001b[1;33m\u001b[0m\u001b[0m\n\u001b[0m\u001b[0;32m     24\u001b[0m                     \u001b[1;34m'cuisine_style'\u001b[0m\u001b[1;33m:\u001b[0m \u001b[1;33m[\u001b[0m\u001b[0mitem\u001b[0m\u001b[1;33m.\u001b[0m\u001b[0mfind_all\u001b[0m\u001b[1;33m(\u001b[0m\u001b[1;34m'a'\u001b[0m\u001b[1;33m,\u001b[0m \u001b[0mclass_\u001b[0m\u001b[1;33m=\u001b[0m\u001b[1;34m'_2mn01bsa'\u001b[0m\u001b[1;33m)\u001b[0m\u001b[1;33m[\u001b[0m\u001b[0mx\u001b[0m\u001b[1;33m]\u001b[0m\u001b[1;33m.\u001b[0m\u001b[0mget_text\u001b[0m\u001b[1;33m(\u001b[0m\u001b[0mstrip\u001b[0m\u001b[1;33m=\u001b[0m\u001b[1;32mTrue\u001b[0m\u001b[1;33m)\u001b[0m \u001b[1;32mfor\u001b[0m \u001b[0mx\u001b[0m \u001b[1;32min\u001b[0m \u001b[0mrange\u001b[0m\u001b[1;33m(\u001b[0m\u001b[1;36m1\u001b[0m\u001b[1;33m,\u001b[0m \u001b[0mlen\u001b[0m\u001b[1;33m(\u001b[0m\u001b[0mitem\u001b[0m\u001b[1;33m.\u001b[0m\u001b[0mfind_all\u001b[0m\u001b[1;33m(\u001b[0m\u001b[1;34m'a'\u001b[0m\u001b[1;33m,\u001b[0m \u001b[0mclass_\u001b[0m\u001b[1;33m=\u001b[0m\u001b[1;34m'_2mn01bsa'\u001b[0m\u001b[1;33m)\u001b[0m\u001b[1;33m)\u001b[0m\u001b[1;33m)\u001b[0m\u001b[1;33m]\u001b[0m\u001b[1;33m\u001b[0m\u001b[1;33m\u001b[0m\u001b[0m\n\u001b[0;32m     25\u001b[0m                 }\n",
      "\u001b[1;31mAttributeError\u001b[0m: 'NoneType' object has no attribute 'get_text'"
     ]
    }
   ],
   "source": [
    "d = df['URL_TA'].apply(parser)"
   ]
  },
  {
   "cell_type": "code",
   "execution_count": 150,
   "metadata": {
    "ExecuteTime": {
     "end_time": "2021-06-21T19:19:25.443734Z",
     "start_time": "2021-06-21T19:19:25.438736Z"
    }
   },
   "outputs": [
    {
     "data": {
      "text/plain": [
       "{'price_range': '$$ - $$$',\n",
       " 'cuisine_style': ['Французская', 'Международная', 'Европейская']}"
      ]
     },
     "execution_count": 150,
     "metadata": {},
     "output_type": "execute_result"
    }
   ],
   "source": [
    "d[0][0]"
   ]
  },
  {
   "cell_type": "code",
   "execution_count": 125,
   "metadata": {
    "ExecuteTime": {
     "end_time": "2021-06-21T19:15:38.330950Z",
     "start_time": "2021-06-21T19:15:38.320957Z"
    }
   },
   "outputs": [
    {
     "data": {
      "text/plain": [
       "Price Range                                                   $$$$\n",
       "Cuisine Style    ['Japanese', 'Sushi', 'Asian', 'Grill', 'Veget...\n",
       "URL_TA           /Restaurant_Review-g186338-d8632781-Reviews-RO...\n",
       "ID_TA                                                     d8632781\n",
       "Name: 2, dtype: object"
      ]
     },
     "execution_count": 125,
     "metadata": {},
     "output_type": "execute_result"
    }
   ],
   "source": [
    "df.iloc[2]"
   ]
  },
  {
   "cell_type": "code",
   "execution_count": 160,
   "metadata": {
    "ExecuteTime": {
     "end_time": "2021-06-21T19:48:04.579768Z",
     "start_time": "2021-06-21T19:48:04.570773Z"
    }
   },
   "outputs": [],
   "source": [
    "df2 = pd.read_csv('restaraunt_data.csv')"
   ]
  },
  {
   "cell_type": "code",
   "execution_count": 161,
   "metadata": {
    "ExecuteTime": {
     "end_time": "2021-06-21T19:48:07.610917Z",
     "start_time": "2021-06-21T19:48:07.602921Z"
    }
   },
   "outputs": [
    {
     "data": {
      "text/html": [
       "<div>\n",
       "<style scoped>\n",
       "    .dataframe tbody tr th:only-of-type {\n",
       "        vertical-align: middle;\n",
       "    }\n",
       "\n",
       "    .dataframe tbody tr th {\n",
       "        vertical-align: top;\n",
       "    }\n",
       "\n",
       "    .dataframe thead th {\n",
       "        text-align: right;\n",
       "    }\n",
       "</style>\n",
       "<table border=\"1\" class=\"dataframe\">\n",
       "  <thead>\n",
       "    <tr style=\"text-align: right;\">\n",
       "      <th></th>\n",
       "      <th>price_range</th>\n",
       "      <th>cuisine_style</th>\n",
       "    </tr>\n",
       "  </thead>\n",
       "  <tbody>\n",
       "  </tbody>\n",
       "</table>\n",
       "</div>"
      ],
      "text/plain": [
       "Empty DataFrame\n",
       "Columns: [price_range, cuisine_style]\n",
       "Index: []"
      ]
     },
     "execution_count": 161,
     "metadata": {},
     "output_type": "execute_result"
    }
   ],
   "source": [
    "df2"
   ]
  },
  {
   "cell_type": "code",
   "execution_count": null,
   "metadata": {},
   "outputs": [],
   "source": []
  },
  {
   "cell_type": "code",
   "execution_count": null,
   "metadata": {},
   "outputs": [],
   "source": []
  },
  {
   "cell_type": "code",
   "execution_count": 25,
   "metadata": {
    "ExecuteTime": {
     "end_time": "2021-06-21T18:02:04.025665Z",
     "start_time": "2021-06-21T18:01:26.912779Z"
    },
    "scrolled": true
   },
   "outputs": [
    {
     "name": "stdout",
     "output_type": "stream",
     "text": [
      "https://www.tripadvisor.ru/Restaurant_Review-g187147-d1912643-Reviews-R_Yves-Paris_Ile_de_France.html\n",
      "https://www.tripadvisor.ru/Restaurant_Review-g187147-d1912643-Reviews-R_Yves-Paris_Ile_de_France.html\n",
      "\n",
      "https://www.tripadvisor.ru/Restaurant_Review-g189852-d7992032-Reviews-Buddha_Nepal-Stockholm.html\n",
      "https://www.tripadvisor.ru/Restaurant_Review-g189852-d7992032-Reviews-Buddha_Nepal-Stockholm.html\n",
      "\n",
      "https://www.tripadvisor.ru/Restaurant_Review-g186338-d8632781-Reviews-ROKA_Mayfair-London_England.html\n",
      "https://www.tripadvisor.ru/Restaurant_Review-g186338-d8632781-Reviews-ROKA_Mayfair-London_England.html\n",
      "\n",
      "https://www.tripadvisor.ru/Restaurant_Review-g187323-d1358776-Reviews-Esplanade-Berlin.html\n",
      "https://www.tripadvisor.ru/Restaurant_Review-g187323-d1358776-Reviews-Esplanade-Berlin.html\n",
      "\n",
      "https://www.tripadvisor.ru/Restaurant_Review-g187309-d6864963-Reviews-Augustiner_Schutzen_Garten-Munich_Upper_Bavaria_Bavaria.html\n",
      "https://www.tripadvisor.ru/Restaurant_Review-g187309-d6864963-Reviews-Augustiner_Schutzengarten-Munich_Upper_Bavaria_Bavaria.html\n",
      "\n",
      "https://www.tripadvisor.ru/Restaurant_Review-g189180-d12503536-Reviews-Dick_s_Bar-Porto_Porto_District_Northern_Portugal.html\n",
      "https://www.tripadvisor.ru/Restaurant_Review-g189180-d12503536-Reviews-Dick_s_Bar-Porto_Porto_District_Northern_Portugal.html\n",
      "\n",
      "https://www.tripadvisor.ru/Restaurant_Review-g187849-d5808504-Reviews-Pizzeria_La_Costiera-Milan_Lombardy.html\n",
      "https://www.tripadvisor.ru/Restaurant_Review-g187849-d5808504-Reviews-Pizzeria_La_Costiera-Milan_Lombardy.html\n",
      "\n",
      "https://www.tripadvisor.ru/Restaurant_Review-g274924-d3199765-Reviews-Ristorante_Italiano_San_Cono-Bratislava_Bratislava_Region.html\n",
      "https://www.tripadvisor.ru/Restaurant_Review-g274924-d3199765-Reviews-Ristorante_Italiano_San_Cono-Bratislava_Bratislava_Region.html\n",
      "\n",
      "https://www.tripadvisor.ru/Restaurant_Review-g190454-d12845029-Reviews-Grunstern-Vienna.html\n",
      "https://www.tripadvisor.ru/Restaurant_Review-g190454-d12845029-Reviews-Grunstern-Vienna.html\n",
      "\n",
      "https://www.tripadvisor.ru/Restaurant_Review-g187791-d8020681-Reviews-Quadro_Pizzetterie-Rome_Lazio.html\n",
      "https://www.tripadvisor.ru/Restaurant_Review-g187791-d8020681-Reviews-Quadro_Pizzetterie-Rome_Lazio.html\n",
      "\n",
      "https://www.tripadvisor.ru/Restaurant_Review-g187497-d10696479-Reviews-Restaurant_El_Plaer-Barcelona_Catalonia.html\n",
      "https://www.tripadvisor.ru/Restaurant_Review-g187497-d10696479-Reviews-Restaurant_El_Plaer-Barcelona_Catalonia.html\n",
      "\n",
      "https://www.tripadvisor.ru/Restaurant_Review-g186338-d12402429-Reviews-Pizza_Pilgrims-London_England.html\n",
      "https://www.tripadvisor.ru/Restaurant_Review-g186338-d12402429-Reviews-Pizza_Pilgrims-London_England.html\n",
      "\n",
      "https://www.tripadvisor.ru/Restaurant_Review-g186338-d2259559-Reviews-Made_In_Italy_King_s_Road-London_England.html\n",
      "https://www.tripadvisor.ru/Restaurant_Review-g186338-d2259559-Reviews-Made_In_Italy_King_s_Road-London_England.html\n",
      "\n",
      "https://www.tripadvisor.ru/Restaurant_Review-g187323-d12107166-Reviews-Lykke-Berlin.html\n",
      "https://www.tripadvisor.ru/Restaurant_Review-g187323-d12107166-Reviews-Lykke-Berlin.html\n",
      "\n",
      "https://www.tripadvisor.ru/Restaurant_Review-g187514-d10859423-Reviews-Batea-Madrid.html\n",
      "https://www.tripadvisor.ru/Restaurant_Review-g187514-d10859423-Reviews-La_nueva_Batea-Madrid.html\n",
      "\n",
      "https://www.tripadvisor.ru/Restaurant_Review-g186605-d6633059-Reviews-Green_Land_Cafe-Dublin_County_Dublin.html\n",
      "https://www.tripadvisor.ru/Restaurant_Review-g186605-d6633059-Reviews-Green_Land_Cafe-Dublin_County_Dublin.html\n",
      "\n",
      "https://www.tripadvisor.ru/Restaurant_Review-g187323-d10266473-Reviews-Akira_Sushi_Streetfood-Berlin.html\n",
      "https://www.tripadvisor.ru/Restaurants-g187323-Berlin.html\n",
      "\n",
      "https://www.tripadvisor.ru/Restaurant_Review-g186338-d8659568-Reviews-46_Mercy-London_England.html\n",
      "https://www.tripadvisor.ru/Restaurant_Review-g186338-d8659568-Reviews-46_Mercy-London_England.html\n",
      "\n",
      "https://www.tripadvisor.ru/Restaurant_Review-g187323-d3702312-Reviews-Albrechtshof-Berlin.html\n",
      "https://www.tripadvisor.ru/Restaurant_Review-g187323-d1037023-Reviews-Restaurant_Alvis-Berlin.html\n",
      "\n",
      "https://www.tripadvisor.ru/Restaurant_Review-g947638-d8155327-Reviews-Hong_Yun-Watermael_Boitsfort_Brussels.html\n",
      "https://www.tripadvisor.ru/Restaurant_Review-g947638-d8155327-Reviews-Hong_Yun-Watermael_Boitsfort_Brussels.html\n",
      "\n",
      "https://www.tripadvisor.ru/Restaurant_Review-g187309-d10524693-Reviews-Schmaus_Braus-Munich_Upper_Bavaria_Bavaria.html\n",
      "https://www.tripadvisor.ru/Restaurants-g187309-Munich_Upper_Bavaria_Bavaria.html\n",
      "\n",
      "https://www.tripadvisor.ru/Restaurant_Review-g187514-d10058810-Reviews-Bar_Restaurante_El_Diezy7-Madrid.html\n",
      "https://www.tripadvisor.ru/Restaurants-g187514-Madrid.html\n",
      "\n",
      "https://www.tripadvisor.ru/Restaurant_Review-g186338-d2508041-Reviews-The_Swan_Wimbledon-London_England.html\n",
      "https://www.tripadvisor.ru/Restaurant_Review-g186338-d2508041-Reviews-The_Swan_Wimbledon-London_England.html\n",
      "\n",
      "https://www.tripadvisor.ru/Restaurant_Review-g188113-d1018940-Reviews-White_Elephant-Zurich.html\n",
      "https://www.tripadvisor.ru/Restaurant_Review-g188113-d1018940-Reviews-White_Elephant-Zurich.html\n",
      "\n",
      "https://www.tripadvisor.ru/Restaurant_Review-g186338-d7617571-Reviews-Square_Pie-London_England.html\n",
      "https://www.tripadvisor.ru/Restaurant_Review-g186338-d7617571-Reviews-Square_Pie-London_England.html\n",
      "\n"
     ]
    },
    {
     "data": {
      "text/plain": [
       "0     None\n",
       "1     None\n",
       "2     None\n",
       "3     None\n",
       "4     None\n",
       "5     None\n",
       "6     None\n",
       "7     None\n",
       "8     None\n",
       "9     None\n",
       "10    None\n",
       "11    None\n",
       "12    None\n",
       "13    None\n",
       "14    None\n",
       "15    None\n",
       "16    None\n",
       "17    None\n",
       "18    None\n",
       "19    None\n",
       "20    None\n",
       "21    None\n",
       "22    None\n",
       "23    None\n",
       "24    None\n",
       "Name: URL_TA, dtype: object"
      ]
     },
     "execution_count": 25,
     "metadata": {},
     "output_type": "execute_result"
    }
   ],
   "source": [
    "df['URL_TA'].apply(parser)"
   ]
  },
  {
   "cell_type": "code",
   "execution_count": null,
   "metadata": {},
   "outputs": [],
   "source": []
  }
 ],
 "metadata": {
  "kernelspec": {
   "display_name": "Python 3",
   "language": "python",
   "name": "python3"
  },
  "language_info": {
   "codemirror_mode": {
    "name": "ipython",
    "version": 3
   },
   "file_extension": ".py",
   "mimetype": "text/x-python",
   "name": "python",
   "nbconvert_exporter": "python",
   "pygments_lexer": "ipython3",
   "version": "3.8.5"
  },
  "toc": {
   "base_numbering": 1,
   "nav_menu": {},
   "number_sections": true,
   "sideBar": true,
   "skip_h1_title": false,
   "title_cell": "Table of Contents",
   "title_sidebar": "Contents",
   "toc_cell": false,
   "toc_position": {},
   "toc_section_display": true,
   "toc_window_display": false
  }
 },
 "nbformat": 4,
 "nbformat_minor": 4
}

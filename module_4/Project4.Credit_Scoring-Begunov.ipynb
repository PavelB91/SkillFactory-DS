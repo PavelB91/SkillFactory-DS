{
 "cells": [
  {
   "cell_type": "markdown",
   "metadata": {},
   "source": [
    "# Итоговое задание по Проекту 4. Компьютер говорит \"Нет\"\n",
    "\n",
    "### В этом соревновании нам предстоит построить скоринговую модель предсказания дефолта клиентов банка \n",
    "### Задание выполнил Бегунов Павел (DST-56)"
   ]
  },
  {
   "cell_type": "markdown",
   "metadata": {},
   "source": [
    "# Импорт библиотек"
   ]
  },
  {
   "cell_type": "code",
   "execution_count": 3,
   "metadata": {
    "ExecuteTime": {
     "end_time": "2021-08-18T19:25:20.062289Z",
     "start_time": "2021-08-18T19:25:20.034304Z"
    },
    "execution": {
     "iopub.execute_input": "2021-08-18T17:17:49.766198Z",
     "iopub.status.busy": "2021-08-18T17:17:49.765890Z",
     "iopub.status.idle": "2021-08-18T17:17:50.953216Z",
     "shell.execute_reply": "2021-08-18T17:17:50.952371Z",
     "shell.execute_reply.started": "2021-08-18T17:17:49.766168Z"
    }
   },
   "outputs": [
    {
     "ename": "ModuleNotFoundError",
     "evalue": "No module named 'imblearn'",
     "output_type": "error",
     "traceback": [
      "\u001b[1;31m---------------------------------------------------------------------------\u001b[0m",
      "\u001b[1;31mModuleNotFoundError\u001b[0m                       Traceback (most recent call last)",
      "\u001b[1;32m<ipython-input-3-274168623d89>\u001b[0m in \u001b[0;36m<module>\u001b[1;34m\u001b[0m\n\u001b[0;32m      9\u001b[0m \u001b[1;32mfrom\u001b[0m \u001b[0msklearn\u001b[0m\u001b[1;33m.\u001b[0m\u001b[0mfeature_selection\u001b[0m \u001b[1;32mimport\u001b[0m \u001b[0mf_classif\u001b[0m\u001b[1;33m,\u001b[0m \u001b[0mmutual_info_classif\u001b[0m\u001b[1;33m\u001b[0m\u001b[1;33m\u001b[0m\u001b[0m\n\u001b[0;32m     10\u001b[0m \u001b[1;33m\u001b[0m\u001b[0m\n\u001b[1;32m---> 11\u001b[1;33m \u001b[1;32mfrom\u001b[0m \u001b[0mimblearn\u001b[0m\u001b[1;33m.\u001b[0m\u001b[0munder_sampling\u001b[0m \u001b[1;32mimport\u001b[0m \u001b[0mRandomUnderSampler\u001b[0m\u001b[1;33m,\u001b[0m \u001b[0mNearMiss\u001b[0m\u001b[1;33m\u001b[0m\u001b[1;33m\u001b[0m\u001b[0m\n\u001b[0m\u001b[0;32m     12\u001b[0m \u001b[1;32mfrom\u001b[0m \u001b[0mimblearn\u001b[0m\u001b[1;33m.\u001b[0m\u001b[0mover_sampling\u001b[0m \u001b[1;32mimport\u001b[0m \u001b[0mRandomOverSampler\u001b[0m\u001b[1;33m,\u001b[0m \u001b[0mSMOTE\u001b[0m\u001b[1;33m,\u001b[0m \u001b[0mADASYN\u001b[0m\u001b[1;33m\u001b[0m\u001b[1;33m\u001b[0m\u001b[0m\n\u001b[0;32m     13\u001b[0m \u001b[1;33m\u001b[0m\u001b[0m\n",
      "\u001b[1;31mModuleNotFoundError\u001b[0m: No module named 'imblearn'"
     ]
    }
   ],
   "source": [
    "import pandas as pd\n",
    "import numpy as np\n",
    "import matplotlib.pyplot as plt\n",
    "import seaborn as sns\n",
    "%matplotlib inline\n",
    "\n",
    "from sklearn.impute import SimpleImputer, MissingIndicator\n",
    "from sklearn.decomposition import PCA\n",
    "from sklearn.feature_selection import f_classif, mutual_info_classif\n",
    "\n",
    "from imblearn.under_sampling import RandomUnderSampler, NearMiss\n",
    "from imblearn.over_sampling import RandomOverSampler, SMOTE, ADASYN\n",
    "\n",
    "from sklearn.preprocessing import LabelEncoder, OneHotEncoder, StandardScaler, MinMaxScaler, RobustScaler\n",
    "from sklearn.model_selection import train_test_split, KFold, GridSearchCV\n",
    "from sklearn.linear_model import LogisticRegression\n",
    "\n",
    "from sklearn.metrics import confusion_matrix, cohen_kappa_score, f1_score, balanced_accuracy_score\n",
    "from sklearn.metrics import auc, roc_auc_score, roc_curve, recall_score, precision_score \n",
    "\n",
    "from itertools import combinations\n",
    "\n",
    "import warnings\n",
    "warnings.filterwarnings('ignore')\n",
    "\n",
    "import os\n",
    "for dirname, _, filenames in os.walk('/kaggle/input'):\n",
    "    for filename in filenames:\n",
    "        print(os.path.join(dirname, filename))"
   ]
  },
  {
   "cell_type": "code",
   "execution_count": 2,
   "metadata": {
    "execution": {
     "iopub.execute_input": "2021-08-18T17:17:50.956595Z",
     "iopub.status.busy": "2021-08-18T17:17:50.956342Z",
     "iopub.status.idle": "2021-08-18T17:17:53.245988Z",
     "shell.execute_reply": "2021-08-18T17:17:53.245137Z",
     "shell.execute_reply.started": "2021-08-18T17:17:50.956569Z"
    }
   },
   "outputs": [],
   "source": [
    "# Зафиксируем RANDOM_SEED, чтобы эксперименты были воспроизводимы:\n",
    "RANDOM_SEED = 42\n",
    "# Зафиксируем версию пакетов, чтобы эксперименты были воспроизводимы:\n",
    "!pip freeze > requirements.txt\n",
    "# Зафиксируем день начала работы над проетом:\n",
    "current_date = pd.to_datetime('11AUG2021')"
   ]
  },
  {
   "cell_type": "markdown",
   "metadata": {},
   "source": [
    " # Предобработка"
   ]
  },
  {
   "cell_type": "code",
   "execution_count": 3,
   "metadata": {
    "execution": {
     "iopub.execute_input": "2021-08-18T17:17:53.249967Z",
     "iopub.status.busy": "2021-08-18T17:17:53.249671Z",
     "iopub.status.idle": "2021-08-18T17:17:53.282070Z",
     "shell.execute_reply": "2021-08-18T17:17:53.281354Z",
     "shell.execute_reply.started": "2021-08-18T17:17:53.249938Z"
    }
   },
   "outputs": [],
   "source": [
    "def reduce_mem_usage(df, verbose=True):\n",
    "    '''\n",
    "    Function allows to reduce memory usage. \n",
    "    '''\n",
    "    numerics = ['int16', 'int32', 'int64', 'float16', 'float32', 'float64']\n",
    "    start_mem = df.memory_usage(deep=True).sum() / 1024**2\n",
    "    for column in df.columns:\n",
    "        col_type = df[column].dtypes\n",
    "        if col_type in numerics:\n",
    "            c_min = df[column].min()\n",
    "            c_max = df[column].max()\n",
    "            if str(col_type)[:3] == 'int':\n",
    "                if c_min > np.iinfo(np.int8).min and c_max < np.iinfo(np.int8).max:\n",
    "                    df[column] = df[column].astype(np.int8)\n",
    "                elif c_min > np.iinfo(np.int16).min and c_max < np.iinfo(np.int16).max:\n",
    "                    df[column] = df[column].astype(np.int16)\n",
    "                elif c_min > np.iinfo(np.int32).min and c_max < np.iinfo(np.int32).max:\n",
    "                    df[column] = df[column].astype(np.int32)\n",
    "                elif c_min > np.iinfo(np.int64).min and c_max < np.iinfo(np.int64).max:\n",
    "                    df[column] = df[column].astype(np.int64)\n",
    "            else:\n",
    "                c_prec = df[column].apply(lambda x: np.finfo(x).precision).max()\n",
    "                if c_min > np.finfo(np.float32).min and c_max < np.finfo(np.float32).max and c_prec == np.finfo(np.float32).precision:\n",
    "                    df[column] = df[column].astype(np.float32)\n",
    "                else:\n",
    "                    df[column] = df[column].astype(np.float64)\n",
    "    end_mem = df.memory_usage(deep=True).sum() / 1024**2\n",
    "    if verbose: print('Memory usage decreased to {:5.2f} Mb ({:.1f}% reduction)'.format(end_mem, 100 * (start_mem - end_mem) / start_mem))\n",
    "    return df.sample(10)\n",
    "\n",
    "\n",
    "def missing_data(df):\n",
    "    '''\n",
    "    The function displays the number and percentage of skips for each column.\n",
    "    '''\n",
    "    for column in df.columns:\n",
    "        missing = df[column].isnull().sum()\n",
    "        percent_of_missing = np.mean(df[column].isnull())\n",
    "        if missing > 0:\n",
    "            print('{} - {} value(s), {:.2f}%'.format(column,\n",
    "                                                     missing, percent_of_missing*100))\n",
    "            \n",
    "\n",
    "def duplicate_data(df):\n",
    "    '''\n",
    "    The function displays the number of duplicates for each column.\n",
    "    '''\n",
    "    if len(df) > len(df.drop_duplicates()):\n",
    "        print('Duplicates found')\n",
    "        display(df[df.duplicated()])\n",
    "    else:\n",
    "        print('Duplicates not found')\n",
    "\n",
    "\n",
    "# mode=['analysis', 'correction']        \n",
    "def IQR_outlier(df, column, verbose=True, mode='analysis'):\n",
    "    '''\n",
    "    The function displays the boundaries of the interquartile range.\n",
    "    '''\n",
    "    perc25 = np.percentile(df[column], 25, axis=0)\n",
    "    perc75 = np.percentile(df[column], 75, axis=0)\n",
    "    IQR = perc75 - perc25\n",
    "    low = perc25 - 1.5*IQR\n",
    "    high = perc75 + 1.5*IQR\n",
    "    anomaly = len(df[df[column] > high]) + \\\n",
    "        len(df[df[column] < low])\n",
    "    if verbose:\n",
    "        if mode == 'analysis':\n",
    "            print('Наименование признака: {}'.format(column))\n",
    "            print('25-й перцентиль: {},'.format(perc25)[:-1], '75-й перцентиль: {},'.format(perc75),\n",
    "                'IQR: {}, '.format(IQR), 'Границы выбросов: [{f}, {l}].'.format(f=low, l=high))\n",
    "            print('Выбросов, согласно IQR: {} | {:2.2%}'.format(\n",
    "                anomaly, anomaly/len(df)))\n",
    "        elif mode == 'correction':\n",
    "            return low, high\n",
    "\n",
    "        \n",
    "def get_log(df, column):\n",
    "    '''\n",
    "    Function for logarithm of a feature.\n",
    "    '''\n",
    "    return df[column].apply(lambda x: np.log(x + 1))\n",
    "\n",
    "\n",
    "# strategy_param=['mean', 'median', 'most_frequent', 'constant']\n",
    "def impute_column(df, column, strategy_param, fill_value_param=None):\n",
    "    '''\n",
    "    Filling in gaps in one feature.\n",
    "    '''\n",
    "    temp_data = df[[column]].values\n",
    "    size = temp_data.shape[0]\n",
    "\n",
    "    indicator = MissingIndicator()\n",
    "    mask_missing_values_only = indicator.fit_transform(temp_data)\n",
    "\n",
    "    imputer = SimpleImputer(strategy=strategy_param,\n",
    "                            fill_value=fill_value_param)\n",
    "    all_data = imputer.fit_transform(temp_data)\n",
    "    return all_data.reshape((size,))"
   ]
  },
  {
   "cell_type": "markdown",
   "metadata": {},
   "source": [
    "# Импорт данных"
   ]
  },
  {
   "cell_type": "code",
   "execution_count": 4,
   "metadata": {
    "execution": {
     "iopub.execute_input": "2021-08-18T17:17:53.283937Z",
     "iopub.status.busy": "2021-08-18T17:17:53.283583Z",
     "iopub.status.idle": "2021-08-18T17:17:53.566146Z",
     "shell.execute_reply": "2021-08-18T17:17:53.565387Z",
     "shell.execute_reply.started": "2021-08-18T17:17:53.283882Z"
    }
   },
   "outputs": [],
   "source": [
    "DATA_DIR = '/kaggle/input/sf-dst-scoring'\n",
    "# тренировочный (train, используется для обучения модели)\n",
    "train = pd.read_csv(DATA_DIR + '/train.csv')\n",
    "# тестовый (test, используется для оценки точности модели)\n",
    "test = pd.read_csv(DATA_DIR + '/test.csv')\n",
    "sample_submission = pd.read_csv(DATA_DIR + '/sample_submission.csv')"
   ]
  },
  {
   "cell_type": "code",
   "execution_count": 5,
   "metadata": {
    "execution": {
     "iopub.execute_input": "2021-08-18T17:17:53.570245Z",
     "iopub.status.busy": "2021-08-18T17:17:53.569879Z",
     "iopub.status.idle": "2021-08-18T17:17:53.614449Z",
     "shell.execute_reply": "2021-08-18T17:17:53.613628Z",
     "shell.execute_reply.started": "2021-08-18T17:17:53.570208Z"
    }
   },
   "outputs": [
    {
     "data": {
      "text/html": [
       "<div>\n",
       "<style scoped>\n",
       "    .dataframe tbody tr th:only-of-type {\n",
       "        vertical-align: middle;\n",
       "    }\n",
       "\n",
       "    .dataframe tbody tr th {\n",
       "        vertical-align: top;\n",
       "    }\n",
       "\n",
       "    .dataframe thead th {\n",
       "        text-align: right;\n",
       "    }\n",
       "</style>\n",
       "<table border=\"1\" class=\"dataframe\">\n",
       "  <thead>\n",
       "    <tr style=\"text-align: right;\">\n",
       "      <th></th>\n",
       "      <th>client_id</th>\n",
       "      <th>app_date</th>\n",
       "      <th>education</th>\n",
       "      <th>sex</th>\n",
       "      <th>age</th>\n",
       "      <th>car</th>\n",
       "      <th>car_type</th>\n",
       "      <th>decline_app_cnt</th>\n",
       "      <th>good_work</th>\n",
       "      <th>score_bki</th>\n",
       "      <th>bki_request_cnt</th>\n",
       "      <th>region_rating</th>\n",
       "      <th>home_address</th>\n",
       "      <th>work_address</th>\n",
       "      <th>income</th>\n",
       "      <th>sna</th>\n",
       "      <th>first_time</th>\n",
       "      <th>foreign_passport</th>\n",
       "      <th>default</th>\n",
       "    </tr>\n",
       "  </thead>\n",
       "  <tbody>\n",
       "    <tr>\n",
       "      <th>0</th>\n",
       "      <td>25905</td>\n",
       "      <td>01FEB2014</td>\n",
       "      <td>SCH</td>\n",
       "      <td>M</td>\n",
       "      <td>62</td>\n",
       "      <td>Y</td>\n",
       "      <td>Y</td>\n",
       "      <td>0</td>\n",
       "      <td>0</td>\n",
       "      <td>-2.008753</td>\n",
       "      <td>1</td>\n",
       "      <td>50</td>\n",
       "      <td>1</td>\n",
       "      <td>2</td>\n",
       "      <td>18000</td>\n",
       "      <td>4</td>\n",
       "      <td>1</td>\n",
       "      <td>N</td>\n",
       "      <td>0</td>\n",
       "    </tr>\n",
       "    <tr>\n",
       "      <th>1</th>\n",
       "      <td>63161</td>\n",
       "      <td>12MAR2014</td>\n",
       "      <td>SCH</td>\n",
       "      <td>F</td>\n",
       "      <td>59</td>\n",
       "      <td>N</td>\n",
       "      <td>N</td>\n",
       "      <td>0</td>\n",
       "      <td>0</td>\n",
       "      <td>-1.532276</td>\n",
       "      <td>3</td>\n",
       "      <td>50</td>\n",
       "      <td>2</td>\n",
       "      <td>3</td>\n",
       "      <td>19000</td>\n",
       "      <td>4</td>\n",
       "      <td>1</td>\n",
       "      <td>N</td>\n",
       "      <td>0</td>\n",
       "    </tr>\n",
       "    <tr>\n",
       "      <th>2</th>\n",
       "      <td>25887</td>\n",
       "      <td>01FEB2014</td>\n",
       "      <td>SCH</td>\n",
       "      <td>M</td>\n",
       "      <td>25</td>\n",
       "      <td>Y</td>\n",
       "      <td>N</td>\n",
       "      <td>2</td>\n",
       "      <td>0</td>\n",
       "      <td>-1.408142</td>\n",
       "      <td>1</td>\n",
       "      <td>80</td>\n",
       "      <td>1</td>\n",
       "      <td>2</td>\n",
       "      <td>30000</td>\n",
       "      <td>1</td>\n",
       "      <td>4</td>\n",
       "      <td>Y</td>\n",
       "      <td>0</td>\n",
       "    </tr>\n",
       "    <tr>\n",
       "      <th>3</th>\n",
       "      <td>16222</td>\n",
       "      <td>23JAN2014</td>\n",
       "      <td>SCH</td>\n",
       "      <td>F</td>\n",
       "      <td>53</td>\n",
       "      <td>N</td>\n",
       "      <td>N</td>\n",
       "      <td>0</td>\n",
       "      <td>0</td>\n",
       "      <td>-2.057471</td>\n",
       "      <td>2</td>\n",
       "      <td>50</td>\n",
       "      <td>2</td>\n",
       "      <td>3</td>\n",
       "      <td>10000</td>\n",
       "      <td>1</td>\n",
       "      <td>3</td>\n",
       "      <td>N</td>\n",
       "      <td>0</td>\n",
       "    </tr>\n",
       "    <tr>\n",
       "      <th>4</th>\n",
       "      <td>101655</td>\n",
       "      <td>18APR2014</td>\n",
       "      <td>GRD</td>\n",
       "      <td>M</td>\n",
       "      <td>48</td>\n",
       "      <td>N</td>\n",
       "      <td>N</td>\n",
       "      <td>0</td>\n",
       "      <td>1</td>\n",
       "      <td>-1.244723</td>\n",
       "      <td>1</td>\n",
       "      <td>60</td>\n",
       "      <td>2</td>\n",
       "      <td>3</td>\n",
       "      <td>30000</td>\n",
       "      <td>1</td>\n",
       "      <td>4</td>\n",
       "      <td>Y</td>\n",
       "      <td>0</td>\n",
       "    </tr>\n",
       "  </tbody>\n",
       "</table>\n",
       "</div>"
      ],
      "text/plain": [
       "   client_id   app_date education sex  age car car_type  decline_app_cnt  \\\n",
       "0      25905  01FEB2014       SCH   M   62   Y        Y                0   \n",
       "1      63161  12MAR2014       SCH   F   59   N        N                0   \n",
       "2      25887  01FEB2014       SCH   M   25   Y        N                2   \n",
       "3      16222  23JAN2014       SCH   F   53   N        N                0   \n",
       "4     101655  18APR2014       GRD   M   48   N        N                0   \n",
       "\n",
       "   good_work  score_bki  bki_request_cnt  region_rating  home_address  \\\n",
       "0          0  -2.008753                1             50             1   \n",
       "1          0  -1.532276                3             50             2   \n",
       "2          0  -1.408142                1             80             1   \n",
       "3          0  -2.057471                2             50             2   \n",
       "4          1  -1.244723                1             60             2   \n",
       "\n",
       "   work_address  income  sna  first_time foreign_passport  default  \n",
       "0             2   18000    4           1                N        0  \n",
       "1             3   19000    4           1                N        0  \n",
       "2             2   30000    1           4                Y        0  \n",
       "3             3   10000    1           3                N        0  \n",
       "4             3   30000    1           4                Y        0  "
      ]
     },
     "metadata": {},
     "output_type": "display_data"
    },
    {
     "data": {
      "text/html": [
       "<div>\n",
       "<style scoped>\n",
       "    .dataframe tbody tr th:only-of-type {\n",
       "        vertical-align: middle;\n",
       "    }\n",
       "\n",
       "    .dataframe tbody tr th {\n",
       "        vertical-align: top;\n",
       "    }\n",
       "\n",
       "    .dataframe thead th {\n",
       "        text-align: right;\n",
       "    }\n",
       "</style>\n",
       "<table border=\"1\" class=\"dataframe\">\n",
       "  <thead>\n",
       "    <tr style=\"text-align: right;\">\n",
       "      <th></th>\n",
       "      <th>client_id</th>\n",
       "      <th>app_date</th>\n",
       "      <th>education</th>\n",
       "      <th>sex</th>\n",
       "      <th>age</th>\n",
       "      <th>car</th>\n",
       "      <th>car_type</th>\n",
       "      <th>decline_app_cnt</th>\n",
       "      <th>good_work</th>\n",
       "      <th>score_bki</th>\n",
       "      <th>bki_request_cnt</th>\n",
       "      <th>region_rating</th>\n",
       "      <th>home_address</th>\n",
       "      <th>work_address</th>\n",
       "      <th>income</th>\n",
       "      <th>sna</th>\n",
       "      <th>first_time</th>\n",
       "      <th>foreign_passport</th>\n",
       "    </tr>\n",
       "  </thead>\n",
       "  <tbody>\n",
       "    <tr>\n",
       "      <th>0</th>\n",
       "      <td>74835</td>\n",
       "      <td>22MAR2014</td>\n",
       "      <td>GRD</td>\n",
       "      <td>M</td>\n",
       "      <td>29</td>\n",
       "      <td>Y</td>\n",
       "      <td>Y</td>\n",
       "      <td>0</td>\n",
       "      <td>0</td>\n",
       "      <td>-2.271884</td>\n",
       "      <td>3</td>\n",
       "      <td>50</td>\n",
       "      <td>1</td>\n",
       "      <td>2</td>\n",
       "      <td>50000</td>\n",
       "      <td>1</td>\n",
       "      <td>4</td>\n",
       "      <td>N</td>\n",
       "    </tr>\n",
       "    <tr>\n",
       "      <th>1</th>\n",
       "      <td>17527</td>\n",
       "      <td>24JAN2014</td>\n",
       "      <td>SCH</td>\n",
       "      <td>F</td>\n",
       "      <td>39</td>\n",
       "      <td>N</td>\n",
       "      <td>N</td>\n",
       "      <td>5</td>\n",
       "      <td>0</td>\n",
       "      <td>-1.504999</td>\n",
       "      <td>2</td>\n",
       "      <td>50</td>\n",
       "      <td>1</td>\n",
       "      <td>2</td>\n",
       "      <td>5000</td>\n",
       "      <td>4</td>\n",
       "      <td>3</td>\n",
       "      <td>N</td>\n",
       "    </tr>\n",
       "    <tr>\n",
       "      <th>2</th>\n",
       "      <td>75683</td>\n",
       "      <td>23MAR2014</td>\n",
       "      <td>UGR</td>\n",
       "      <td>M</td>\n",
       "      <td>50</td>\n",
       "      <td>Y</td>\n",
       "      <td>Y</td>\n",
       "      <td>0</td>\n",
       "      <td>0</td>\n",
       "      <td>-1.691339</td>\n",
       "      <td>1</td>\n",
       "      <td>50</td>\n",
       "      <td>1</td>\n",
       "      <td>2</td>\n",
       "      <td>30000</td>\n",
       "      <td>1</td>\n",
       "      <td>3</td>\n",
       "      <td>Y</td>\n",
       "    </tr>\n",
       "    <tr>\n",
       "      <th>3</th>\n",
       "      <td>26883</td>\n",
       "      <td>03FEB2014</td>\n",
       "      <td>SCH</td>\n",
       "      <td>M</td>\n",
       "      <td>56</td>\n",
       "      <td>N</td>\n",
       "      <td>N</td>\n",
       "      <td>0</td>\n",
       "      <td>0</td>\n",
       "      <td>-2.374182</td>\n",
       "      <td>1</td>\n",
       "      <td>40</td>\n",
       "      <td>1</td>\n",
       "      <td>2</td>\n",
       "      <td>17000</td>\n",
       "      <td>1</td>\n",
       "      <td>3</td>\n",
       "      <td>N</td>\n",
       "    </tr>\n",
       "    <tr>\n",
       "      <th>4</th>\n",
       "      <td>28862</td>\n",
       "      <td>04FEB2014</td>\n",
       "      <td>GRD</td>\n",
       "      <td>F</td>\n",
       "      <td>38</td>\n",
       "      <td>N</td>\n",
       "      <td>N</td>\n",
       "      <td>0</td>\n",
       "      <td>0</td>\n",
       "      <td>-2.487502</td>\n",
       "      <td>0</td>\n",
       "      <td>80</td>\n",
       "      <td>2</td>\n",
       "      <td>3</td>\n",
       "      <td>120000</td>\n",
       "      <td>1</td>\n",
       "      <td>3</td>\n",
       "      <td>N</td>\n",
       "    </tr>\n",
       "  </tbody>\n",
       "</table>\n",
       "</div>"
      ],
      "text/plain": [
       "   client_id   app_date education sex  age car car_type  decline_app_cnt  \\\n",
       "0      74835  22MAR2014       GRD   M   29   Y        Y                0   \n",
       "1      17527  24JAN2014       SCH   F   39   N        N                5   \n",
       "2      75683  23MAR2014       UGR   M   50   Y        Y                0   \n",
       "3      26883  03FEB2014       SCH   M   56   N        N                0   \n",
       "4      28862  04FEB2014       GRD   F   38   N        N                0   \n",
       "\n",
       "   good_work  score_bki  bki_request_cnt  region_rating  home_address  \\\n",
       "0          0  -2.271884                3             50             1   \n",
       "1          0  -1.504999                2             50             1   \n",
       "2          0  -1.691339                1             50             1   \n",
       "3          0  -2.374182                1             40             1   \n",
       "4          0  -2.487502                0             80             2   \n",
       "\n",
       "   work_address  income  sna  first_time foreign_passport  \n",
       "0             2   50000    1           4                N  \n",
       "1             2    5000    4           3                N  \n",
       "2             2   30000    1           3                Y  \n",
       "3             2   17000    1           3                N  \n",
       "4             3  120000    1           3                N  "
      ]
     },
     "metadata": {},
     "output_type": "display_data"
    },
    {
     "data": {
      "text/html": [
       "<div>\n",
       "<style scoped>\n",
       "    .dataframe tbody tr th:only-of-type {\n",
       "        vertical-align: middle;\n",
       "    }\n",
       "\n",
       "    .dataframe tbody tr th {\n",
       "        vertical-align: top;\n",
       "    }\n",
       "\n",
       "    .dataframe thead th {\n",
       "        text-align: right;\n",
       "    }\n",
       "</style>\n",
       "<table border=\"1\" class=\"dataframe\">\n",
       "  <thead>\n",
       "    <tr style=\"text-align: right;\">\n",
       "      <th></th>\n",
       "      <th>client_id</th>\n",
       "      <th>default</th>\n",
       "    </tr>\n",
       "  </thead>\n",
       "  <tbody>\n",
       "    <tr>\n",
       "      <th>0</th>\n",
       "      <td>66799</td>\n",
       "      <td>0.441004</td>\n",
       "    </tr>\n",
       "    <tr>\n",
       "      <th>1</th>\n",
       "      <td>25379</td>\n",
       "      <td>0.138092</td>\n",
       "    </tr>\n",
       "    <tr>\n",
       "      <th>2</th>\n",
       "      <td>28825</td>\n",
       "      <td>0.373370</td>\n",
       "    </tr>\n",
       "    <tr>\n",
       "      <th>3</th>\n",
       "      <td>37530</td>\n",
       "      <td>0.476501</td>\n",
       "    </tr>\n",
       "    <tr>\n",
       "      <th>4</th>\n",
       "      <td>4264</td>\n",
       "      <td>0.304640</td>\n",
       "    </tr>\n",
       "  </tbody>\n",
       "</table>\n",
       "</div>"
      ],
      "text/plain": [
       "   client_id   default\n",
       "0      66799  0.441004\n",
       "1      25379  0.138092\n",
       "2      28825  0.373370\n",
       "3      37530  0.476501\n",
       "4       4264  0.304640"
      ]
     },
     "metadata": {},
     "output_type": "display_data"
    }
   ],
   "source": [
    "display(train.head())\n",
    "display(test.head())\n",
    "display(sample_submission.head())"
   ]
  },
  {
   "cell_type": "code",
   "execution_count": 6,
   "metadata": {
    "execution": {
     "iopub.execute_input": "2021-08-18T17:17:53.617867Z",
     "iopub.status.busy": "2021-08-18T17:17:53.617497Z",
     "iopub.status.idle": "2021-08-18T17:17:53.690452Z",
     "shell.execute_reply": "2021-08-18T17:17:53.689699Z",
     "shell.execute_reply.started": "2021-08-18T17:17:53.617829Z"
    }
   },
   "outputs": [],
   "source": [
    "# Для корректной обработки признаков объединяем тренировочные и тестовые данные в один датасет\n",
    "train['sample'] = 1 # помечаем где тренировочные данные\n",
    "test['sample'] = 0 # помечаем где тестовые данные\n",
    "test['default'] = 0 # в тестовых данных нет значения дефолта, мы его должны предсказать, поэтому пока просто заполняем нулями\n",
    "df = test.append(train, sort=False).reset_index(drop=True) # объединение"
   ]
  },
  {
   "cell_type": "code",
   "execution_count": 7,
   "metadata": {
    "execution": {
     "iopub.execute_input": "2021-08-18T17:17:53.692446Z",
     "iopub.status.busy": "2021-08-18T17:17:53.692047Z",
     "iopub.status.idle": "2021-08-18T17:17:58.166477Z",
     "shell.execute_reply": "2021-08-18T17:17:58.164929Z",
     "shell.execute_reply.started": "2021-08-18T17:17:53.692408Z"
    }
   },
   "outputs": [
    {
     "name": "stdout",
     "output_type": "stream",
     "text": [
      "Memory usage decreased to 43.79 Mb (16.9% reduction)\n"
     ]
    },
    {
     "data": {
      "text/html": [
       "<div>\n",
       "<style scoped>\n",
       "    .dataframe tbody tr th:only-of-type {\n",
       "        vertical-align: middle;\n",
       "    }\n",
       "\n",
       "    .dataframe tbody tr th {\n",
       "        vertical-align: top;\n",
       "    }\n",
       "\n",
       "    .dataframe thead th {\n",
       "        text-align: right;\n",
       "    }\n",
       "</style>\n",
       "<table border=\"1\" class=\"dataframe\">\n",
       "  <thead>\n",
       "    <tr style=\"text-align: right;\">\n",
       "      <th></th>\n",
       "      <th>client_id</th>\n",
       "      <th>app_date</th>\n",
       "      <th>education</th>\n",
       "      <th>sex</th>\n",
       "      <th>age</th>\n",
       "      <th>car</th>\n",
       "      <th>car_type</th>\n",
       "      <th>decline_app_cnt</th>\n",
       "      <th>good_work</th>\n",
       "      <th>score_bki</th>\n",
       "      <th>bki_request_cnt</th>\n",
       "      <th>region_rating</th>\n",
       "      <th>home_address</th>\n",
       "      <th>work_address</th>\n",
       "      <th>income</th>\n",
       "      <th>sna</th>\n",
       "      <th>first_time</th>\n",
       "      <th>foreign_passport</th>\n",
       "      <th>sample</th>\n",
       "      <th>default</th>\n",
       "    </tr>\n",
       "  </thead>\n",
       "  <tbody>\n",
       "    <tr>\n",
       "      <th>96128</th>\n",
       "      <td>85783</td>\n",
       "      <td>02APR2014</td>\n",
       "      <td>GRD</td>\n",
       "      <td>F</td>\n",
       "      <td>50</td>\n",
       "      <td>Y</td>\n",
       "      <td>N</td>\n",
       "      <td>0</td>\n",
       "      <td>0</td>\n",
       "      <td>-2.289465</td>\n",
       "      <td>0</td>\n",
       "      <td>50</td>\n",
       "      <td>1</td>\n",
       "      <td>3</td>\n",
       "      <td>30000</td>\n",
       "      <td>1</td>\n",
       "      <td>2</td>\n",
       "      <td>N</td>\n",
       "      <td>1</td>\n",
       "      <td>0</td>\n",
       "    </tr>\n",
       "    <tr>\n",
       "      <th>70039</th>\n",
       "      <td>105947</td>\n",
       "      <td>24APR2014</td>\n",
       "      <td>GRD</td>\n",
       "      <td>M</td>\n",
       "      <td>28</td>\n",
       "      <td>N</td>\n",
       "      <td>N</td>\n",
       "      <td>3</td>\n",
       "      <td>0</td>\n",
       "      <td>-1.578396</td>\n",
       "      <td>3</td>\n",
       "      <td>50</td>\n",
       "      <td>2</td>\n",
       "      <td>3</td>\n",
       "      <td>50000</td>\n",
       "      <td>1</td>\n",
       "      <td>3</td>\n",
       "      <td>N</td>\n",
       "      <td>1</td>\n",
       "      <td>0</td>\n",
       "    </tr>\n",
       "    <tr>\n",
       "      <th>92737</th>\n",
       "      <td>34470</td>\n",
       "      <td>11FEB2014</td>\n",
       "      <td>GRD</td>\n",
       "      <td>F</td>\n",
       "      <td>33</td>\n",
       "      <td>N</td>\n",
       "      <td>N</td>\n",
       "      <td>0</td>\n",
       "      <td>0</td>\n",
       "      <td>-2.318791</td>\n",
       "      <td>2</td>\n",
       "      <td>50</td>\n",
       "      <td>1</td>\n",
       "      <td>1</td>\n",
       "      <td>30000</td>\n",
       "      <td>4</td>\n",
       "      <td>3</td>\n",
       "      <td>N</td>\n",
       "      <td>1</td>\n",
       "      <td>0</td>\n",
       "    </tr>\n",
       "    <tr>\n",
       "      <th>105018</th>\n",
       "      <td>86347</td>\n",
       "      <td>02APR2014</td>\n",
       "      <td>SCH</td>\n",
       "      <td>M</td>\n",
       "      <td>47</td>\n",
       "      <td>N</td>\n",
       "      <td>N</td>\n",
       "      <td>0</td>\n",
       "      <td>0</td>\n",
       "      <td>-2.474897</td>\n",
       "      <td>0</td>\n",
       "      <td>50</td>\n",
       "      <td>2</td>\n",
       "      <td>3</td>\n",
       "      <td>32000</td>\n",
       "      <td>2</td>\n",
       "      <td>3</td>\n",
       "      <td>N</td>\n",
       "      <td>1</td>\n",
       "      <td>1</td>\n",
       "    </tr>\n",
       "    <tr>\n",
       "      <th>22600</th>\n",
       "      <td>74345</td>\n",
       "      <td>21MAR2014</td>\n",
       "      <td>SCH</td>\n",
       "      <td>F</td>\n",
       "      <td>37</td>\n",
       "      <td>N</td>\n",
       "      <td>N</td>\n",
       "      <td>0</td>\n",
       "      <td>0</td>\n",
       "      <td>-0.764839</td>\n",
       "      <td>6</td>\n",
       "      <td>40</td>\n",
       "      <td>1</td>\n",
       "      <td>2</td>\n",
       "      <td>20000</td>\n",
       "      <td>1</td>\n",
       "      <td>4</td>\n",
       "      <td>N</td>\n",
       "      <td>0</td>\n",
       "      <td>0</td>\n",
       "    </tr>\n",
       "    <tr>\n",
       "      <th>22707</th>\n",
       "      <td>20154</td>\n",
       "      <td>27JAN2014</td>\n",
       "      <td>SCH</td>\n",
       "      <td>M</td>\n",
       "      <td>45</td>\n",
       "      <td>Y</td>\n",
       "      <td>N</td>\n",
       "      <td>0</td>\n",
       "      <td>0</td>\n",
       "      <td>-1.695450</td>\n",
       "      <td>1</td>\n",
       "      <td>80</td>\n",
       "      <td>2</td>\n",
       "      <td>3</td>\n",
       "      <td>50000</td>\n",
       "      <td>1</td>\n",
       "      <td>4</td>\n",
       "      <td>N</td>\n",
       "      <td>0</td>\n",
       "      <td>0</td>\n",
       "    </tr>\n",
       "    <tr>\n",
       "      <th>83212</th>\n",
       "      <td>37270</td>\n",
       "      <td>13FEB2014</td>\n",
       "      <td>GRD</td>\n",
       "      <td>F</td>\n",
       "      <td>45</td>\n",
       "      <td>N</td>\n",
       "      <td>N</td>\n",
       "      <td>0</td>\n",
       "      <td>1</td>\n",
       "      <td>-1.542921</td>\n",
       "      <td>2</td>\n",
       "      <td>50</td>\n",
       "      <td>1</td>\n",
       "      <td>2</td>\n",
       "      <td>31000</td>\n",
       "      <td>1</td>\n",
       "      <td>4</td>\n",
       "      <td>N</td>\n",
       "      <td>1</td>\n",
       "      <td>0</td>\n",
       "    </tr>\n",
       "    <tr>\n",
       "      <th>16481</th>\n",
       "      <td>104710</td>\n",
       "      <td>23APR2014</td>\n",
       "      <td>GRD</td>\n",
       "      <td>F</td>\n",
       "      <td>54</td>\n",
       "      <td>Y</td>\n",
       "      <td>Y</td>\n",
       "      <td>0</td>\n",
       "      <td>1</td>\n",
       "      <td>-1.676741</td>\n",
       "      <td>4</td>\n",
       "      <td>60</td>\n",
       "      <td>2</td>\n",
       "      <td>3</td>\n",
       "      <td>180000</td>\n",
       "      <td>1</td>\n",
       "      <td>4</td>\n",
       "      <td>N</td>\n",
       "      <td>0</td>\n",
       "      <td>0</td>\n",
       "    </tr>\n",
       "    <tr>\n",
       "      <th>24452</th>\n",
       "      <td>94118</td>\n",
       "      <td>10APR2014</td>\n",
       "      <td>SCH</td>\n",
       "      <td>F</td>\n",
       "      <td>50</td>\n",
       "      <td>N</td>\n",
       "      <td>N</td>\n",
       "      <td>0</td>\n",
       "      <td>0</td>\n",
       "      <td>-2.123727</td>\n",
       "      <td>4</td>\n",
       "      <td>60</td>\n",
       "      <td>1</td>\n",
       "      <td>2</td>\n",
       "      <td>60000</td>\n",
       "      <td>1</td>\n",
       "      <td>4</td>\n",
       "      <td>N</td>\n",
       "      <td>0</td>\n",
       "      <td>0</td>\n",
       "    </tr>\n",
       "    <tr>\n",
       "      <th>71287</th>\n",
       "      <td>35402</td>\n",
       "      <td>11FEB2014</td>\n",
       "      <td>PGR</td>\n",
       "      <td>M</td>\n",
       "      <td>41</td>\n",
       "      <td>Y</td>\n",
       "      <td>N</td>\n",
       "      <td>0</td>\n",
       "      <td>0</td>\n",
       "      <td>-1.003021</td>\n",
       "      <td>2</td>\n",
       "      <td>50</td>\n",
       "      <td>1</td>\n",
       "      <td>2</td>\n",
       "      <td>25000</td>\n",
       "      <td>4</td>\n",
       "      <td>1</td>\n",
       "      <td>N</td>\n",
       "      <td>1</td>\n",
       "      <td>1</td>\n",
       "    </tr>\n",
       "  </tbody>\n",
       "</table>\n",
       "</div>"
      ],
      "text/plain": [
       "        client_id   app_date education sex  age car car_type  decline_app_cnt  \\\n",
       "96128       85783  02APR2014       GRD   F   50   Y        N                0   \n",
       "70039      105947  24APR2014       GRD   M   28   N        N                3   \n",
       "92737       34470  11FEB2014       GRD   F   33   N        N                0   \n",
       "105018      86347  02APR2014       SCH   M   47   N        N                0   \n",
       "22600       74345  21MAR2014       SCH   F   37   N        N                0   \n",
       "22707       20154  27JAN2014       SCH   M   45   Y        N                0   \n",
       "83212       37270  13FEB2014       GRD   F   45   N        N                0   \n",
       "16481      104710  23APR2014       GRD   F   54   Y        Y                0   \n",
       "24452       94118  10APR2014       SCH   F   50   N        N                0   \n",
       "71287       35402  11FEB2014       PGR   M   41   Y        N                0   \n",
       "\n",
       "        good_work  score_bki  bki_request_cnt  region_rating  home_address  \\\n",
       "96128           0  -2.289465                0             50             1   \n",
       "70039           0  -1.578396                3             50             2   \n",
       "92737           0  -2.318791                2             50             1   \n",
       "105018          0  -2.474897                0             50             2   \n",
       "22600           0  -0.764839                6             40             1   \n",
       "22707           0  -1.695450                1             80             2   \n",
       "83212           1  -1.542921                2             50             1   \n",
       "16481           1  -1.676741                4             60             2   \n",
       "24452           0  -2.123727                4             60             1   \n",
       "71287           0  -1.003021                2             50             1   \n",
       "\n",
       "        work_address  income  sna  first_time foreign_passport  sample  \\\n",
       "96128              3   30000    1           2                N       1   \n",
       "70039              3   50000    1           3                N       1   \n",
       "92737              1   30000    4           3                N       1   \n",
       "105018             3   32000    2           3                N       1   \n",
       "22600              2   20000    1           4                N       0   \n",
       "22707              3   50000    1           4                N       0   \n",
       "83212              2   31000    1           4                N       1   \n",
       "16481              3  180000    1           4                N       0   \n",
       "24452              2   60000    1           4                N       0   \n",
       "71287              2   25000    4           1                N       1   \n",
       "\n",
       "        default  \n",
       "96128         0  \n",
       "70039         0  \n",
       "92737         0  \n",
       "105018        1  \n",
       "22600         0  \n",
       "22707         0  \n",
       "83212         0  \n",
       "16481         0  \n",
       "24452         0  \n",
       "71287         1  "
      ]
     },
     "execution_count": 7,
     "metadata": {},
     "output_type": "execute_result"
    }
   ],
   "source": [
    "# Оптимизируем затраты используемой памяти:\n",
    "reduce_mem_usage(df)"
   ]
  },
  {
   "cell_type": "markdown",
   "metadata": {},
   "source": [
    "# Обзор данных"
   ]
  },
  {
   "cell_type": "markdown",
   "metadata": {},
   "source": [
    "### Первоначальная версия датасета состоит из девятнадцати столбцов, содержащих следующую информацию:\n",
    "* client_id: идентификатор клиента;\n",
    "* education: уровень образования; \n",
    "* sex: пол заёмщика;\n",
    "* age: возраст заёмщика;\n",
    "* car: флаг наличия автомобиля;\n",
    "* car_type: флаг автомобиля-иномарки;\n",
    "* decline_app_cnt: количесвто отказанных прошлых заявок;\n",
    "* good_work: флаг наличия \"хорошей\" работы; \n",
    "* bki_request_cnt: количество запросов в БКИ(Бюро кредитных историй);\n",
    "* home_adress: категоризатор домашнего адреса;\n",
    "* work_adress: категоризатор рабочего адреса;\n",
    "* income: доход заёмщика;\n",
    "* foreign_passport: наличие загранпаспорта;\n",
    "* sna - связь заемщика с клиентами банка;\n",
    "* first_time - давность наличия информации о заемщике;\n",
    "* score_bki - скоринговый балл по данным из БКИ;\n",
    "* region_rating - рейтинг региона;\n",
    "* app_date - дата подачи заявки;\n",
    "* default: наличие дефолта;"
   ]
  },
  {
   "cell_type": "code",
   "execution_count": 8,
   "metadata": {
    "execution": {
     "iopub.execute_input": "2021-08-18T17:17:58.168159Z",
     "iopub.status.busy": "2021-08-18T17:17:58.167818Z",
     "iopub.status.idle": "2021-08-18T17:17:58.186768Z",
     "shell.execute_reply": "2021-08-18T17:17:58.185582Z",
     "shell.execute_reply.started": "2021-08-18T17:17:58.168122Z"
    }
   },
   "outputs": [
    {
     "data": {
      "text/html": [
       "<div>\n",
       "<style scoped>\n",
       "    .dataframe tbody tr th:only-of-type {\n",
       "        vertical-align: middle;\n",
       "    }\n",
       "\n",
       "    .dataframe tbody tr th {\n",
       "        vertical-align: top;\n",
       "    }\n",
       "\n",
       "    .dataframe thead th {\n",
       "        text-align: right;\n",
       "    }\n",
       "</style>\n",
       "<table border=\"1\" class=\"dataframe\">\n",
       "  <thead>\n",
       "    <tr style=\"text-align: right;\">\n",
       "      <th></th>\n",
       "      <th>client_id</th>\n",
       "      <th>app_date</th>\n",
       "      <th>education</th>\n",
       "      <th>sex</th>\n",
       "      <th>age</th>\n",
       "      <th>car</th>\n",
       "      <th>car_type</th>\n",
       "      <th>decline_app_cnt</th>\n",
       "      <th>good_work</th>\n",
       "      <th>score_bki</th>\n",
       "      <th>bki_request_cnt</th>\n",
       "      <th>region_rating</th>\n",
       "      <th>home_address</th>\n",
       "      <th>work_address</th>\n",
       "      <th>income</th>\n",
       "      <th>sna</th>\n",
       "      <th>first_time</th>\n",
       "      <th>foreign_passport</th>\n",
       "      <th>sample</th>\n",
       "      <th>default</th>\n",
       "    </tr>\n",
       "  </thead>\n",
       "  <tbody>\n",
       "    <tr>\n",
       "      <th>0</th>\n",
       "      <td>74835</td>\n",
       "      <td>22MAR2014</td>\n",
       "      <td>GRD</td>\n",
       "      <td>M</td>\n",
       "      <td>29</td>\n",
       "      <td>Y</td>\n",
       "      <td>Y</td>\n",
       "      <td>0</td>\n",
       "      <td>0</td>\n",
       "      <td>-2.271884</td>\n",
       "      <td>3</td>\n",
       "      <td>50</td>\n",
       "      <td>1</td>\n",
       "      <td>2</td>\n",
       "      <td>50000</td>\n",
       "      <td>1</td>\n",
       "      <td>4</td>\n",
       "      <td>N</td>\n",
       "      <td>0</td>\n",
       "      <td>0</td>\n",
       "    </tr>\n",
       "    <tr>\n",
       "      <th>1</th>\n",
       "      <td>17527</td>\n",
       "      <td>24JAN2014</td>\n",
       "      <td>SCH</td>\n",
       "      <td>F</td>\n",
       "      <td>39</td>\n",
       "      <td>N</td>\n",
       "      <td>N</td>\n",
       "      <td>5</td>\n",
       "      <td>0</td>\n",
       "      <td>-1.504999</td>\n",
       "      <td>2</td>\n",
       "      <td>50</td>\n",
       "      <td>1</td>\n",
       "      <td>2</td>\n",
       "      <td>5000</td>\n",
       "      <td>4</td>\n",
       "      <td>3</td>\n",
       "      <td>N</td>\n",
       "      <td>0</td>\n",
       "      <td>0</td>\n",
       "    </tr>\n",
       "    <tr>\n",
       "      <th>2</th>\n",
       "      <td>75683</td>\n",
       "      <td>23MAR2014</td>\n",
       "      <td>UGR</td>\n",
       "      <td>M</td>\n",
       "      <td>50</td>\n",
       "      <td>Y</td>\n",
       "      <td>Y</td>\n",
       "      <td>0</td>\n",
       "      <td>0</td>\n",
       "      <td>-1.691339</td>\n",
       "      <td>1</td>\n",
       "      <td>50</td>\n",
       "      <td>1</td>\n",
       "      <td>2</td>\n",
       "      <td>30000</td>\n",
       "      <td>1</td>\n",
       "      <td>3</td>\n",
       "      <td>Y</td>\n",
       "      <td>0</td>\n",
       "      <td>0</td>\n",
       "    </tr>\n",
       "    <tr>\n",
       "      <th>3</th>\n",
       "      <td>26883</td>\n",
       "      <td>03FEB2014</td>\n",
       "      <td>SCH</td>\n",
       "      <td>M</td>\n",
       "      <td>56</td>\n",
       "      <td>N</td>\n",
       "      <td>N</td>\n",
       "      <td>0</td>\n",
       "      <td>0</td>\n",
       "      <td>-2.374182</td>\n",
       "      <td>1</td>\n",
       "      <td>40</td>\n",
       "      <td>1</td>\n",
       "      <td>2</td>\n",
       "      <td>17000</td>\n",
       "      <td>1</td>\n",
       "      <td>3</td>\n",
       "      <td>N</td>\n",
       "      <td>0</td>\n",
       "      <td>0</td>\n",
       "    </tr>\n",
       "    <tr>\n",
       "      <th>4</th>\n",
       "      <td>28862</td>\n",
       "      <td>04FEB2014</td>\n",
       "      <td>GRD</td>\n",
       "      <td>F</td>\n",
       "      <td>38</td>\n",
       "      <td>N</td>\n",
       "      <td>N</td>\n",
       "      <td>0</td>\n",
       "      <td>0</td>\n",
       "      <td>-2.487502</td>\n",
       "      <td>0</td>\n",
       "      <td>80</td>\n",
       "      <td>2</td>\n",
       "      <td>3</td>\n",
       "      <td>120000</td>\n",
       "      <td>1</td>\n",
       "      <td>3</td>\n",
       "      <td>N</td>\n",
       "      <td>0</td>\n",
       "      <td>0</td>\n",
       "    </tr>\n",
       "  </tbody>\n",
       "</table>\n",
       "</div>"
      ],
      "text/plain": [
       "   client_id   app_date education sex  age car car_type  decline_app_cnt  \\\n",
       "0      74835  22MAR2014       GRD   M   29   Y        Y                0   \n",
       "1      17527  24JAN2014       SCH   F   39   N        N                5   \n",
       "2      75683  23MAR2014       UGR   M   50   Y        Y                0   \n",
       "3      26883  03FEB2014       SCH   M   56   N        N                0   \n",
       "4      28862  04FEB2014       GRD   F   38   N        N                0   \n",
       "\n",
       "   good_work  score_bki  bki_request_cnt  region_rating  home_address  \\\n",
       "0          0  -2.271884                3             50             1   \n",
       "1          0  -1.504999                2             50             1   \n",
       "2          0  -1.691339                1             50             1   \n",
       "3          0  -2.374182                1             40             1   \n",
       "4          0  -2.487502                0             80             2   \n",
       "\n",
       "   work_address  income  sna  first_time foreign_passport  sample  default  \n",
       "0             2   50000    1           4                N       0        0  \n",
       "1             2    5000    4           3                N       0        0  \n",
       "2             2   30000    1           3                Y       0        0  \n",
       "3             2   17000    1           3                N       0        0  \n",
       "4             3  120000    1           3                N       0        0  "
      ]
     },
     "execution_count": 8,
     "metadata": {},
     "output_type": "execute_result"
    }
   ],
   "source": [
    "df.head()"
   ]
  },
  {
   "cell_type": "code",
   "execution_count": 9,
   "metadata": {
    "execution": {
     "iopub.execute_input": "2021-08-18T17:17:58.188947Z",
     "iopub.status.busy": "2021-08-18T17:17:58.188398Z",
     "iopub.status.idle": "2021-08-18T17:17:58.269944Z",
     "shell.execute_reply": "2021-08-18T17:17:58.269046Z",
     "shell.execute_reply.started": "2021-08-18T17:17:58.188909Z"
    }
   },
   "outputs": [
    {
     "name": "stdout",
     "output_type": "stream",
     "text": [
      "<class 'pandas.core.frame.DataFrame'>\n",
      "Int64Index: 73799 entries, 36349 to 110147\n",
      "Data columns (total 20 columns):\n",
      " #   Column            Non-Null Count  Dtype  \n",
      "---  ------            --------------  -----  \n",
      " 0   client_id         73799 non-null  int32  \n",
      " 1   app_date          73799 non-null  object \n",
      " 2   education         73492 non-null  object \n",
      " 3   sex               73799 non-null  object \n",
      " 4   age               73799 non-null  int8   \n",
      " 5   car               73799 non-null  object \n",
      " 6   car_type          73799 non-null  object \n",
      " 7   decline_app_cnt   73799 non-null  int8   \n",
      " 8   good_work         73799 non-null  int8   \n",
      " 9   score_bki         73799 non-null  float64\n",
      " 10  bki_request_cnt   73799 non-null  int8   \n",
      " 11  region_rating     73799 non-null  int8   \n",
      " 12  home_address      73799 non-null  int8   \n",
      " 13  work_address      73799 non-null  int8   \n",
      " 14  income            73799 non-null  int32  \n",
      " 15  sna               73799 non-null  int8   \n",
      " 16  first_time        73799 non-null  int8   \n",
      " 17  foreign_passport  73799 non-null  object \n",
      " 18  sample            73799 non-null  int8   \n",
      " 19  default           73799 non-null  int8   \n",
      "dtypes: float64(1), int32(2), int8(11), object(6)\n",
      "memory usage: 5.8+ MB\n"
     ]
    }
   ],
   "source": [
    "df.query('sample == 1').info()"
   ]
  },
  {
   "cell_type": "code",
   "execution_count": 10,
   "metadata": {
    "execution": {
     "iopub.execute_input": "2021-08-18T17:17:58.271530Z",
     "iopub.status.busy": "2021-08-18T17:17:58.271175Z",
     "iopub.status.idle": "2021-08-18T17:17:58.310543Z",
     "shell.execute_reply": "2021-08-18T17:17:58.309674Z",
     "shell.execute_reply.started": "2021-08-18T17:17:58.271501Z"
    }
   },
   "outputs": [
    {
     "name": "stdout",
     "output_type": "stream",
     "text": [
      "<class 'pandas.core.frame.DataFrame'>\n",
      "Int64Index: 36349 entries, 0 to 36348\n",
      "Data columns (total 20 columns):\n",
      " #   Column            Non-Null Count  Dtype  \n",
      "---  ------            --------------  -----  \n",
      " 0   client_id         36349 non-null  int32  \n",
      " 1   app_date          36349 non-null  object \n",
      " 2   education         36178 non-null  object \n",
      " 3   sex               36349 non-null  object \n",
      " 4   age               36349 non-null  int8   \n",
      " 5   car               36349 non-null  object \n",
      " 6   car_type          36349 non-null  object \n",
      " 7   decline_app_cnt   36349 non-null  int8   \n",
      " 8   good_work         36349 non-null  int8   \n",
      " 9   score_bki         36349 non-null  float64\n",
      " 10  bki_request_cnt   36349 non-null  int8   \n",
      " 11  region_rating     36349 non-null  int8   \n",
      " 12  home_address      36349 non-null  int8   \n",
      " 13  work_address      36349 non-null  int8   \n",
      " 14  income            36349 non-null  int32  \n",
      " 15  sna               36349 non-null  int8   \n",
      " 16  first_time        36349 non-null  int8   \n",
      " 17  foreign_passport  36349 non-null  object \n",
      " 18  sample            36349 non-null  int8   \n",
      " 19  default           36349 non-null  int8   \n",
      "dtypes: float64(1), int32(2), int8(11), object(6)\n",
      "memory usage: 2.9+ MB\n"
     ]
    }
   ],
   "source": [
    "df.query('sample == 0').info()"
   ]
  },
  {
   "cell_type": "code",
   "execution_count": 11,
   "metadata": {
    "execution": {
     "iopub.execute_input": "2021-08-18T17:17:58.312248Z",
     "iopub.status.busy": "2021-08-18T17:17:58.311890Z",
     "iopub.status.idle": "2021-08-18T17:17:58.383710Z",
     "shell.execute_reply": "2021-08-18T17:17:58.383028Z",
     "shell.execute_reply.started": "2021-08-18T17:17:58.312210Z"
    }
   },
   "outputs": [
    {
     "name": "stdout",
     "output_type": "stream",
     "text": [
      "<class 'pandas.core.frame.DataFrame'>\n",
      "RangeIndex: 110148 entries, 0 to 110147\n",
      "Data columns (total 20 columns):\n",
      " #   Column            Non-Null Count   Dtype  \n",
      "---  ------            --------------   -----  \n",
      " 0   client_id         110148 non-null  int32  \n",
      " 1   app_date          110148 non-null  object \n",
      " 2   education         109670 non-null  object \n",
      " 3   sex               110148 non-null  object \n",
      " 4   age               110148 non-null  int8   \n",
      " 5   car               110148 non-null  object \n",
      " 6   car_type          110148 non-null  object \n",
      " 7   decline_app_cnt   110148 non-null  int8   \n",
      " 8   good_work         110148 non-null  int8   \n",
      " 9   score_bki         110148 non-null  float64\n",
      " 10  bki_request_cnt   110148 non-null  int8   \n",
      " 11  region_rating     110148 non-null  int8   \n",
      " 12  home_address      110148 non-null  int8   \n",
      " 13  work_address      110148 non-null  int8   \n",
      " 14  income            110148 non-null  int32  \n",
      " 15  sna               110148 non-null  int8   \n",
      " 16  first_time        110148 non-null  int8   \n",
      " 17  foreign_passport  110148 non-null  object \n",
      " 18  sample            110148 non-null  int8   \n",
      " 19  default           110148 non-null  int8   \n",
      "dtypes: float64(1), int32(2), int8(11), object(6)\n",
      "memory usage: 7.9+ MB\n"
     ]
    }
   ],
   "source": [
    "df.info()"
   ]
  },
  {
   "cell_type": "code",
   "execution_count": 12,
   "metadata": {
    "execution": {
     "iopub.execute_input": "2021-08-18T17:17:58.385298Z",
     "iopub.status.busy": "2021-08-18T17:17:58.384946Z",
     "iopub.status.idle": "2021-08-18T17:17:58.517025Z",
     "shell.execute_reply": "2021-08-18T17:17:58.516375Z",
     "shell.execute_reply.started": "2021-08-18T17:17:58.385251Z"
    }
   },
   "outputs": [
    {
     "name": "stdout",
     "output_type": "stream",
     "text": [
      "education - 478 value(s), 0.43%\n"
     ]
    }
   ],
   "source": [
    "# Проверим данные на наличие пропусков:\n",
    "missing_data(df)"
   ]
  },
  {
   "cell_type": "code",
   "execution_count": 13,
   "metadata": {
    "execution": {
     "iopub.execute_input": "2021-08-18T17:17:58.518625Z",
     "iopub.status.busy": "2021-08-18T17:17:58.518261Z",
     "iopub.status.idle": "2021-08-18T17:17:58.610310Z",
     "shell.execute_reply": "2021-08-18T17:17:58.609417Z",
     "shell.execute_reply.started": "2021-08-18T17:17:58.518585Z"
    }
   },
   "outputs": [
    {
     "name": "stdout",
     "output_type": "stream",
     "text": [
      "Duplicates not found\n"
     ]
    }
   ],
   "source": [
    "#Проверим данные на наличие дубликатов:\n",
    "duplicate_data(df)"
   ]
  },
  {
   "cell_type": "code",
   "execution_count": 14,
   "metadata": {
    "execution": {
     "iopub.execute_input": "2021-08-18T17:17:58.612262Z",
     "iopub.status.busy": "2021-08-18T17:17:58.611626Z",
     "iopub.status.idle": "2021-08-18T17:17:59.003211Z",
     "shell.execute_reply": "2021-08-18T17:17:59.002115Z",
     "shell.execute_reply.started": "2021-08-18T17:17:58.612220Z"
    }
   },
   "outputs": [
    {
     "data": {
      "text/plain": [
       "client_id           110148\n",
       "app_date               120\n",
       "education                6\n",
       "sex                      2\n",
       "age                     52\n",
       "car                      2\n",
       "car_type                 2\n",
       "decline_app_cnt         24\n",
       "good_work                2\n",
       "score_bki           102618\n",
       "bki_request_cnt         40\n",
       "region_rating            7\n",
       "home_address             3\n",
       "work_address             3\n",
       "income                1207\n",
       "sna                      4\n",
       "first_time               4\n",
       "foreign_passport         2\n",
       "sample                   2\n",
       "default                  2\n",
       "dtype: int64"
      ]
     },
     "execution_count": 14,
     "metadata": {},
     "output_type": "execute_result"
    }
   ],
   "source": [
    "# Посмотрим какие типы признаков у нас могут быть:\n",
    "df.nunique(dropna=False)"
   ]
  },
  {
   "cell_type": "code",
   "execution_count": 15,
   "metadata": {
    "execution": {
     "iopub.execute_input": "2021-08-18T17:17:59.005154Z",
     "iopub.status.busy": "2021-08-18T17:17:59.004769Z",
     "iopub.status.idle": "2021-08-18T17:17:59.168725Z",
     "shell.execute_reply": "2021-08-18T17:17:59.168032Z",
     "shell.execute_reply.started": "2021-08-18T17:17:59.005115Z"
    }
   },
   "outputs": [
    {
     "data": {
      "text/plain": [
       "0    87.300641\n",
       "1    12.699359\n",
       "Name: default, dtype: float64"
      ]
     },
     "metadata": {},
     "output_type": "display_data"
    },
    {
     "data": {
      "image/png": "[encoded data removed]",
      "text/plain": [
       "<Figure size 576x360 with 1 Axes>"
      ]
     },
     "metadata": {
      "needs_background": "light"
     },
     "output_type": "display_data"
    }
   ],
   "source": [
    "# Посмотрим на распределение значений целевого признака:\n",
    "fig = plt.subplots(figsize=(8, 5)) \n",
    "display(df.query('sample == 1')['default'].value_counts(normalize=True)*100)\n",
    "sns.countplot(x=df.query('sample == 1')['default']);"
   ]
  },
  {
   "cell_type": "markdown",
   "metadata": {},
   "source": [
    "**Резюме:** \n",
    "* в данных представлено **19** признаков (20-й sample мы не считаем, так как он был искусствено создан для удобства разделения обучающей и тестовой выборки)\n",
    "* в объединенном датасете **110148** наблюдений\n",
    "* дубликаты отсутствуют\n",
    "* имеются пропуски только в 1 признаке - **education**\n",
    "* признак **default**. Целевая переменная. Распределение - **87.3% / 12.7%**. Пропорция **1:6.87**. В целом, большая диспропорция считается при распределении классов 1:10. Однако, все-таки, присутствует достаточно серьезная несбалансированность классов. Поэтому далее можно будет попробовать применить методы oversampling (используя алгоритм синтетического oversampling SMOTE) и undersampling. Можно попробовать разные варианты комбинаций и оценить результаты преобразований."
   ]
  },
  {
   "cell_type": "markdown",
   "metadata": {},
   "source": [
    "# Числовые признаки"
   ]
  },
  {
   "cell_type": "code",
   "execution_count": 16,
   "metadata": {
    "execution": {
     "iopub.execute_input": "2021-08-18T17:17:59.170641Z",
     "iopub.status.busy": "2021-08-18T17:17:59.170156Z",
     "iopub.status.idle": "2021-08-18T17:17:59.187808Z",
     "shell.execute_reply": "2021-08-18T17:17:59.187038Z",
     "shell.execute_reply.started": "2021-08-18T17:17:59.170599Z"
    }
   },
   "outputs": [
    {
     "data": {
      "text/html": [
       "<div>\n",
       "<style scoped>\n",
       "    .dataframe tbody tr th:only-of-type {\n",
       "        vertical-align: middle;\n",
       "    }\n",
       "\n",
       "    .dataframe tbody tr th {\n",
       "        vertical-align: top;\n",
       "    }\n",
       "\n",
       "    .dataframe thead th {\n",
       "        text-align: right;\n",
       "    }\n",
       "</style>\n",
       "<table border=\"1\" class=\"dataframe\">\n",
       "  <thead>\n",
       "    <tr style=\"text-align: right;\">\n",
       "      <th></th>\n",
       "      <th>client_id</th>\n",
       "      <th>app_date</th>\n",
       "      <th>age</th>\n",
       "      <th>bki_request_cnt</th>\n",
       "      <th>score_bki</th>\n",
       "      <th>income</th>\n",
       "      <th>decline_app_cnt</th>\n",
       "    </tr>\n",
       "  </thead>\n",
       "  <tbody>\n",
       "    <tr>\n",
       "      <th>0</th>\n",
       "      <td>74835</td>\n",
       "      <td>22MAR2014</td>\n",
       "      <td>29</td>\n",
       "      <td>3</td>\n",
       "      <td>-2.271884</td>\n",
       "      <td>50000</td>\n",
       "      <td>0</td>\n",
       "    </tr>\n",
       "    <tr>\n",
       "      <th>1</th>\n",
       "      <td>17527</td>\n",
       "      <td>24JAN2014</td>\n",
       "      <td>39</td>\n",
       "      <td>2</td>\n",
       "      <td>-1.504999</td>\n",
       "      <td>5000</td>\n",
       "      <td>5</td>\n",
       "    </tr>\n",
       "    <tr>\n",
       "      <th>2</th>\n",
       "      <td>75683</td>\n",
       "      <td>23MAR2014</td>\n",
       "      <td>50</td>\n",
       "      <td>1</td>\n",
       "      <td>-1.691339</td>\n",
       "      <td>30000</td>\n",
       "      <td>0</td>\n",
       "    </tr>\n",
       "    <tr>\n",
       "      <th>3</th>\n",
       "      <td>26883</td>\n",
       "      <td>03FEB2014</td>\n",
       "      <td>56</td>\n",
       "      <td>1</td>\n",
       "      <td>-2.374182</td>\n",
       "      <td>17000</td>\n",
       "      <td>0</td>\n",
       "    </tr>\n",
       "    <tr>\n",
       "      <th>4</th>\n",
       "      <td>28862</td>\n",
       "      <td>04FEB2014</td>\n",
       "      <td>38</td>\n",
       "      <td>0</td>\n",
       "      <td>-2.487502</td>\n",
       "      <td>120000</td>\n",
       "      <td>0</td>\n",
       "    </tr>\n",
       "  </tbody>\n",
       "</table>\n",
       "</div>"
      ],
      "text/plain": [
       "   client_id   app_date  age  bki_request_cnt  score_bki  income  \\\n",
       "0      74835  22MAR2014   29                3  -2.271884   50000   \n",
       "1      17527  24JAN2014   39                2  -1.504999    5000   \n",
       "2      75683  23MAR2014   50                1  -1.691339   30000   \n",
       "3      26883  03FEB2014   56                1  -2.374182   17000   \n",
       "4      28862  04FEB2014   38                0  -2.487502  120000   \n",
       "\n",
       "   decline_app_cnt  \n",
       "0                0  \n",
       "1                5  \n",
       "2                0  \n",
       "3                0  \n",
       "4                0  "
      ]
     },
     "execution_count": 16,
     "metadata": {},
     "output_type": "execute_result"
    }
   ],
   "source": [
    "# Исходя из обзора данных создадим список признаков, значения которых похожи на числовые:\n",
    "num_columns = ['client_id', 'app_date', 'age','bki_request_cnt', 'score_bki', 'income', 'decline_app_cnt']\n",
    "df[num_columns].head()"
   ]
  },
  {
   "cell_type": "markdown",
   "metadata": {},
   "source": [
    "Посмотрим детально на признаки **client_id** и **app_date**. Видно, что признак **app_date** необходимо будет преобразовать для последующей работы с ним."
   ]
  },
  {
   "cell_type": "markdown",
   "metadata": {},
   "source": [
    "### client_id"
   ]
  },
  {
   "cell_type": "code",
   "execution_count": 17,
   "metadata": {
    "execution": {
     "iopub.execute_input": "2021-08-18T17:17:59.190656Z",
     "iopub.status.busy": "2021-08-18T17:17:59.190229Z",
     "iopub.status.idle": "2021-08-18T17:17:59.206191Z",
     "shell.execute_reply": "2021-08-18T17:17:59.205555Z",
     "shell.execute_reply.started": "2021-08-18T17:17:59.190616Z"
    }
   },
   "outputs": [
    {
     "data": {
      "text/plain": [
       "True"
      ]
     },
     "execution_count": 17,
     "metadata": {},
     "output_type": "execute_result"
    }
   ],
   "source": [
    "df['client_id'].nunique() == df.shape[0]"
   ]
  },
  {
   "cell_type": "markdown",
   "metadata": {},
   "source": [
    "**Резюме:** признак **client_id** - имеет уникальные значения идентификатора клиента, вероятно нам не пригодится для построения модели, так как не несет никакой смысловой нагрузки."
   ]
  },
  {
   "cell_type": "code",
   "execution_count": 18,
   "metadata": {
    "execution": {
     "iopub.execute_input": "2021-08-18T17:17:59.207975Z",
     "iopub.status.busy": "2021-08-18T17:17:59.207571Z",
     "iopub.status.idle": "2021-08-18T17:17:59.212110Z",
     "shell.execute_reply": "2021-08-18T17:17:59.210985Z",
     "shell.execute_reply.started": "2021-08-18T17:17:59.207937Z"
    }
   },
   "outputs": [],
   "source": [
    "num_columns.remove('client_id')"
   ]
  },
  {
   "cell_type": "markdown",
   "metadata": {},
   "source": [
    "### app_date"
   ]
  },
  {
   "cell_type": "code",
   "execution_count": 19,
   "metadata": {
    "execution": {
     "iopub.execute_input": "2021-08-18T17:17:59.214201Z",
     "iopub.status.busy": "2021-08-18T17:17:59.213776Z",
     "iopub.status.idle": "2021-08-18T17:17:59.251064Z",
     "shell.execute_reply": "2021-08-18T17:17:59.250449Z",
     "shell.execute_reply.started": "2021-08-18T17:17:59.214166Z"
    }
   },
   "outputs": [],
   "source": [
    "# Трансформируем данный признак в удобный для дальнейшей работы формат:\n",
    "df['app_date'] = pd.to_datetime(df['app_date'])"
   ]
  },
  {
   "cell_type": "code",
   "execution_count": 20,
   "metadata": {
    "execution": {
     "iopub.execute_input": "2021-08-18T17:17:59.252738Z",
     "iopub.status.busy": "2021-08-18T17:17:59.252394Z",
     "iopub.status.idle": "2021-08-18T17:17:59.321842Z",
     "shell.execute_reply": "2021-08-18T17:17:59.320971Z",
     "shell.execute_reply.started": "2021-08-18T17:17:59.252701Z"
    }
   },
   "outputs": [
    {
     "name": "stdout",
     "output_type": "stream",
     "text": [
      "[2014]\n",
      "['March' 'January' 'February' 'April']\n",
      "[1, 2, 3, 4, 5, 6, 7, 8, 9, 10, 11, 12, 13, 14, 15, 16, 17, 18, 19, 20, 21, 22, 23, 24, 25, 26, 27, 28, 29, 30, 31]\n"
     ]
    }
   ],
   "source": [
    "# Посмотрим какой период охватывают наблюдения:\n",
    "print(f\"{df['app_date'].dt.year.unique()}\\n{df['app_date'].dt.month_name().unique()}\\n{sorted(df['app_date'].dt.day.unique())}\")"
   ]
  },
  {
   "cell_type": "code",
   "execution_count": 21,
   "metadata": {
    "execution": {
     "iopub.execute_input": "2021-08-18T17:17:59.323551Z",
     "iopub.status.busy": "2021-08-18T17:17:59.323048Z",
     "iopub.status.idle": "2021-08-18T17:17:59.604858Z",
     "shell.execute_reply": "2021-08-18T17:17:59.604046Z",
     "shell.execute_reply.started": "2021-08-18T17:17:59.323513Z"
    }
   },
   "outputs": [
    {
     "data": {
      "image/png": "[encoded data removed]",
      "text/plain": [
       "<Figure size 864x360 with 1 Axes>"
      ]
     },
     "metadata": {
      "needs_background": "light"
     },
     "output_type": "display_data"
    }
   ],
   "source": [
    "# Посмотрим как распределена дата подачи заявок по дням недели:\n",
    "fig = plt.subplots(figsize=(12, 5))\n",
    "sns.countplot(x=df['app_date'].dt.day_name());"
   ]
  },
  {
   "cell_type": "code",
   "execution_count": 22,
   "metadata": {
    "execution": {
     "iopub.execute_input": "2021-08-18T17:17:59.606729Z",
     "iopub.status.busy": "2021-08-18T17:17:59.606216Z",
     "iopub.status.idle": "2021-08-18T17:17:59.651005Z",
     "shell.execute_reply": "2021-08-18T17:17:59.649642Z",
     "shell.execute_reply.started": "2021-08-18T17:17:59.606687Z"
    }
   },
   "outputs": [],
   "source": [
    "# На основе признака app_date создадим категориальный признак, который отражает день недели в который была подана заявка:\n",
    "df['app_day'] = df['app_date'].dt.day_name()"
   ]
  },
  {
   "cell_type": "code",
   "execution_count": 23,
   "metadata": {
    "execution": {
     "iopub.execute_input": "2021-08-18T17:17:59.653098Z",
     "iopub.status.busy": "2021-08-18T17:17:59.652712Z",
     "iopub.status.idle": "2021-08-18T17:17:59.676985Z",
     "shell.execute_reply": "2021-08-18T17:17:59.676154Z",
     "shell.execute_reply.started": "2021-08-18T17:17:59.653059Z"
    }
   },
   "outputs": [],
   "source": [
    "# Заменим наименование дней на числа:\n",
    "dict_value_days = {'Monday':1,'Tuesday':2,'Wednesday':3,'Thursday':4,'Friday':5,'Saturday':6,'Sunday':7}\n",
    "df['app_day'] = df['app_day'].map(dict_value_days)"
   ]
  },
  {
   "cell_type": "code",
   "execution_count": 24,
   "metadata": {
    "execution": {
     "iopub.execute_input": "2021-08-18T17:17:59.678881Z",
     "iopub.status.busy": "2021-08-18T17:17:59.678537Z",
     "iopub.status.idle": "2021-08-18T17:17:59.689058Z",
     "shell.execute_reply": "2021-08-18T17:17:59.688083Z",
     "shell.execute_reply.started": "2021-08-18T17:17:59.678845Z"
    }
   },
   "outputs": [],
   "source": [
    "# На основе признака app_date создадим новый признак, который отражает количество дней, прошедших со дня подачи заявки:\n",
    "df['days_pass'] = (current_date - df['app_date']).dt.days"
   ]
  },
  {
   "cell_type": "markdown",
   "metadata": {},
   "source": [
    "**Резюме:** Признак **app_date** - охватывает период подачи заявок с начала января по конец апреля 2014 года. Следует отметить, что количество поданных заявок в будние дни приблизительно равны, однако заметно явное снижение их количества в выходные. На основе признака **app_date** были созданы категориальный признак **app_day**, который отражает день подачи заявки и числовой признак **days_pass**, который отражает количество дней, прошедших со дня подачи заявки. Признак **app_date** не пригодится для построения модели.    "
   ]
  },
  {
   "cell_type": "code",
   "execution_count": 25,
   "metadata": {
    "execution": {
     "iopub.execute_input": "2021-08-18T17:17:59.690663Z",
     "iopub.status.busy": "2021-08-18T17:17:59.690277Z",
     "iopub.status.idle": "2021-08-18T17:17:59.694742Z",
     "shell.execute_reply": "2021-08-18T17:17:59.693887Z",
     "shell.execute_reply.started": "2021-08-18T17:17:59.690625Z"
    }
   },
   "outputs": [],
   "source": [
    "# Обновим список числовых признаков:\n",
    "num_columns.remove('app_date')\n",
    "num_columns.append('days_pass')"
   ]
  },
  {
   "cell_type": "code",
   "execution_count": 26,
   "metadata": {
    "execution": {
     "iopub.execute_input": "2021-08-18T17:17:59.696838Z",
     "iopub.status.busy": "2021-08-18T17:17:59.696298Z",
     "iopub.status.idle": "2021-08-18T17:17:59.791890Z",
     "shell.execute_reply": "2021-08-18T17:17:59.791222Z",
     "shell.execute_reply.started": "2021-08-18T17:17:59.696800Z"
    }
   },
   "outputs": [
    {
     "name": "stdout",
     "output_type": "stream",
     "text": [
      "Наименование признака: age\n",
      "25-й перцентиль: 30.0 75-й перцентиль: 48.0, IQR: 18.0,  Границы выбросов: [3.0, 75.0].\n",
      "Выбросов, согласно IQR: 0 | 0.00%\n",
      "========================================\n",
      "Наименование признака: bki_request_cnt\n",
      "25-й перцентиль: 0.0 75-й перцентиль: 3.0, IQR: 3.0,  Границы выбросов: [-4.5, 7.5].\n",
      "Выбросов, согласно IQR: 1755 | 2.38%\n",
      "========================================\n",
      "Наименование признака: score_bki\n",
      "25-й перцентиль: -2.259533835 75-й перцентиль: -1.56983126, IQR: 0.6897025750000001,  Границы выбросов: [-3.2940876975, -0.5352773974999998].\n",
      "Выбросов, согласно IQR: 351 | 0.48%\n",
      "========================================\n",
      "Наименование признака: income\n",
      "25-й перцентиль: 20000.0 75-й перцентиль: 48000.0, IQR: 28000.0,  Границы выбросов: [-22000.0, 90000.0].\n",
      "Выбросов, согласно IQR: 4695 | 6.36%\n",
      "========================================\n",
      "Наименование признака: decline_app_cnt\n",
      "25-й перцентиль: 0.0 75-й перцентиль: 0.0, IQR: 0.0,  Границы выбросов: [0.0, 0.0].\n",
      "Выбросов, согласно IQR: 12585 | 17.05%\n",
      "========================================\n",
      "Наименование признака: days_pass\n",
      "25-й перцентиль: 2690.0 75-й перцентиль: 2746.0, IQR: 56.0,  Границы выбросов: [2606.0, 2830.0].\n",
      "Выбросов, согласно IQR: 0 | 0.00%\n",
      "========================================\n"
     ]
    }
   ],
   "source": [
    "# Проведем анализ для выявления выбросов числовых признаков:\n",
    "for column in num_columns:\n",
    "    IQR_outlier(df.query('sample == 1'), column)\n",
    "    print('=='*20)"
   ]
  },
  {
   "cell_type": "code",
   "execution_count": 27,
   "metadata": {
    "execution": {
     "iopub.execute_input": "2021-08-18T17:17:59.793572Z",
     "iopub.status.busy": "2021-08-18T17:17:59.793194Z",
     "iopub.status.idle": "2021-08-18T17:18:00.576764Z",
     "shell.execute_reply": "2021-08-18T17:18:00.576073Z",
     "shell.execute_reply.started": "2021-08-18T17:17:59.793535Z"
    }
   },
   "outputs": [
    {
     "data": {
      "image/png": "[encoded data removed]",
      "text/plain": [
       "<Figure size 1296x1080 with 6 Axes>"
      ]
     },
     "metadata": {
      "needs_background": "light"
     },
     "output_type": "display_data"
    }
   ],
   "source": [
    "# Построим boxplots для числовых признаков:\n",
    "fig, axes = plt.subplots(3, 2, figsize=(18,15))\n",
    "for i, column in enumerate(num_columns):\n",
    "    sns.boxplot(x=df.query('sample == 1')[column],\n",
    "                y=df.query('sample == 1')['default'],\n",
    "                ax=axes.flat[i],\n",
    "                showmeans=True,\n",
    "                meanline=True,\n",
    "                orient='h')"
   ]
  },
  {
   "cell_type": "code",
   "execution_count": 28,
   "metadata": {
    "execution": {
     "iopub.execute_input": "2021-08-18T17:18:00.579568Z",
     "iopub.status.busy": "2021-08-18T17:18:00.579213Z",
     "iopub.status.idle": "2021-08-18T17:18:01.813992Z",
     "shell.execute_reply": "2021-08-18T17:18:01.813010Z",
     "shell.execute_reply.started": "2021-08-18T17:18:00.579540Z"
    }
   },
   "outputs": [
    {
     "data": {
      "image/png": "[encoded data removed]",
      "text/plain": [
       "<Figure size 1296x1080 with 6 Axes>"
      ]
     },
     "metadata": {
      "needs_background": "light"
     },
     "output_type": "display_data"
    }
   ],
   "source": [
    "# Посмотрим на распределения числовых признаков:\n",
    "fig, axes = plt.subplots(3, 2, figsize=(18,15))\n",
    "for i,col in enumerate(num_columns):\n",
    "    sns.distplot(df[col], ax=axes.flat[i], bins=50, kde_kws={'bw': 0.55})"
   ]
  },
  {
   "cell_type": "code",
   "execution_count": 29,
   "metadata": {
    "execution": {
     "iopub.execute_input": "2021-08-18T17:18:01.815463Z",
     "iopub.status.busy": "2021-08-18T17:18:01.815111Z",
     "iopub.status.idle": "2021-08-18T17:18:01.864905Z",
     "shell.execute_reply": "2021-08-18T17:18:01.864056Z",
     "shell.execute_reply.started": "2021-08-18T17:18:01.815427Z"
    }
   },
   "outputs": [
    {
     "data": {
      "text/html": [
       "<div>\n",
       "<style scoped>\n",
       "    .dataframe tbody tr th:only-of-type {\n",
       "        vertical-align: middle;\n",
       "    }\n",
       "\n",
       "    .dataframe tbody tr th {\n",
       "        vertical-align: top;\n",
       "    }\n",
       "\n",
       "    .dataframe thead th {\n",
       "        text-align: right;\n",
       "    }\n",
       "</style>\n",
       "<table border=\"1\" class=\"dataframe\">\n",
       "  <thead>\n",
       "    <tr style=\"text-align: right;\">\n",
       "      <th></th>\n",
       "      <th>age</th>\n",
       "      <th>bki_request_cnt</th>\n",
       "      <th>score_bki</th>\n",
       "      <th>income</th>\n",
       "      <th>decline_app_cnt</th>\n",
       "      <th>days_pass</th>\n",
       "    </tr>\n",
       "  </thead>\n",
       "  <tbody>\n",
       "    <tr>\n",
       "      <th>count</th>\n",
       "      <td>73799.000000</td>\n",
       "      <td>73799.000000</td>\n",
       "      <td>73799.000000</td>\n",
       "      <td>73799.000000</td>\n",
       "      <td>73799.000000</td>\n",
       "      <td>73799.000000</td>\n",
       "    </tr>\n",
       "    <tr>\n",
       "      <th>mean</th>\n",
       "      <td>39.280641</td>\n",
       "      <td>2.000339</td>\n",
       "      <td>-1.904724</td>\n",
       "      <td>41099.775417</td>\n",
       "      <td>0.275749</td>\n",
       "      <td>2717.964566</td>\n",
       "    </tr>\n",
       "    <tr>\n",
       "      <th>std</th>\n",
       "      <td>11.520378</td>\n",
       "      <td>2.252073</td>\n",
       "      <td>0.498231</td>\n",
       "      <td>46166.322400</td>\n",
       "      <td>0.804272</td>\n",
       "      <td>32.121884</td>\n",
       "    </tr>\n",
       "    <tr>\n",
       "      <th>min</th>\n",
       "      <td>21.000000</td>\n",
       "      <td>0.000000</td>\n",
       "      <td>-3.624586</td>\n",
       "      <td>1000.000000</td>\n",
       "      <td>0.000000</td>\n",
       "      <td>2660.000000</td>\n",
       "    </tr>\n",
       "    <tr>\n",
       "      <th>25%</th>\n",
       "      <td>30.000000</td>\n",
       "      <td>0.000000</td>\n",
       "      <td>-2.259534</td>\n",
       "      <td>20000.000000</td>\n",
       "      <td>0.000000</td>\n",
       "      <td>2690.000000</td>\n",
       "    </tr>\n",
       "    <tr>\n",
       "      <th>50%</th>\n",
       "      <td>37.000000</td>\n",
       "      <td>1.000000</td>\n",
       "      <td>-1.920823</td>\n",
       "      <td>30000.000000</td>\n",
       "      <td>0.000000</td>\n",
       "      <td>2717.000000</td>\n",
       "    </tr>\n",
       "    <tr>\n",
       "      <th>75%</th>\n",
       "      <td>48.000000</td>\n",
       "      <td>3.000000</td>\n",
       "      <td>-1.569831</td>\n",
       "      <td>48000.000000</td>\n",
       "      <td>0.000000</td>\n",
       "      <td>2746.000000</td>\n",
       "    </tr>\n",
       "    <tr>\n",
       "      <th>max</th>\n",
       "      <td>72.000000</td>\n",
       "      <td>53.000000</td>\n",
       "      <td>0.199773</td>\n",
       "      <td>1000000.000000</td>\n",
       "      <td>33.000000</td>\n",
       "      <td>2779.000000</td>\n",
       "    </tr>\n",
       "  </tbody>\n",
       "</table>\n",
       "</div>"
      ],
      "text/plain": [
       "                age  bki_request_cnt     score_bki          income  \\\n",
       "count  73799.000000     73799.000000  73799.000000    73799.000000   \n",
       "mean      39.280641         2.000339     -1.904724    41099.775417   \n",
       "std       11.520378         2.252073      0.498231    46166.322400   \n",
       "min       21.000000         0.000000     -3.624586     1000.000000   \n",
       "25%       30.000000         0.000000     -2.259534    20000.000000   \n",
       "50%       37.000000         1.000000     -1.920823    30000.000000   \n",
       "75%       48.000000         3.000000     -1.569831    48000.000000   \n",
       "max       72.000000        53.000000      0.199773  1000000.000000   \n",
       "\n",
       "       decline_app_cnt     days_pass  \n",
       "count     73799.000000  73799.000000  \n",
       "mean          0.275749   2717.964566  \n",
       "std           0.804272     32.121884  \n",
       "min           0.000000   2660.000000  \n",
       "25%           0.000000   2690.000000  \n",
       "50%           0.000000   2717.000000  \n",
       "75%           0.000000   2746.000000  \n",
       "max          33.000000   2779.000000  "
      ]
     },
     "execution_count": 29,
     "metadata": {},
     "output_type": "execute_result"
    }
   ],
   "source": [
    "# Посмотрим статистику по числовым признакам:\n",
    "df.query('sample == 1')[num_columns].describe()"
   ]
  },
  {
   "cell_type": "markdown",
   "metadata": {},
   "source": [
    "### bki_request_cnt"
   ]
  },
  {
   "cell_type": "code",
   "execution_count": 30,
   "metadata": {
    "execution": {
     "iopub.execute_input": "2021-08-18T17:18:01.867032Z",
     "iopub.status.busy": "2021-08-18T17:18:01.866677Z",
     "iopub.status.idle": "2021-08-18T17:18:01.877269Z",
     "shell.execute_reply": "2021-08-18T17:18:01.876446Z",
     "shell.execute_reply.started": "2021-08-18T17:18:01.866994Z"
    }
   },
   "outputs": [
    {
     "data": {
      "text/plain": [
       "0    0.262447\n",
       "1    0.247803\n",
       "2    0.185941\n",
       "3    0.124106\n",
       "4    0.076316\n",
       "5    0.045030\n",
       "6    0.022697\n",
       "7    0.011730\n",
       "8    0.006673\n",
       "Name: bki_request_cnt, dtype: float64"
      ]
     },
     "execution_count": 30,
     "metadata": {},
     "output_type": "execute_result"
    }
   ],
   "source": [
    "df['bki_request_cnt'].value_counts(normalize=True)[:9]"
   ]
  },
  {
   "cell_type": "markdown",
   "metadata": {},
   "source": [
    "### decline_app_cnt"
   ]
  },
  {
   "cell_type": "code",
   "execution_count": 31,
   "metadata": {
    "execution": {
     "iopub.execute_input": "2021-08-18T17:18:01.879621Z",
     "iopub.status.busy": "2021-08-18T17:18:01.879242Z",
     "iopub.status.idle": "2021-08-18T17:18:01.890087Z",
     "shell.execute_reply": "2021-08-18T17:18:01.889237Z",
     "shell.execute_reply.started": "2021-08-18T17:18:01.879585Z"
    }
   },
   "outputs": [
    {
     "data": {
      "text/plain": [
       "0    0.830437\n",
       "1    0.113484\n",
       "2    0.032883\n",
       "3    0.012392\n",
       "4    0.005502\n",
       "Name: decline_app_cnt, dtype: float64"
      ]
     },
     "execution_count": 31,
     "metadata": {},
     "output_type": "execute_result"
    }
   ],
   "source": [
    "df['decline_app_cnt'].value_counts(normalize=True)[:5]"
   ]
  },
  {
   "cell_type": "markdown",
   "metadata": {},
   "source": [
    "**Резюме:** \n",
    "* признак **age** - возраст. Минимальное значение - 21, максимальное - 72. Средний возраст заемщика - 39, медианный - 37. Есть небольшое смещение, но не сильное. Выбросы в данном признаке не обнаружены.\n",
    "* признак **bki_request_cnt**. Значения от 0 до 53. Самое часто встречающееся значение 0 занимает **26,2%** всех наблюдений. Здесь опять же выделяются признаки 0, 1 и 2. Те, что имеют значение 3 и больше малочисленны. Распределение имеет тяжелый правый хвост, поэтому есть смысл логарифмирования данного признака. Также присутствуют выбросы в количестве **2636**, однако удалять данные о людях которые обращались в БКИ больше 2 раз не вижу необходимости.\n",
    "* признак **score_bki**. Имеет нормальное распределение, однако странно, что имеются отрицательные значения, так как обычно скоринговый балл положительный. Распределение нормальное, но есть выбросы в количестве **518**. Но с учетом странной природы данного признака удалять выбросы, пока, не буду. \n",
    "* признак **income**. Имеет смещенное распределение, очень большой разброс значений - от 1000 до 1000000. Такой доход имеет место быть, хотя анализ показывает большое кол-во выбросов. Здесь можно попробовать ввести категориальный признак, посмотрев на распределение и зависимости признака с целевой переменной, присвоив значениям дохода категории - низкий доход, средний, выше среднего и т.д.\n",
    "* признак **decline_app_cnt**. **83%** наблюдений имеют значение **0**. Распределение смещенное. Максимальное значение - **33**. Как мы видим, **98%** распределения лежит в значениях 0, 1, 2, 3. Можно попробовать перевести данный признак в категориальный, так как он имеет много выбросов, или оставить признак таким какой он есть на данный момент. Но удалять данные о людях у которых были отказы заявок считаю не верным решением. \n",
    "* признак **days_pass** имеет равномерное распределение, выбросов нет. Количество поданных заявок в будние дни приблизительно равны, однако заметно явное снижение их количества в выходные."
   ]
  },
  {
   "cell_type": "code",
   "execution_count": 32,
   "metadata": {
    "execution": {
     "iopub.execute_input": "2021-08-18T17:18:01.896643Z",
     "iopub.status.busy": "2021-08-18T17:18:01.896398Z",
     "iopub.status.idle": "2021-08-18T17:18:02.894454Z",
     "shell.execute_reply": "2021-08-18T17:18:02.893676Z",
     "shell.execute_reply.started": "2021-08-18T17:18:01.896618Z"
    }
   },
   "outputs": [],
   "source": [
    "# Прологарифмируем признаки у которых смещенны распределения:\n",
    "log_features = ['age', 'bki_request_cnt', 'income', 'decline_app_cnt']\n",
    "for column in log_features:\n",
    "    df[column] = get_log(df, column)"
   ]
  },
  {
   "cell_type": "code",
   "execution_count": 33,
   "metadata": {
    "execution": {
     "iopub.execute_input": "2021-08-18T17:18:02.896100Z",
     "iopub.status.busy": "2021-08-18T17:18:02.895768Z",
     "iopub.status.idle": "2021-08-18T17:18:04.609597Z",
     "shell.execute_reply": "2021-08-18T17:18:04.608757Z",
     "shell.execute_reply.started": "2021-08-18T17:18:02.896065Z"
    }
   },
   "outputs": [
    {
     "data": {
      "image/png": "[encoded data removed]",
      "text/plain": [
       "<Figure size 1296x1080 with 6 Axes>"
      ]
     },
     "metadata": {
      "needs_background": "light"
     },
     "output_type": "display_data"
    }
   ],
   "source": [
    "# Посмотрим на распределения числовых признаков после преобразований:\n",
    "fig, axes = plt.subplots(3, 2, figsize=(18,15))\n",
    "for i,col in enumerate(num_columns):\n",
    "    sns.distplot(df[col], ax=axes.flat[i], bins=50, kde_kws={'bw': 0.45})"
   ]
  },
  {
   "cell_type": "markdown",
   "metadata": {},
   "source": [
    "## Корреляционный анализ"
   ]
  },
  {
   "cell_type": "code",
   "execution_count": 34,
   "metadata": {
    "execution": {
     "iopub.execute_input": "2021-08-18T17:18:04.615611Z",
     "iopub.status.busy": "2021-08-18T17:18:04.613536Z",
     "iopub.status.idle": "2021-08-18T17:18:04.910092Z",
     "shell.execute_reply": "2021-08-18T17:18:04.909254Z",
     "shell.execute_reply.started": "2021-08-18T17:18:04.615568Z"
    }
   },
   "outputs": [
    {
     "data": {
      "image/png": "[encoded data removed]",
      "text/plain": [
       "<Figure size 720x432 with 2 Axes>"
      ]
     },
     "metadata": {
      "needs_background": "light"
     },
     "output_type": "display_data"
    }
   ],
   "source": [
    "# Построим матрицу корреляций для числовых признаков:\n",
    "f = plt.subplots(figsize=(10, 6))\n",
    "sns.heatmap(df[num_columns].corr().abs(), vmin=0,\n",
    "            vmax=1, annot=True, fmt=\".2f\", linewidths=0.1);"
   ]
  },
  {
   "cell_type": "markdown",
   "metadata": {},
   "source": [
    "## Оценка значимости числовых признаков"
   ]
  },
  {
   "cell_type": "code",
   "execution_count": 35,
   "metadata": {
    "execution": {
     "iopub.execute_input": "2021-08-18T17:18:04.911733Z",
     "iopub.status.busy": "2021-08-18T17:18:04.911255Z",
     "iopub.status.idle": "2021-08-18T17:18:05.066599Z",
     "shell.execute_reply": "2021-08-18T17:18:05.065595Z",
     "shell.execute_reply.started": "2021-08-18T17:18:04.911703Z"
    }
   },
   "outputs": [
    {
     "data": {
      "image/png": "[encoded data removed]",
      "text/plain": [
       "<Figure size 504x360 with 1 Axes>"
      ]
     },
     "metadata": {
      "needs_background": "light"
     },
     "output_type": "display_data"
    }
   ],
   "source": [
    "# Определим значимость числовых признаков с помощью функции mutual_info_classif:\n",
    "fig = plt.subplots(figsize=(7, 5))\n",
    "imp_num = pd.Series(f_classif(df.query('sample == 1')[num_columns], df.query('sample == 1')['default'])[0], index = num_columns)\n",
    "imp_num.sort_values(inplace = True)\n",
    "imp_num.plot(kind = 'barh');"
   ]
  },
  {
   "cell_type": "markdown",
   "metadata": {},
   "source": [
    "**Резюме:** Максимальное значение коэффициента корреляции составляет **0,19** между признаками **score_bki/decline_app_cnt**. Это говорит о достаточно слабой корреляции между признаками. Оценка значимости числовых признаков показывает, что все признаки в той или иной степени влияют на целевой. Самым значимым из чиловых признаков является **score_bki**."
   ]
  },
  {
   "cell_type": "markdown",
   "metadata": {},
   "source": [
    "# Категориальные признаки"
   ]
  },
  {
   "cell_type": "code",
   "execution_count": 36,
   "metadata": {
    "execution": {
     "iopub.execute_input": "2021-08-18T17:18:05.068498Z",
     "iopub.status.busy": "2021-08-18T17:18:05.068102Z",
     "iopub.status.idle": "2021-08-18T17:18:05.083820Z",
     "shell.execute_reply": "2021-08-18T17:18:05.082919Z",
     "shell.execute_reply.started": "2021-08-18T17:18:05.068460Z"
    }
   },
   "outputs": [
    {
     "data": {
      "text/html": [
       "<div>\n",
       "<style scoped>\n",
       "    .dataframe tbody tr th:only-of-type {\n",
       "        vertical-align: middle;\n",
       "    }\n",
       "\n",
       "    .dataframe tbody tr th {\n",
       "        vertical-align: top;\n",
       "    }\n",
       "\n",
       "    .dataframe thead th {\n",
       "        text-align: right;\n",
       "    }\n",
       "</style>\n",
       "<table border=\"1\" class=\"dataframe\">\n",
       "  <thead>\n",
       "    <tr style=\"text-align: right;\">\n",
       "      <th></th>\n",
       "      <th>education</th>\n",
       "      <th>region_rating</th>\n",
       "      <th>home_address</th>\n",
       "      <th>work_address</th>\n",
       "      <th>sna</th>\n",
       "      <th>first_time</th>\n",
       "      <th>app_day</th>\n",
       "    </tr>\n",
       "  </thead>\n",
       "  <tbody>\n",
       "    <tr>\n",
       "      <th>0</th>\n",
       "      <td>GRD</td>\n",
       "      <td>50</td>\n",
       "      <td>1</td>\n",
       "      <td>2</td>\n",
       "      <td>1</td>\n",
       "      <td>4</td>\n",
       "      <td>6</td>\n",
       "    </tr>\n",
       "    <tr>\n",
       "      <th>1</th>\n",
       "      <td>SCH</td>\n",
       "      <td>50</td>\n",
       "      <td>1</td>\n",
       "      <td>2</td>\n",
       "      <td>4</td>\n",
       "      <td>3</td>\n",
       "      <td>5</td>\n",
       "    </tr>\n",
       "    <tr>\n",
       "      <th>2</th>\n",
       "      <td>UGR</td>\n",
       "      <td>50</td>\n",
       "      <td>1</td>\n",
       "      <td>2</td>\n",
       "      <td>1</td>\n",
       "      <td>3</td>\n",
       "      <td>7</td>\n",
       "    </tr>\n",
       "    <tr>\n",
       "      <th>3</th>\n",
       "      <td>SCH</td>\n",
       "      <td>40</td>\n",
       "      <td>1</td>\n",
       "      <td>2</td>\n",
       "      <td>1</td>\n",
       "      <td>3</td>\n",
       "      <td>1</td>\n",
       "    </tr>\n",
       "    <tr>\n",
       "      <th>4</th>\n",
       "      <td>GRD</td>\n",
       "      <td>80</td>\n",
       "      <td>2</td>\n",
       "      <td>3</td>\n",
       "      <td>1</td>\n",
       "      <td>3</td>\n",
       "      <td>2</td>\n",
       "    </tr>\n",
       "  </tbody>\n",
       "</table>\n",
       "</div>"
      ],
      "text/plain": [
       "  education  region_rating  home_address  work_address  sna  first_time  \\\n",
       "0       GRD             50             1             2    1           4   \n",
       "1       SCH             50             1             2    4           3   \n",
       "2       UGR             50             1             2    1           3   \n",
       "3       SCH             40             1             2    1           3   \n",
       "4       GRD             80             2             3    1           3   \n",
       "\n",
       "   app_day  \n",
       "0        6  \n",
       "1        5  \n",
       "2        7  \n",
       "3        1  \n",
       "4        2  "
      ]
     },
     "execution_count": 36,
     "metadata": {},
     "output_type": "execute_result"
    }
   ],
   "source": [
    "# Исходя из обзора данных создадим список признаков, значения которых похожи на категориальные:\n",
    "cat_columns = ['education', 'region_rating', 'home_address', 'work_address', 'sna', 'first_time', 'app_day']\n",
    "df[cat_columns].head()"
   ]
  },
  {
   "cell_type": "markdown",
   "metadata": {},
   "source": [
    "###  education"
   ]
  },
  {
   "cell_type": "code",
   "execution_count": 37,
   "metadata": {
    "execution": {
     "iopub.execute_input": "2021-08-18T17:18:05.085736Z",
     "iopub.status.busy": "2021-08-18T17:18:05.085348Z",
     "iopub.status.idle": "2021-08-18T17:18:05.101906Z",
     "shell.execute_reply": "2021-08-18T17:18:05.101227Z",
     "shell.execute_reply.started": "2021-08-18T17:18:05.085696Z"
    }
   },
   "outputs": [],
   "source": [
    "# Признак education имеет 478 (0,43%) пропущенных значений, сохраним данную информацию:\n",
    "df['NaN_education'] = pd.isna(df['education']).astype('int8')"
   ]
  },
  {
   "cell_type": "code",
   "execution_count": 38,
   "metadata": {
    "execution": {
     "iopub.execute_input": "2021-08-18T17:18:05.103823Z",
     "iopub.status.busy": "2021-08-18T17:18:05.103573Z",
     "iopub.status.idle": "2021-08-18T17:18:05.286496Z",
     "shell.execute_reply": "2021-08-18T17:18:05.285258Z",
     "shell.execute_reply.started": "2021-08-18T17:18:05.103799Z"
    }
   },
   "outputs": [
    {
     "data": {
      "image/png": "[encoded data removed]",
      "text/plain": [
       "<Figure size 576x360 with 1 Axes>"
      ]
     },
     "metadata": {
      "needs_background": "light"
     },
     "output_type": "display_data"
    }
   ],
   "source": [
    "# Посмотрим как распределены заёмщики по уровню образования:\n",
    "plt.figure(figsize=(8, 5))\n",
    "plt.title('Распределение заёмщиков по уровню образования')\n",
    "sns.countplot(x=df['education'])\n",
    "plt.xlabel('Уровень образования')\n",
    "plt.ylabel('Число заёмщиков');"
   ]
  },
  {
   "cell_type": "code",
   "execution_count": 39,
   "metadata": {
    "execution": {
     "iopub.execute_input": "2021-08-18T17:18:05.288723Z",
     "iopub.status.busy": "2021-08-18T17:18:05.288242Z",
     "iopub.status.idle": "2021-08-18T17:18:06.092468Z",
     "shell.execute_reply": "2021-08-18T17:18:06.091686Z",
     "shell.execute_reply.started": "2021-08-18T17:18:05.288672Z"
    }
   },
   "outputs": [],
   "source": [
    "# Заполним пропуски в столбце education:\n",
    "df['education'] = impute_column(df, 'education', 'most_frequent')"
   ]
  },
  {
   "cell_type": "code",
   "execution_count": 40,
   "metadata": {
    "execution": {
     "iopub.execute_input": "2021-08-18T17:18:06.094308Z",
     "iopub.status.busy": "2021-08-18T17:18:06.093941Z",
     "iopub.status.idle": "2021-08-18T17:18:06.115635Z",
     "shell.execute_reply": "2021-08-18T17:18:06.114715Z",
     "shell.execute_reply.started": "2021-08-18T17:18:06.094262Z"
    }
   },
   "outputs": [],
   "source": [
    "# Заменим буквенные обозначения на числовые:\n",
    "dict_value_education = {'SCH':0,'GRD':1,'UGR':2,'PGR':3,'ACD':4}\n",
    "df['education'] = df['education'].map(dict_value_education).astype('int8')"
   ]
  },
  {
   "cell_type": "markdown",
   "metadata": {},
   "source": [
    "### redion_rating"
   ]
  },
  {
   "cell_type": "code",
   "execution_count": 41,
   "metadata": {
    "execution": {
     "iopub.execute_input": "2021-08-18T17:18:06.117588Z",
     "iopub.status.busy": "2021-08-18T17:18:06.117115Z",
     "iopub.status.idle": "2021-08-18T17:18:06.160890Z",
     "shell.execute_reply": "2021-08-18T17:18:06.160225Z",
     "shell.execute_reply.started": "2021-08-18T17:18:06.117552Z"
    }
   },
   "outputs": [],
   "source": [
    "# Сократим значения признака region_rating до единиц:\n",
    "df['region_rating'] = df['region_rating'].map(lambda x: 0.1 * x).astype('int8')"
   ]
  },
  {
   "cell_type": "code",
   "execution_count": 42,
   "metadata": {
    "execution": {
     "iopub.execute_input": "2021-08-18T17:18:06.162387Z",
     "iopub.status.busy": "2021-08-18T17:18:06.162031Z",
     "iopub.status.idle": "2021-08-18T17:18:07.105653Z",
     "shell.execute_reply": "2021-08-18T17:18:07.104890Z",
     "shell.execute_reply.started": "2021-08-18T17:18:06.162350Z"
    }
   },
   "outputs": [
    {
     "data": {
      "image/png": "[encoded data removed]",
      "text/plain": [
       "<Figure size 1296x1080 with 6 Axes>"
      ]
     },
     "metadata": {
      "needs_background": "light"
     },
     "output_type": "display_data"
    }
   ],
   "source": [
    "# Посмотрим на распределения категориальных признаков:\n",
    "fig, axes = plt.subplots(3, 2, figsize=(18,15))\n",
    "for i,col in enumerate(cat_columns):\n",
    "    if col == 'education':\n",
    "        continue\n",
    "    else:\n",
    "        sns.countplot(df[col], ax=axes.flat[i-1]);"
   ]
  },
  {
   "cell_type": "code",
   "execution_count": 43,
   "metadata": {
    "execution": {
     "iopub.execute_input": "2021-08-18T17:18:07.107186Z",
     "iopub.status.busy": "2021-08-18T17:18:07.106852Z",
     "iopub.status.idle": "2021-08-18T17:18:07.437095Z",
     "shell.execute_reply": "2021-08-18T17:18:07.436238Z",
     "shell.execute_reply.started": "2021-08-18T17:18:07.107149Z"
    }
   },
   "outputs": [
    {
     "data": {
      "image/png": "[encoded data removed]",
      "text/plain": [
       "<Figure size 720x432 with 2 Axes>"
      ]
     },
     "metadata": {
      "needs_background": "light"
     },
     "output_type": "display_data"
    }
   ],
   "source": [
    "# Построим матрицу корреляций для категориальных признаков:\n",
    "f = plt.subplots(figsize=(10, 6))\n",
    "sns.heatmap(df[cat_columns].corr().abs(), vmin=0,\n",
    "            vmax=1, annot=True, fmt=\".2f\", linewidths=0.1);"
   ]
  },
  {
   "cell_type": "markdown",
   "metadata": {},
   "source": [
    "Признаки **home_address** и **work_address** имеют высокую корреляцию между собой (**0.73**). Удаление данных признаков привело к ухудшению результатов, решением стало их объединение,с применением метода декомпозиции."
   ]
  },
  {
   "cell_type": "code",
   "execution_count": 44,
   "metadata": {
    "execution": {
     "iopub.execute_input": "2021-08-18T17:18:07.439239Z",
     "iopub.status.busy": "2021-08-18T17:18:07.438876Z",
     "iopub.status.idle": "2021-08-18T17:18:07.509489Z",
     "shell.execute_reply": "2021-08-18T17:18:07.508702Z",
     "shell.execute_reply.started": "2021-08-18T17:18:07.439199Z"
    }
   },
   "outputs": [],
   "source": [
    "# Выберем нужные колонки:\n",
    "address_columns = df[['work_address', 'home_address']].values\n",
    "# Из двух признаков сделаем один путем усечения ненужной информации:\n",
    "pca = PCA(n_components=1)\n",
    "df['address'] = pca.fit_transform(address_columns)\n",
    "# Обновим список категориальных признаков:\n",
    "cat_columns.remove('home_address')\n",
    "cat_columns.remove('work_address')\n",
    "cat_columns.append('address')"
   ]
  },
  {
   "cell_type": "markdown",
   "metadata": {},
   "source": [
    "## Оценка значимости категориальных признаков"
   ]
  },
  {
   "cell_type": "code",
   "execution_count": 45,
   "metadata": {
    "execution": {
     "iopub.execute_input": "2021-08-18T17:18:07.511226Z",
     "iopub.status.busy": "2021-08-18T17:18:07.510820Z",
     "iopub.status.idle": "2021-08-18T17:18:07.717177Z",
     "shell.execute_reply": "2021-08-18T17:18:07.716339Z",
     "shell.execute_reply.started": "2021-08-18T17:18:07.511181Z"
    }
   },
   "outputs": [
    {
     "data": {
      "image/png": "[encoded data removed]",
      "text/plain": [
       "<Figure size 504x360 with 1 Axes>"
      ]
     },
     "metadata": {
      "needs_background": "light"
     },
     "output_type": "display_data"
    }
   ],
   "source": [
    "# определим значимость категориальных признаков с помощью функции mutual_info_classif\n",
    "fig = plt.subplots(figsize=(7, 5))\n",
    "imp_cat = pd.Series(mutual_info_classif(df.query('sample == 1')[cat_columns], df.query('sample == 1')['default'],\n",
    "                                        discrete_features=True), index=cat_columns)\n",
    "imp_cat.sort_values(inplace=True)\n",
    "imp_cat.plot(kind='barh');"
   ]
  },
  {
   "cell_type": "markdown",
   "metadata": {},
   "source": [
    "**Резюме:** \n",
    "* признак **education** имеет **0.43%** пропусков, что немного. Самое часто встречающееся значние SCH (школа), далее попробуем заполнить им пропуски. Признак имеет 5 уникальных значений. Если полагаться на стандартную расшифровку, то SCH - школьное образование, UGR - бакалавриат, GRD - магистратура, PGR - дополнительные программы после бакалавриата и ACD - научные степени (кандидат, доктор).\n",
    "* признак **region_rating**. Содержит 7 числовых значений, однако по сути является категориальным. Самый часто встречающийся регион - 50.\n",
    "* признак **home_address/work_address**. Имеют по три категории. В признаке домашнего адреса большой перевес имеет категория три. В рабочем адресе такого явного перекоса не наблюдается.\n",
    "* признак **sna / first_time**. Имеют по 4 категории.\n",
    "* признак **app_day** практически не влият на целевой признак."
   ]
  },
  {
   "cell_type": "markdown",
   "metadata": {},
   "source": [
    "# Бинарные признаки"
   ]
  },
  {
   "cell_type": "code",
   "execution_count": 46,
   "metadata": {
    "execution": {
     "iopub.execute_input": "2021-08-18T17:18:07.718743Z",
     "iopub.status.busy": "2021-08-18T17:18:07.718421Z",
     "iopub.status.idle": "2021-08-18T17:18:07.735997Z",
     "shell.execute_reply": "2021-08-18T17:18:07.735007Z",
     "shell.execute_reply.started": "2021-08-18T17:18:07.718715Z"
    }
   },
   "outputs": [
    {
     "data": {
      "text/html": [
       "<div>\n",
       "<style scoped>\n",
       "    .dataframe tbody tr th:only-of-type {\n",
       "        vertical-align: middle;\n",
       "    }\n",
       "\n",
       "    .dataframe tbody tr th {\n",
       "        vertical-align: top;\n",
       "    }\n",
       "\n",
       "    .dataframe thead th {\n",
       "        text-align: right;\n",
       "    }\n",
       "</style>\n",
       "<table border=\"1\" class=\"dataframe\">\n",
       "  <thead>\n",
       "    <tr style=\"text-align: right;\">\n",
       "      <th></th>\n",
       "      <th>sex</th>\n",
       "      <th>car</th>\n",
       "      <th>car_type</th>\n",
       "      <th>good_work</th>\n",
       "      <th>foreign_passport</th>\n",
       "      <th>NaN_education</th>\n",
       "    </tr>\n",
       "  </thead>\n",
       "  <tbody>\n",
       "    <tr>\n",
       "      <th>0</th>\n",
       "      <td>M</td>\n",
       "      <td>Y</td>\n",
       "      <td>Y</td>\n",
       "      <td>0</td>\n",
       "      <td>N</td>\n",
       "      <td>0</td>\n",
       "    </tr>\n",
       "    <tr>\n",
       "      <th>1</th>\n",
       "      <td>F</td>\n",
       "      <td>N</td>\n",
       "      <td>N</td>\n",
       "      <td>0</td>\n",
       "      <td>N</td>\n",
       "      <td>0</td>\n",
       "    </tr>\n",
       "    <tr>\n",
       "      <th>2</th>\n",
       "      <td>M</td>\n",
       "      <td>Y</td>\n",
       "      <td>Y</td>\n",
       "      <td>0</td>\n",
       "      <td>Y</td>\n",
       "      <td>0</td>\n",
       "    </tr>\n",
       "    <tr>\n",
       "      <th>3</th>\n",
       "      <td>M</td>\n",
       "      <td>N</td>\n",
       "      <td>N</td>\n",
       "      <td>0</td>\n",
       "      <td>N</td>\n",
       "      <td>0</td>\n",
       "    </tr>\n",
       "    <tr>\n",
       "      <th>4</th>\n",
       "      <td>F</td>\n",
       "      <td>N</td>\n",
       "      <td>N</td>\n",
       "      <td>0</td>\n",
       "      <td>N</td>\n",
       "      <td>0</td>\n",
       "    </tr>\n",
       "  </tbody>\n",
       "</table>\n",
       "</div>"
      ],
      "text/plain": [
       "  sex car car_type  good_work foreign_passport  NaN_education\n",
       "0   M   Y        Y          0                N              0\n",
       "1   F   N        N          0                N              0\n",
       "2   M   Y        Y          0                Y              0\n",
       "3   M   N        N          0                N              0\n",
       "4   F   N        N          0                N              0"
      ]
     },
     "execution_count": 46,
     "metadata": {},
     "output_type": "execute_result"
    }
   ],
   "source": [
    "# Исходя из обзора данных создадим список бинарных признаков:\n",
    "bin_columns = ['sex', 'car', 'car_type', 'good_work', 'foreign_passport', 'NaN_education']\n",
    "df[bin_columns].head()"
   ]
  },
  {
   "cell_type": "code",
   "execution_count": 47,
   "metadata": {
    "execution": {
     "iopub.execute_input": "2021-08-18T17:18:07.738164Z",
     "iopub.status.busy": "2021-08-18T17:18:07.737614Z",
     "iopub.status.idle": "2021-08-18T17:18:07.889216Z",
     "shell.execute_reply": "2021-08-18T17:18:07.888396Z",
     "shell.execute_reply.started": "2021-08-18T17:18:07.738124Z"
    }
   },
   "outputs": [
    {
     "name": "stdout",
     "output_type": "stream",
     "text": [
      "{0: 'F', 1: 'M'}\n",
      "{0: 'N', 1: 'Y'}\n",
      "{0: 'N', 1: 'Y'}\n",
      "{0: 0, 1: 1}\n",
      "{0: 'N', 1: 'Y'}\n",
      "{0: 0, 1: 1}\n"
     ]
    },
    {
     "data": {
      "text/html": [
       "<div>\n",
       "<style scoped>\n",
       "    .dataframe tbody tr th:only-of-type {\n",
       "        vertical-align: middle;\n",
       "    }\n",
       "\n",
       "    .dataframe tbody tr th {\n",
       "        vertical-align: top;\n",
       "    }\n",
       "\n",
       "    .dataframe thead th {\n",
       "        text-align: right;\n",
       "    }\n",
       "</style>\n",
       "<table border=\"1\" class=\"dataframe\">\n",
       "  <thead>\n",
       "    <tr style=\"text-align: right;\">\n",
       "      <th></th>\n",
       "      <th>sex</th>\n",
       "      <th>car</th>\n",
       "      <th>car_type</th>\n",
       "      <th>good_work</th>\n",
       "      <th>foreign_passport</th>\n",
       "      <th>NaN_education</th>\n",
       "    </tr>\n",
       "  </thead>\n",
       "  <tbody>\n",
       "    <tr>\n",
       "      <th>0</th>\n",
       "      <td>1</td>\n",
       "      <td>1</td>\n",
       "      <td>1</td>\n",
       "      <td>0</td>\n",
       "      <td>0</td>\n",
       "      <td>0</td>\n",
       "    </tr>\n",
       "    <tr>\n",
       "      <th>1</th>\n",
       "      <td>0</td>\n",
       "      <td>0</td>\n",
       "      <td>0</td>\n",
       "      <td>0</td>\n",
       "      <td>0</td>\n",
       "      <td>0</td>\n",
       "    </tr>\n",
       "    <tr>\n",
       "      <th>2</th>\n",
       "      <td>1</td>\n",
       "      <td>1</td>\n",
       "      <td>1</td>\n",
       "      <td>0</td>\n",
       "      <td>1</td>\n",
       "      <td>0</td>\n",
       "    </tr>\n",
       "    <tr>\n",
       "      <th>3</th>\n",
       "      <td>1</td>\n",
       "      <td>0</td>\n",
       "      <td>0</td>\n",
       "      <td>0</td>\n",
       "      <td>0</td>\n",
       "      <td>0</td>\n",
       "    </tr>\n",
       "    <tr>\n",
       "      <th>4</th>\n",
       "      <td>0</td>\n",
       "      <td>0</td>\n",
       "      <td>0</td>\n",
       "      <td>0</td>\n",
       "      <td>0</td>\n",
       "      <td>0</td>\n",
       "    </tr>\n",
       "  </tbody>\n",
       "</table>\n",
       "</div>"
      ],
      "text/plain": [
       "   sex  car  car_type  good_work  foreign_passport  NaN_education\n",
       "0    1    1         1          0                 0              0\n",
       "1    0    0         0          0                 0              0\n",
       "2    1    1         1          0                 1              0\n",
       "3    1    0         0          0                 0              0\n",
       "4    0    0         0          0                 0              0"
      ]
     },
     "execution_count": 47,
     "metadata": {},
     "output_type": "execute_result"
    }
   ],
   "source": [
    "# проведем Label Encoding бинарных признаков\n",
    "le = LabelEncoder()\n",
    "for column in bin_columns:\n",
    "    df[column] = le.fit_transform(df[column])\n",
    "    print(dict(enumerate(le.classes_)))\n",
    "\n",
    "df[bin_columns].head()"
   ]
  },
  {
   "cell_type": "code",
   "execution_count": 48,
   "metadata": {
    "execution": {
     "iopub.execute_input": "2021-08-18T17:18:07.891207Z",
     "iopub.status.busy": "2021-08-18T17:18:07.890842Z",
     "iopub.status.idle": "2021-08-18T17:18:08.167607Z",
     "shell.execute_reply": "2021-08-18T17:18:08.166519Z",
     "shell.execute_reply.started": "2021-08-18T17:18:07.891169Z"
    }
   },
   "outputs": [
    {
     "data": {
      "image/png": "[encoded data removed]",
      "text/plain": [
       "<Figure size 720x432 with 2 Axes>"
      ]
     },
     "metadata": {
      "needs_background": "light"
     },
     "output_type": "display_data"
    }
   ],
   "source": [
    "# Построим матрицу корреляций для бинарных признаков:\n",
    "f = plt.subplots(figsize=(10, 6))\n",
    "sns.heatmap(df[bin_columns].corr().abs(), vmin=0,\n",
    "            vmax=1, annot=True, fmt=\".2f\", linewidths=0.1);"
   ]
  },
  {
   "cell_type": "markdown",
   "metadata": {},
   "source": [
    "Признаки **car** и **car_type** имеют высокую корреляцию между собой (**0.70**). Уберем из дальнейшего рассмотрения признак **car**, как менее значимый (модель немного улучшилась)."
   ]
  },
  {
   "cell_type": "markdown",
   "metadata": {},
   "source": [
    "## Оценка значимости бинарных признаков"
   ]
  },
  {
   "cell_type": "code",
   "execution_count": 49,
   "metadata": {
    "execution": {
     "iopub.execute_input": "2021-08-18T17:18:08.169328Z",
     "iopub.status.busy": "2021-08-18T17:18:08.168950Z",
     "iopub.status.idle": "2021-08-18T17:18:08.353119Z",
     "shell.execute_reply": "2021-08-18T17:18:08.352442Z",
     "shell.execute_reply.started": "2021-08-18T17:18:08.169268Z"
    }
   },
   "outputs": [
    {
     "data": {
      "image/png": "[encoded data removed]",
      "text/plain": [
       "<Figure size 504x360 with 1 Axes>"
      ]
     },
     "metadata": {
      "needs_background": "light"
     },
     "output_type": "display_data"
    }
   ],
   "source": [
    "# Определим значимость бинарных признаков с помощью функции mutual_info_classif:\n",
    "fig = plt.subplots(figsize=(7, 5))\n",
    "imp_bin = pd.Series(mutual_info_classif(df.query('sample == 1')[bin_columns], df.query('sample == 1')['default'],\n",
    "                                        discrete_features=True), index=bin_columns)\n",
    "imp_bin.sort_values(inplace=True)\n",
    "imp_bin.plot(kind='barh');"
   ]
  },
  {
   "cell_type": "markdown",
   "metadata": {},
   "source": [
    "Уберем признак **NaN_education** так как он незначимый."
   ]
  },
  {
   "cell_type": "code",
   "execution_count": 50,
   "metadata": {
    "execution": {
     "iopub.execute_input": "2021-08-18T17:18:08.354429Z",
     "iopub.status.busy": "2021-08-18T17:18:08.354153Z",
     "iopub.status.idle": "2021-08-18T17:18:08.358457Z",
     "shell.execute_reply": "2021-08-18T17:18:08.357622Z",
     "shell.execute_reply.started": "2021-08-18T17:18:08.354404Z"
    }
   },
   "outputs": [],
   "source": [
    "# Обновим список бинарных признаков:\n",
    "bin_columns.remove('car')\n",
    "bin_columns.remove('NaN_education')"
   ]
  },
  {
   "cell_type": "markdown",
   "metadata": {},
   "source": [
    "**Резюме:** \n",
    "* признак **sex** - пол. Бинарный признак, имеет два значения. В выборке предсатвлено больше женщин, чем мужчин, однако разница небольшая.\n",
    "* признак **car, car_type** - наличие автомобили, флаг иномарки. Бинарные признаки.\n",
    "* признак **good_work**. Бинарный признак, имеет два значения.\n",
    "* признак **foreign_passport**. Бинарный признак, имеет два значения."
   ]
  },
  {
   "cell_type": "markdown",
   "metadata": {},
   "source": [
    "# Подготовка данных к обучению"
   ]
  },
  {
   "cell_type": "code",
   "execution_count": 51,
   "metadata": {
    "execution": {
     "iopub.execute_input": "2021-08-18T17:18:08.360268Z",
     "iopub.status.busy": "2021-08-18T17:18:08.359719Z",
     "iopub.status.idle": "2021-08-18T17:18:08.390543Z",
     "shell.execute_reply": "2021-08-18T17:18:08.389832Z",
     "shell.execute_reply.started": "2021-08-18T17:18:08.360223Z"
    }
   },
   "outputs": [],
   "source": [
    "# Разделим объединенный датасет на тренировочный и тестовый:\n",
    "train = df.query('sample == 1').drop(['sample'], axis=1)\n",
    "test = df.query('sample == 0').drop(['sample', 'default'], axis=1)"
   ]
  },
  {
   "cell_type": "code",
   "execution_count": 52,
   "metadata": {
    "execution": {
     "iopub.execute_input": "2021-08-18T17:18:08.392334Z",
     "iopub.status.busy": "2021-08-18T17:18:08.391960Z",
     "iopub.status.idle": "2021-08-18T17:18:08.418941Z",
     "shell.execute_reply": "2021-08-18T17:18:08.418096Z",
     "shell.execute_reply.started": "2021-08-18T17:18:08.392284Z"
    }
   },
   "outputs": [
    {
     "name": "stdout",
     "output_type": "stream",
     "text": [
      "(73799, 6) (36349, 6)\n"
     ]
    }
   ],
   "source": [
    "# Создадим массив числовых признаков и стандартизируем его при помощи StandardScaler:\n",
    "standart_scaler = StandardScaler()\n",
    "X_train_num = standart_scaler.fit_transform(train[num_columns])\n",
    "X_test_num = standart_scaler.fit_transform(test[num_columns])\n",
    "print(X_train_num.shape, X_test_num.shape)"
   ]
  },
  {
   "cell_type": "code",
   "execution_count": 53,
   "metadata": {
    "execution": {
     "iopub.execute_input": "2021-08-18T17:18:08.421075Z",
     "iopub.status.busy": "2021-08-18T17:18:08.420709Z",
     "iopub.status.idle": "2021-08-18T17:18:08.511554Z",
     "shell.execute_reply": "2021-08-18T17:18:08.510682Z",
     "shell.execute_reply.started": "2021-08-18T17:18:08.421037Z"
    }
   },
   "outputs": [
    {
     "name": "stdout",
     "output_type": "stream",
     "text": [
      "(73799, 37) (36349, 37)\n"
     ]
    }
   ],
   "source": [
    "# Создадим массив категориальных признаков и сделаем OneHotEncoding:\n",
    "ohe = OneHotEncoder(sparse=False).fit(df[cat_columns])\n",
    "X_train_cat = ohe.transform(train[cat_columns])\n",
    "X_test_cat = ohe.transform(test[cat_columns])\n",
    "print(X_train_cat.shape, X_test_cat.shape)"
   ]
  },
  {
   "cell_type": "code",
   "execution_count": 54,
   "metadata": {
    "execution": {
     "iopub.execute_input": "2021-08-18T17:18:08.513695Z",
     "iopub.status.busy": "2021-08-18T17:18:08.513327Z",
     "iopub.status.idle": "2021-08-18T17:18:08.522074Z",
     "shell.execute_reply": "2021-08-18T17:18:08.521054Z",
     "shell.execute_reply.started": "2021-08-18T17:18:08.513657Z"
    }
   },
   "outputs": [
    {
     "name": "stdout",
     "output_type": "stream",
     "text": [
      "(73799, 4) (36349, 4)\n"
     ]
    }
   ],
   "source": [
    "# Создадим массив бинарных признаков:\n",
    "X_train_bin = train[bin_columns].values\n",
    "X_test_bin = test[bin_columns].values\n",
    "print(X_train_bin.shape, X_test_bin.shape)"
   ]
  },
  {
   "cell_type": "code",
   "execution_count": 55,
   "metadata": {
    "execution": {
     "iopub.execute_input": "2021-08-18T17:18:08.524080Z",
     "iopub.status.busy": "2021-08-18T17:18:08.523636Z",
     "iopub.status.idle": "2021-08-18T17:18:08.540559Z",
     "shell.execute_reply": "2021-08-18T17:18:08.539626Z",
     "shell.execute_reply.started": "2021-08-18T17:18:08.524041Z"
    }
   },
   "outputs": [
    {
     "data": {
      "text/plain": [
       "(36349, 47)"
      ]
     },
     "execution_count": 55,
     "metadata": {},
     "output_type": "execute_result"
    }
   ],
   "source": [
    "# Объединяем в одно признаковое пространство тестовую выборку:\n",
    "X_test = np.hstack([X_test_num, X_test_cat,  X_test_bin])\n",
    "X_test.shape"
   ]
  },
  {
   "cell_type": "code",
   "execution_count": 56,
   "metadata": {
    "execution": {
     "iopub.execute_input": "2021-08-18T17:18:08.542507Z",
     "iopub.status.busy": "2021-08-18T17:18:08.542132Z",
     "iopub.status.idle": "2021-08-18T17:18:08.561705Z",
     "shell.execute_reply": "2021-08-18T17:18:08.560684Z",
     "shell.execute_reply.started": "2021-08-18T17:18:08.542470Z"
    }
   },
   "outputs": [
    {
     "name": "stdout",
     "output_type": "stream",
     "text": [
      "(73799, 47) (73799,)\n"
     ]
    }
   ],
   "source": [
    "# Объединяем в одно признаковое пространство тренировочную выборку: \n",
    "X = np.hstack([X_train_num, X_train_cat,  X_train_bin])\n",
    "y = train['default'].values\n",
    "print(X.shape, y.shape)"
   ]
  },
  {
   "cell_type": "code",
   "execution_count": 57,
   "metadata": {
    "execution": {
     "iopub.execute_input": "2021-08-18T17:18:08.563567Z",
     "iopub.status.busy": "2021-08-18T17:18:08.563191Z",
     "iopub.status.idle": "2021-08-18T17:18:45.986785Z",
     "shell.execute_reply": "2021-08-18T17:18:45.986049Z",
     "shell.execute_reply.started": "2021-08-18T17:18:08.563528Z"
    }
   },
   "outputs": [
    {
     "name": "stdout",
     "output_type": "stream",
     "text": [
      "(127444, 47) (127444,)\n"
     ]
    }
   ],
   "source": [
    "# Оversampling  ADASYN:\n",
    "ada = ADASYN(random_state=RANDOM_SEED)\n",
    "X_ada, y_ada = ada.fit_resample(X, y)\n",
    "print(X_ada.shape, y_ada.shape)"
   ]
  },
  {
   "cell_type": "markdown",
   "metadata": {},
   "source": [
    "**Резюме:** для борьбы с дисбалансом выборки были опробированы методы из библиотеки imblearn:\n",
    "* Undersampling: RandomUnderSampler, NearMiss.\n",
    "* Oversampling: RandomOverSampler, SMOTE, ADASYN.\n",
    "\n",
    "Наилучшие результаты показал метод **ADASYN**."
   ]
  },
  {
   "cell_type": "code",
   "execution_count": 58,
   "metadata": {
    "execution": {
     "iopub.execute_input": "2021-08-18T17:18:45.988806Z",
     "iopub.status.busy": "2021-08-18T17:18:45.988437Z",
     "iopub.status.idle": "2021-08-18T17:18:46.015690Z",
     "shell.execute_reply": "2021-08-18T17:18:46.014716Z",
     "shell.execute_reply.started": "2021-08-18T17:18:45.988766Z"
    }
   },
   "outputs": [
    {
     "name": "stdout",
     "output_type": "stream",
     "text": [
      "Размер тренировочной выборки: (89210, 47)\n",
      "Размер валидационной выборки: (38234, 47)\n"
     ]
    }
   ],
   "source": [
    "# Разбиваем данные на тренировочные и валидационные:\n",
    "X_train, X_val, y_train, y_val = train_test_split(X_ada, y_ada, train_size=0.70, random_state=RANDOM_SEED)\n",
    "print(f'Размер тренировочной выборки: {X_train.shape}\\nРазмер валидационной выборки: {X_val.shape}')"
   ]
  },
  {
   "cell_type": "markdown",
   "metadata": {},
   "source": [
    "# Обучение и оценка качества модели"
   ]
  },
  {
   "cell_type": "markdown",
   "metadata": {},
   "source": [
    "### Гиперпараметры"
   ]
  },
  {
   "cell_type": "code",
   "execution_count": 59,
   "metadata": {
    "execution": {
     "iopub.execute_input": "2021-08-18T17:18:46.017687Z",
     "iopub.status.busy": "2021-08-18T17:18:46.017304Z",
     "iopub.status.idle": "2021-08-18T17:18:46.022604Z",
     "shell.execute_reply": "2021-08-18T17:18:46.021675Z",
     "shell.execute_reply.started": "2021-08-18T17:18:46.017649Z"
    }
   },
   "outputs": [],
   "source": [
    "train_model = LogisticRegression(solver='liblinear', max_iter=1000, random_state=RANDOM_SEED)"
   ]
  },
  {
   "cell_type": "code",
   "execution_count": 60,
   "metadata": {
    "execution": {
     "iopub.execute_input": "2021-08-18T17:18:46.024487Z",
     "iopub.status.busy": "2021-08-18T17:18:46.023849Z",
     "iopub.status.idle": "2021-08-18T17:18:46.031701Z",
     "shell.execute_reply": "2021-08-18T17:18:46.031004Z",
     "shell.execute_reply.started": "2021-08-18T17:18:46.024450Z"
    }
   },
   "outputs": [],
   "source": [
    "# Зададим ограничения для параметра регуляризации:\n",
    "C = np.logspace(0, 4, 10)\n",
    "# Добавим типы регуляризации:\n",
    "penalty = ['l1', 'l2']\n",
    "# Создадим гиперпараметры:\n",
    "hyperparameters = dict(C=C, penalty=penalty)"
   ]
  },
  {
   "cell_type": "code",
   "execution_count": 61,
   "metadata": {
    "execution": {
     "iopub.execute_input": "2021-08-18T17:18:46.033421Z",
     "iopub.status.busy": "2021-08-18T17:18:46.032926Z",
     "iopub.status.idle": "2021-08-18T17:26:49.219158Z",
     "shell.execute_reply": "2021-08-18T17:26:49.218395Z",
     "shell.execute_reply.started": "2021-08-18T17:18:46.033384Z"
    }
   },
   "outputs": [],
   "source": [
    "# Создаем сетку поиска с использованием 5-кратной перекрестной проверки:\n",
    "clf = GridSearchCV(train_model, hyperparameters, cv=5)\n",
    "best_train_model = clf.fit(X_train, y_train).best_estimator_"
   ]
  },
  {
   "cell_type": "code",
   "execution_count": 62,
   "metadata": {
    "execution": {
     "iopub.execute_input": "2021-08-18T17:26:49.221018Z",
     "iopub.status.busy": "2021-08-18T17:26:49.220672Z",
     "iopub.status.idle": "2021-08-18T17:26:49.227954Z",
     "shell.execute_reply": "2021-08-18T17:26:49.226964Z",
     "shell.execute_reply.started": "2021-08-18T17:26:49.220982Z"
    }
   },
   "outputs": [
    {
     "name": "stdout",
     "output_type": "stream",
     "text": [
      "\tC: 1.0\n",
      "\tclass_weight: None\n",
      "\tdual: False\n",
      "\tfit_intercept: True\n",
      "\tintercept_scaling: 1\n",
      "\tl1_ratio: None\n",
      "\tmax_iter: 1000\n",
      "\tmulti_class: 'auto'\n",
      "\tn_jobs: None\n",
      "\tpenalty: 'l1'\n",
      "\trandom_state: 42\n",
      "\tsolver: 'liblinear'\n",
      "\ttol: 0.0001\n",
      "\tverbose: 0\n",
      "\twarm_start: False\n"
     ]
    }
   ],
   "source": [
    "# Посмотрим на лучшие гиперпараметры:\n",
    "best_parameters = best_train_model.get_params()\n",
    "for param_name in sorted(best_parameters.keys()):\n",
    "        print('\\t%s: %r' % (param_name, best_parameters[param_name]))"
   ]
  },
  {
   "cell_type": "markdown",
   "metadata": {},
   "source": [
    "### Обучение модели"
   ]
  },
  {
   "cell_type": "code",
   "execution_count": 90,
   "metadata": {
    "execution": {
     "iopub.execute_input": "2021-08-18T17:33:23.242705Z",
     "iopub.status.busy": "2021-08-18T17:33:23.242356Z",
     "iopub.status.idle": "2021-08-18T17:33:37.365100Z",
     "shell.execute_reply": "2021-08-18T17:33:37.364276Z",
     "shell.execute_reply.started": "2021-08-18T17:33:23.242675Z"
    }
   },
   "outputs": [
    {
     "data": {
      "text/plain": [
       "LogisticRegression(class_weight='balanced', max_iter=1000, penalty='l1',\n",
       "                   random_state=42, solver='liblinear')"
      ]
     },
     "execution_count": 90,
     "metadata": {},
     "output_type": "execute_result"
    }
   ],
   "source": [
    "train_model = LogisticRegression(solver='liblinear', penalty=best_parameters['penalty'], C=best_parameters['C'],\n",
    "                                class_weight='balanced', max_iter=1000, random_state=RANDOM_SEED)\n",
    "train_model.fit(X_train, y_train)"
   ]
  },
  {
   "cell_type": "code",
   "execution_count": 91,
   "metadata": {
    "execution": {
     "iopub.execute_input": "2021-08-18T17:33:37.367233Z",
     "iopub.status.busy": "2021-08-18T17:33:37.366881Z",
     "iopub.status.idle": "2021-08-18T17:33:37.379190Z",
     "shell.execute_reply": "2021-08-18T17:33:37.378538Z",
     "shell.execute_reply.started": "2021-08-18T17:33:37.367195Z"
    }
   },
   "outputs": [],
   "source": [
    "y_pred = train_model.predict(X_val)\n",
    "y_pred_proba = train_model.predict_proba(X_val)"
   ]
  },
  {
   "cell_type": "markdown",
   "metadata": {},
   "source": [
    "### Оценка качества модели"
   ]
  },
  {
   "cell_type": "markdown",
   "metadata": {},
   "source": [
    "В качестве методов оценки прогностической способности модели используем ROC-анализ. Классификатор имеет параметр порог отсечения. Изменяя его значение, мы получаем то или иное разбиение на два класса — класс с положительными исходами и класс с отрицательными исходами.\n",
    "\n",
    "<img src=\"https://habrastorage.org/web/299/157/fad/299157fad56a4ecca8f6b96b425bd38c.png\" alt=\"ROC AUC\" width=\"600\" align=\"center\">\n",
    "\n",
    "В нашем примере положительным исходом будет наличие дефолта у заемщика, отрицательным — отсутствие дефолта."
   ]
  },
  {
   "cell_type": "code",
   "execution_count": 92,
   "metadata": {
    "execution": {
     "iopub.execute_input": "2021-08-18T17:33:51.688397Z",
     "iopub.status.busy": "2021-08-18T17:33:51.688039Z",
     "iopub.status.idle": "2021-08-18T17:33:51.849774Z",
     "shell.execute_reply": "2021-08-18T17:33:51.848628Z",
     "shell.execute_reply.started": "2021-08-18T17:33:51.688361Z"
    }
   },
   "outputs": [
    {
     "name": "stdout",
     "output_type": "stream",
     "text": [
      "balanced_accuracy_score: 0.676\n",
      "cohen_kappa_score: 0.352\n",
      "precision_score: 0.664\n",
      "recall_score: 0.689\n",
      "f1_score: 0.676\n",
      "roc_auc_score: 0.73665\n"
     ]
    }
   ],
   "source": [
    "# Оценка качества:\n",
    "print('balanced_accuracy_score: %0.3f' % balanced_accuracy_score(y_val, y_pred))\n",
    "print('cohen_kappa_score: %0.3f' % cohen_kappa_score(y_val, y_pred))\n",
    "print('precision_score: %0.3f' % precision_score(y_val, y_pred))\n",
    "print('recall_score: %0.3f' % recall_score(y_val, y_pred))\n",
    "print('f1_score: %0.3f' % f1_score(y_val, y_pred))\n",
    "print('roc_auc_score: %0.5f' % roc_auc_score(y_val, y_pred_proba[:, 1]))\n",
    "fpr, tpr, threshold = roc_curve(y_val, y_pred_proba[:, 1])"
   ]
  },
  {
   "cell_type": "code",
   "execution_count": 93,
   "metadata": {
    "execution": {
     "iopub.execute_input": "2021-08-18T17:33:52.536899Z",
     "iopub.status.busy": "2021-08-18T17:33:52.536443Z",
     "iopub.status.idle": "2021-08-18T17:33:52.943227Z",
     "shell.execute_reply": "2021-08-18T17:33:52.942348Z",
     "shell.execute_reply.started": "2021-08-18T17:33:52.536856Z"
    }
   },
   "outputs": [
    {
     "data": {
      "image/png": "[encoded data removed]",
      "text/plain": [
       "<Figure size 576x432 with 1 Axes>"
      ]
     },
     "metadata": {
      "needs_background": "light"
     },
     "output_type": "display_data"
    }
   ],
   "source": [
    "# Визаулизация ROC AUC:\n",
    "fig = plt.subplots(figsize=(8, 6))\n",
    "plt.plot([0, 1], label='Baseline', linestyle='--')\n",
    "plt.plot(fpr, tpr, label = 'LogisticRegression')\n",
    "plt.title(f'Logistic Regression ROC AUC = {roc_auc_score(y_val, y_pred_proba[:, 1]):0.3f}')\n",
    "plt.ylabel('True Positive Rate')\n",
    "plt.xlabel('False Positive Rate')\n",
    "plt.legend(loc = 'lower right');"
   ]
  },
  {
   "cell_type": "code",
   "execution_count": 94,
   "metadata": {
    "execution": {
     "iopub.execute_input": "2021-08-18T17:33:53.241610Z",
     "iopub.status.busy": "2021-08-18T17:33:53.241088Z",
     "iopub.status.idle": "2021-08-18T17:33:53.501317Z",
     "shell.execute_reply": "2021-08-18T17:33:53.500632Z",
     "shell.execute_reply.started": "2021-08-18T17:33:53.241569Z"
    }
   },
   "outputs": [
    {
     "data": {
      "image/png": "[encoded data removed]",
      "text/plain": [
       "<Figure size 576x432 with 2 Axes>"
      ]
     },
     "metadata": {
      "needs_background": "light"
     },
     "output_type": "display_data"
    }
   ],
   "source": [
    "# Confusion matrix:\n",
    "fig = plt.subplots(figsize=(8, 6))\n",
    "sns.set_context(context='paper', font_scale=2, rc=None)\n",
    "group_names = ['True Neg', 'False Pos', 'False Neg', 'True Pos']\n",
    "group_counts = ['{0:0.0f}'.format(value) for value in\n",
    "                confusion_matrix(y_val, y_pred).flatten()]\n",
    "labels = [f'{v1}\\n{v2}' for v1, v2 in\n",
    "          zip(group_names, group_counts)]\n",
    "labels = np.asarray(labels).reshape(2, 2)\n",
    "sns.heatmap(confusion_matrix(y_val, y_pred), annot=labels, fmt='', cmap='Greens');"
   ]
  },
  {
   "cell_type": "code",
   "execution_count": 95,
   "metadata": {
    "execution": {
     "iopub.execute_input": "2021-08-18T17:33:54.121242Z",
     "iopub.status.busy": "2021-08-18T17:33:54.120923Z",
     "iopub.status.idle": "2021-08-18T17:33:54.189749Z",
     "shell.execute_reply": "2021-08-18T17:33:54.188629Z",
     "shell.execute_reply.started": "2021-08-18T17:33:54.121211Z"
    }
   },
   "outputs": [
    {
     "name": "stdout",
     "output_type": "stream",
     "text": [
      "Предсказано, что 6557 или 33.72% по факту вернувших кредит клиентов не вернут его.\n",
      "Предсказано, что 5837 или 31.07% по факту не вернувших кредит клиентов вернут его.\n"
     ]
    }
   ],
   "source": [
    "tn, fp, fn, tp = confusion_matrix(y_val, y_pred).flatten()\n",
    "print(f'Предсказано, что {fp} или {round((fp/(fp+tn))*100, 2)}% по факту вернувших кредит клиентов не вернут его.')\n",
    "print(f'Предсказано, что {fn} или {round((1-recall_score(y_val, y_pred))*100, 2)}% по факту не вернувших кредит клиентов вернут его.')"
   ]
  },
  {
   "cell_type": "markdown",
   "metadata": {},
   "source": [
    "# Submission"
   ]
  },
  {
   "cell_type": "code",
   "execution_count": 96,
   "metadata": {
    "execution": {
     "iopub.execute_input": "2021-08-18T17:33:55.354894Z",
     "iopub.status.busy": "2021-08-18T17:33:55.354572Z",
     "iopub.status.idle": "2021-08-18T17:33:55.365178Z",
     "shell.execute_reply": "2021-08-18T17:33:55.364133Z",
     "shell.execute_reply.started": "2021-08-18T17:33:55.354863Z"
    }
   },
   "outputs": [],
   "source": [
    "test['default'] = train_model.predict_proba(X_test)[:, 1]"
   ]
  },
  {
   "cell_type": "code",
   "execution_count": 97,
   "metadata": {
    "execution": {
     "iopub.execute_input": "2021-08-18T17:33:58.258504Z",
     "iopub.status.busy": "2021-08-18T17:33:58.258142Z",
     "iopub.status.idle": "2021-08-18T17:33:58.271142Z",
     "shell.execute_reply": "2021-08-18T17:33:58.270228Z",
     "shell.execute_reply.started": "2021-08-18T17:33:58.258472Z"
    }
   },
   "outputs": [
    {
     "data": {
      "text/html": [
       "<div>\n",
       "<style scoped>\n",
       "    .dataframe tbody tr th:only-of-type {\n",
       "        vertical-align: middle;\n",
       "    }\n",
       "\n",
       "    .dataframe tbody tr th {\n",
       "        vertical-align: top;\n",
       "    }\n",
       "\n",
       "    .dataframe thead th {\n",
       "        text-align: right;\n",
       "    }\n",
       "</style>\n",
       "<table border=\"1\" class=\"dataframe\">\n",
       "  <thead>\n",
       "    <tr style=\"text-align: right;\">\n",
       "      <th></th>\n",
       "      <th>client_id</th>\n",
       "      <th>default</th>\n",
       "    </tr>\n",
       "  </thead>\n",
       "  <tbody>\n",
       "    <tr>\n",
       "      <th>3954</th>\n",
       "      <td>54658</td>\n",
       "      <td>0.432765</td>\n",
       "    </tr>\n",
       "    <tr>\n",
       "      <th>25107</th>\n",
       "      <td>23353</td>\n",
       "      <td>0.369957</td>\n",
       "    </tr>\n",
       "    <tr>\n",
       "      <th>11911</th>\n",
       "      <td>65600</td>\n",
       "      <td>0.369834</td>\n",
       "    </tr>\n",
       "    <tr>\n",
       "      <th>9505</th>\n",
       "      <td>99290</td>\n",
       "      <td>0.640212</td>\n",
       "    </tr>\n",
       "    <tr>\n",
       "      <th>1446</th>\n",
       "      <td>1881</td>\n",
       "      <td>0.030663</td>\n",
       "    </tr>\n",
       "    <tr>\n",
       "      <th>9148</th>\n",
       "      <td>107507</td>\n",
       "      <td>0.327009</td>\n",
       "    </tr>\n",
       "    <tr>\n",
       "      <th>240</th>\n",
       "      <td>97402</td>\n",
       "      <td>0.613825</td>\n",
       "    </tr>\n",
       "    <tr>\n",
       "      <th>2371</th>\n",
       "      <td>94752</td>\n",
       "      <td>0.166055</td>\n",
       "    </tr>\n",
       "    <tr>\n",
       "      <th>26709</th>\n",
       "      <td>78856</td>\n",
       "      <td>0.245619</td>\n",
       "    </tr>\n",
       "    <tr>\n",
       "      <th>21941</th>\n",
       "      <td>95629</td>\n",
       "      <td>0.218497</td>\n",
       "    </tr>\n",
       "  </tbody>\n",
       "</table>\n",
       "</div>"
      ],
      "text/plain": [
       "       client_id   default\n",
       "3954       54658  0.432765\n",
       "25107      23353  0.369957\n",
       "11911      65600  0.369834\n",
       "9505       99290  0.640212\n",
       "1446        1881  0.030663\n",
       "9148      107507  0.327009\n",
       "240        97402  0.613825\n",
       "2371       94752  0.166055\n",
       "26709      78856  0.245619\n",
       "21941      95629  0.218497"
      ]
     },
     "metadata": {},
     "output_type": "display_data"
    }
   ],
   "source": [
    "submission = test[['client_id', 'default']]\n",
    "display(submission.sample(10))"
   ]
  },
  {
   "cell_type": "code",
   "execution_count": 82,
   "metadata": {
    "execution": {
     "iopub.execute_input": "2021-08-18T17:29:24.464164Z",
     "iopub.status.busy": "2021-08-18T17:29:24.463841Z",
     "iopub.status.idle": "2021-08-18T17:29:24.602979Z",
     "shell.execute_reply": "2021-08-18T17:29:24.602251Z",
     "shell.execute_reply.started": "2021-08-18T17:29:24.464131Z"
    }
   },
   "outputs": [],
   "source": [
    "submission.to_csv('submission.csv', index=False)"
   ]
  }
 ],
 "metadata": {
  "kernelspec": {
   "display_name": "Python 3",
   "language": "python",
   "name": "python3"
  },
  "latex_envs": {
   "LaTeX_envs_menu_present": true,
   "autoclose": false,
   "autocomplete": true,
   "bibliofile": "biblio.bib",
   "cite_by": "apalike",
   "current_citInitial": 1,
   "eqLabelWithNumbers": true,
   "eqNumInitial": 1,
   "hotkeys": {
    "equation": "Ctrl-E",
    "itemize": "Ctrl-I"
   },
   "labels_anchors": false,
   "latex_user_defs": false,
   "report_style_numbering": false,
   "user_envs_cfg": false
  },
  "toc": {
   "base_numbering": 1,
   "nav_menu": {},
   "number_sections": true,
   "sideBar": true,
   "skip_h1_title": false,
   "title_cell": "Table of Contents",
   "title_sidebar": "Contents",
   "toc_cell": false,
   "toc_position": {},
   "toc_section_display": true,
   "toc_window_display": false
  }
 },
 "nbformat": 4,
 "nbformat_minor": 4
}

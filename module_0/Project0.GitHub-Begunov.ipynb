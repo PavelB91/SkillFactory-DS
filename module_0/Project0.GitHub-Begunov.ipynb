{
 "cells": [
  {
   "cell_type": "code",
   "execution_count": 14,
   "metadata": {},
   "outputs": [
    {
     "name": "stdout",
     "output_type": "stream",
     "text": [
      "Алгоритм угадывает число в среднем за 5 попыток\n"
     ]
    },
    {
     "data": {
      "text/plain": [
       "5"
      ]
     },
     "execution_count": 14,
     "metadata": {},
     "output_type": "execute_result"
    }
   ],
   "source": [
    "import numpy as np\n",
    "\n",
    "\n",
    "def game_core(number):\n",
    "    '''The function takes a guess and returns the number of attempts.\n",
    "    \n",
    "    The number is set equal to half of the guessed range, and then\n",
    "    we change it, depending on whether it is greater or less than\n",
    "    the required one, by about two times.\n",
    "    \n",
    "    '''\n",
    "    count = 1\n",
    "    predict = 50  \n",
    "    mid_range = predict / 2  # average for ranges 1 - 49 or 51 - 100 \n",
    "    while number != predict:\n",
    "        count += 1\n",
    "        if number > predict:\n",
    "            predict, mid_range = predict + mid_range, np.ceil(mid_range / 2)\n",
    "        elif number < predict:\n",
    "            predict, mid_range = predict - mid_range, np.ceil(mid_range / 2)\n",
    "    return count\n",
    "\n",
    "\n",
    "def score_game(game_core):\n",
    "    '''Run the game 1000 times to find out how quickly the game guesses the number'''\n",
    "    count_ls = []\n",
    "    np.random.seed(1)  # fix the RANDOM SEED so that the experiment is reproducible!\n",
    "    random_array = np.random.randint(1,101, size=(1000))\n",
    "    for number in random_array:\n",
    "        count_ls.append(game_core(number))\n",
    "    score = int(np.mean(count_ls))\n",
    "    print(f\"Алгоритм угадывает число в среднем за {score} попыток\")\n",
    "    return(score)\n",
    "\n",
    "\n",
    "score_game(game_core)"
   ]
  },
  {
   "cell_type": "code",
   "execution_count": null,
   "metadata": {},
   "outputs": [],
   "source": []
  }
 ],
 "metadata": {
  "kernelspec": {
   "display_name": "Python 3",
   "language": "python",
   "name": "python3"
  },
  "language_info": {
   "codemirror_mode": {
    "name": "ipython",
    "version": 3
   },
   "file_extension": ".py",
   "mimetype": "text/x-python",
   "name": "python",
   "nbconvert_exporter": "python",
   "pygments_lexer": "ipython3",
   "version": "3.8.5"
  }
 },
 "nbformat": 4,
 "nbformat_minor": 4
}
